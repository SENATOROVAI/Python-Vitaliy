{
 "cells": [
  {
   "cell_type": "code",
   "execution_count": null,
   "metadata": {},
   "outputs": [],
   "source": [
    "# difference() — возвращает разность между двумя множествами.\n",
    "\n",
    "set1 = {1, 2, 3, 4, 5}\n",
    "set2 = {4, 5, 6, 7, 8}\n",
    "diff_set1_set2 = set1.difference(set2)\n",
    "print(diff_set1_set2)  # выведет {1, 2, 3}"
   ]
  },
  {
   "cell_type": "code",
   "execution_count": null,
   "metadata": {},
   "outputs": [],
   "source": [
    "fruits = {\"apple\", \"banana\", \"cherry\"}\n",
    "fruits.discard(\"banana\")\n",
    "print(fruits)  # выведет {'cherry', 'apple'}\n",
    "\n",
    "fruits = {\"apple\", \"banana\", \"cherry\"}\n",
    "fruits.discard(\"aaaaaaaa\")\n",
    "print(fruits)  # выведет {'cherry', 'banana', 'apple'}"
   ]
  },
  {
   "cell_type": "code",
   "execution_count": null,
   "metadata": {},
   "outputs": [],
   "source": [
    "set1 = {1, 2, 3, 4, 5}\n",
    "set2 = {4, 5, 6, 7, 8}\n",
    "intersection_set = set1.intersection(set2)\n",
    "print(intersection_set)  # выведет {4, 5}"
   ]
  },
  {
   "cell_type": "code",
   "execution_count": null,
   "metadata": {},
   "outputs": [],
   "source": [
    "# isdisjoint() — возвращает True, если два множества не имеют общих элементов.\n",
    "\n",
    "set1 = {1, 2, 3}\n",
    "set2 = {4, 5, 6}\n",
    "disjoint_sets = set1.isdisjoint(set2)\n",
    "print(disjoint_sets)  # выведет True"
   ]
  },
  {
   "cell_type": "code",
   "execution_count": 3,
   "metadata": {},
   "outputs": [
    {
     "name": "stdout",
     "output_type": "stream",
     "text": [
      "True\n"
     ]
    }
   ],
   "source": [
    "# issubset() — возвращает True, если одно множество является подмножеством друг\n",
    "\n",
    "set1 = {1, 2, 3, 4, 5}\n",
    "set2 = {1, 2, 3}\n",
    "\n",
    "result = set2.issubset(set1)\n",
    "print(result)  # выведет True"
   ]
  },
  {
   "cell_type": "code",
   "execution_count": null,
   "metadata": {},
   "outputs": [],
   "source": [
    "my_list = [5, 2, 8, 1, 9]\n",
    "sorted_list = sorted(my_list)\n",
    "print(sorted_list)  # выведет [1, 2, 5, 8, 9]\n",
    "sorted_list_descending = sorted(my_list, reverse=True)\n",
    "print(sorted_list_descending)  # выведет [9, 8, 5, 2, 1]\n",
    "\n",
    "# А вот если отсортировать множество, то получится список!\n",
    "\n",
    "my_set = {1, 1, 2, 2}\n",
    "print(sorted(my_set))  # выведет [1, 2]"
   ]
  },
  {
   "cell_type": "code",
   "execution_count": 4,
   "metadata": {},
   "outputs": [
    {
     "name": "stdout",
     "output_type": "stream",
     "text": [
      "[-2, 1, 2, 3]\n",
      "[1, 2, 3, -2]\n",
      "None\n",
      "[-2, 1, 2, 3]\n"
     ]
    }
   ],
   "source": [
    "my_list = [1, 2, 3, -2]\n",
    "\n",
    "# так правильно\n",
    "my_list_ordered = sorted(\n",
    "    my_list\n",
    ")  # функция sorted возвращает новый список, не изменяет список my_list\n",
    "print(my_list_ordered)  # получим [-2, 1, 2, 3]\n",
    "print(my_list)  # получим [1, 2, 3, -2]\n",
    "\n",
    "# так неправильно\n",
    "my_list_ordered = (\n",
    "    my_list.sort()\n",
    ")  # метод sort ничего не возвращает, а только изменяет список my_list\n",
    "print(my_list_ordered)  # получим None\n",
    "print(my_list)  # получим [-2, 1, 2, 3]"
   ]
  },
  {
   "cell_type": "markdown",
   "metadata": {},
   "source": [
    "Создание словарей в Python может быть выполнено несколькими способами:\n",
    "\n",
    "1. **Литералы словаря:**\n",
    "   ```python\n",
    "   my_dict = {'name': 'John', 'age': 30, 'city': 'New York'}\n",
    "   ```\n",
    "\n",
    "2. **Функция `dict()`:**\n",
    "   ```python\n",
    "   empty_dict = dict()\n",
    "   fruit_dict = dict([('apple', 5), ('banana', 3), ('orange', 2)])\n",
    "   ```\n",
    "\n",
    "3. **Метод `fromkeys()`:**\n",
    "   ```python\n",
    "   keys = ['x', 'y', 'z']\n",
    "   default_value = 0\n",
    "   my_dict = dict.fromkeys(keys, default_value)\n",
    "   ```\n",
    "\n",
    "Каждый из этих методов предоставляет гибкость при создании словарей в зависимости от требований задачи."
   ]
  },
  {
   "cell_type": "markdown",
   "metadata": {},
   "source": [
    "```markdown\n",
    "### get()\n",
    "```python\n",
    "my_dict = {\"one\": 1, \"two\": 2, \"three\": 3}\n",
    "print(my_dict.get(\"two\"))  # Вывод: 2 (получение значения по ключу, без возвращения ошибки)\n",
    "\n",
    "### keys()\n",
    "```python\n",
    "my_dict = {\"one\": 1, \"two\": 2, \"three\": 3}\n",
    "print(my_dict.keys())  # Вывод: ['one', 'two', 'three'] (возвращает список всех ключей)\n",
    "\n",
    "### values()\n",
    "```python\n",
    "my_dict = {\"one\": 1, \"two\": 2, \"three\": 3}\n",
    "print(my_dict.values())  # Вывод: [1, 2, 3] (возвращает список всех значений)\n",
    "\n",
    "### items()\n",
    "```python\n",
    "my_dict = {\"one\": 1, \"two\": 2, \"three\": 3}\n",
    "print(my_dict.items())  # Вывод: [('one', 1), ('two', 2), ('three', 3)] (возвращает список кортежей ключ-значение)\n",
    "\n",
    "### pop()\n",
    "```python\n",
    "my_dict = {\"one\": 1, \"two\": 2, \"three\": 3}\n",
    "print(my_dict.pop(\"two\"))  # Вывод: 2 (удаляет элемент по ключу и возвращает его значение)\n",
    "\n",
    "### clear()\n",
    "```python\n",
    "my_dict = {\"one\": 1, \"two\": 2, \"three\": 3}\n",
    "my_dict.clear()\n",
    "print(my_dict)  # Вывод: {} (удаляет все элементы словаря)\n",
    "\n",
    "### update()\n",
    "```python\n",
    "my_dict = {\"one\": 1, \"two\": 2, \"three\": 3}\n",
    "new_dict = {\"two\": 22, \"four\": 4}\n",
    "my_dict.update(new_dict)\n",
    "print(my_dict)  # Вывод: {'one': 1, 'two': 22, 'three': 3, 'four': 4} (объединяет словарь с другими словарями или ключ-значение парами)\n",
    "\n",
    "### copy()\n",
    "```python\n",
    "my_dict = {\"one\": 1, \"two\": 2, \"three\": 3}\n",
    "new_dict = my_dict.copy()\n",
    "print(new_dict)  # Вывод: {'one': 1, 'two': 2, 'three': 3} (создает копию словаря)\n",
    "\n",
    "### setdefault()\n",
    "```python\n",
    "my_dict = {\"one\": 1, \"two\": 2, \"three\": 3}\n",
    "value = my_dict.setdefault(\"four\", 4)\n",
    "print(value)  # Вывод: 4 (возвращает значение по ключу, вставляет ключ со значением, если ключ отсутствует)\n",
    "print(my_dict)  # Вывод: {'one': 1, 'two': 2, 'three': 3, 'four': 4}\n",
    "```"
   ]
  },
  {
   "cell_type": "markdown",
   "metadata": {},
   "source": [
    "```markdown\n",
    "### Использование frozenset в качестве ключа словаря\n",
    "\n",
    "При использовании frozenset в качестве ключа словаря можно хранить пару значений, например, имя пользователя и его возраст. Это полезно, если нужно создать словарь с составным ключом.\n",
    "\n",
    "```python\n",
    "students_courses = {}\n",
    "name_age = frozenset(['Anatoly', 32])\n",
    "students_courses.update({name_age: ['Python', 'C++']})\n",
    "print(students_courses)  # => {frozenset({32, 'Anatoly'}): ['Python', 'C++']}\n",
    "```\n",
    "\n",
    "Этот пример демонстрирует практическое применение frozenset, когда нужно использовать массив из нескольких элементов в качестве ключа словаря. Обычные списки или set не могут быть использованы в качестве ключей для словаря.\n",
    "```"
   ]
  },
  {
   "cell_type": "code",
   "execution_count": 11,
   "metadata": {},
   "outputs": [
    {
     "data": {
      "text/plain": [
       "'************5833'"
      ]
     },
     "execution_count": 11,
     "metadata": {},
     "output_type": "execute_result"
    }
   ],
   "source": [
    "card = \"5468350018455833\"\n",
    "result = \"*\" * (len(card) - 4) + card[-4:]\n",
    "result"
   ]
  },
  {
   "cell_type": "code",
   "execution_count": 12,
   "metadata": {},
   "outputs": [
    {
     "name": "stdout",
     "output_type": "stream",
     "text": [
      "Key with target grade: Bob\n"
     ]
    }
   ],
   "source": [
    "students = {\"Alice\": \"A\", \"Bob\": \"B\", \"Charlie\": \"C\", \"Dave\": \"B\", \"Eve\": \"A\"}\n",
    "\n",
    "target_grade = \"B\"\n",
    "\n",
    "keys = list(students.keys())\n",
    "index = list(students.values()).index(target_grade)\n",
    "key = keys[index]\n",
    "\n",
    "print(\"Key with target grade:\", key)"
   ]
  },
  {
   "cell_type": "code",
   "execution_count": 14,
   "metadata": {},
   "outputs": [
    {
     "ename": "ValueError",
     "evalue": "'' is not in list",
     "output_type": "error",
     "traceback": [
      "\u001b[0;31m---------------------------------------------------------------------------\u001b[0m",
      "\u001b[0;31mValueError\u001b[0m                                Traceback (most recent call last)",
      "Cell \u001b[0;32mIn[14], line 20\u001b[0m\n\u001b[1;32m     16\u001b[0m \u001b[38;5;28;01mif\u001b[39;00m \u001b[38;5;28mlen\u001b[39m(num_values) \u001b[38;5;241m==\u001b[39m \u001b[38;5;241m3\u001b[39m:\n\u001b[1;32m     17\u001b[0m     mid \u001b[38;5;241m=\u001b[39m num_values[\u001b[38;5;241m1\u001b[39m]\n\u001b[0;32m---> 20\u001b[0m index \u001b[38;5;241m=\u001b[39m \u001b[38;5;28;43mlist\u001b[39;49m\u001b[43m(\u001b[49m\u001b[43mstudents\u001b[49m\u001b[38;5;241;43m.\u001b[39;49m\u001b[43mvalues\u001b[49m\u001b[43m(\u001b[49m\u001b[43m)\u001b[49m\u001b[43m)\u001b[49m\u001b[38;5;241;43m.\u001b[39;49m\u001b[43mindex\u001b[49m\u001b[43m(\u001b[49m\u001b[43mmid\u001b[49m\u001b[43m)\u001b[49m\n\u001b[1;32m     24\u001b[0m \u001b[38;5;28;01mif\u001b[39;00m num_values\u001b[38;5;241m==\u001b[39m\u001b[38;5;241m2\u001b[39m:\n\u001b[1;32m     25\u001b[0m     \u001b[38;5;28mprint\u001b[39m(result)\n",
      "\u001b[0;31mValueError\u001b[0m: '' is not in list"
     ]
    }
   ],
   "source": [
    "dict_age = {\"Антон\": 5, \"Денис\": 14, \"Борис\": 9}\n",
    "\n",
    "\n",
    "dict_age = {\"Марк\": 5, \"Авель\": 5, \"Карп\": 9}\n",
    "\n",
    "\n",
    "num_values = sorted(list(set(dict_age.values())))\n",
    "result = \"\"\n",
    "\n",
    "mid = num_values[1]\n",
    "\n",
    "index = list(dict_age.values()).index(mid)\n",
    "\n",
    "\n",
    "if num_values == 2:\n",
    "    print(result)\n",
    "else:\n",
    "    result = keys[mid]"
   ]
  },
  {
   "cell_type": "code",
   "execution_count": 19,
   "metadata": {},
   "outputs": [
    {
     "name": "stdout",
     "output_type": "stream",
     "text": [
      "False\n"
     ]
    }
   ],
   "source": [
    "a = int(input())\n",
    "b = int(input())\n",
    "c = int(input())\n",
    "\n",
    "triangle_list = [a, b, c]\n",
    "\n",
    "max_n = max(triangle_list)\n",
    "\n",
    "triangle_list.remove(max_n)\n",
    "\n",
    "side_1 = triangle_list[0]\n",
    "side_2 = triangle_list[1]\n",
    "\n",
    "\n",
    "if max_n**2 == side_1**2 + side_2**2:\n",
    "    result = True\n",
    "else:\n",
    "    result = False\n",
    "\n",
    "print(result)"
   ]
  },
  {
   "cell_type": "code",
   "execution_count": 71,
   "metadata": {},
   "outputs": [
    {
     "name": "stdout",
     "output_type": "stream",
     "text": [
      "7\n",
      "Это простое число\n"
     ]
    }
   ],
   "source": [
    "num = 5\n",
    "\n",
    "original_num = num\n",
    "\n",
    "count = 0\n",
    "\n",
    "while num >= 1 and count <= 2:\n",
    "    if num % 2 == 0:\n",
    "        count += 1\n",
    "        num = num / 2  \n",
    "    elif num % 3 == 0:\n",
    "        count += 1\n",
    "        num = num / 3  \n",
    "    elif num % 5 == 0:\n",
    "        count += 1\n",
    "        num = num / 5  \n",
    "    else:\n",
    "        break\n",
    "\n",
    "print(original_num)\n",
    "\n",
    "if original_num <= 3 or original_num == 5:\n",
    "    result = \"Это простое число\"\n",
    "elif count >= 1 :\n",
    "    result = \"Это не простое число\"\n",
    "else:\n",
    "    result = \"Это простое число\"\n",
    "\n",
    "print(result)"
   ]
  },
  {
   "cell_type": "code",
   "execution_count": 95,
   "metadata": {},
   "outputs": [
    {
     "name": "stdout",
     "output_type": "stream",
     "text": [
      "Степень двойки\n"
     ]
    }
   ],
   "source": [
    "n = int(input())\n",
    "\n",
    "while n > 1:\n",
    "    n /= 2\n",
    "\n",
    "if n == 1.0:\n",
    "    print(\"Степень двойки\")\n",
    "else:\n",
    "    print(\" Не степень двойки \")\n",
    "\n"
   ]
  },
  {
   "cell_type": "code",
   "execution_count": 97,
   "metadata": {},
   "outputs": [
    {
     "name": "stdout",
     "output_type": "stream",
     "text": [
      "['Математика', 'География']\n"
     ]
    }
   ],
   "source": [
    "grades = {\"Математика\": 4, \"История\": 3, \"Биология\": 3, \"География\": 4}\n",
    "\n",
    "\n",
    "good_subject = []\n",
    "\n",
    "for key, value in grades.items():\n",
    "    if value >= 4:\n",
    "        good_subject.append(key)\n",
    "\n",
    "print(good_subject)\n"
   ]
  },
  {
   "cell_type": "code",
   "execution_count": 98,
   "metadata": {},
   "outputs": [
    {
     "name": "stdout",
     "output_type": "stream",
     "text": [
      "inf\n"
     ]
    }
   ],
   "source": [
    "x = float('inf')\n",
    "\n",
    "print(x)"
   ]
  },
  {
   "cell_type": "code",
   "execution_count": 103,
   "metadata": {},
   "outputs": [
    {
     "name": "stdout",
     "output_type": "stream",
     "text": [
      "7\n",
      "7\n"
     ]
    }
   ],
   "source": [
    "\n",
    "list_ = [[1, 23, 4], \n",
    "         [3, 2, 1],\n",
    "         [1, 3, 4]]\n",
    "\n",
    "diagonal_1 = 0\n",
    "\n",
    "diagonal_2 = 0\n",
    "\n",
    "for i in range(len(list_)):\n",
    "    add_ = list_[i][i]\n",
    "    diagonal_1 += add_\n",
    "\n",
    "for i in range(len(list_)):\n",
    "    k = len(list_) - 1 - i  \n",
    "    add_ = list_[i][k]\n",
    "    diagonal_2 += add_\n",
    "\n",
    "print(diagonal_1)\n",
    "print(diagonal_2)\n",
    "\n",
    "\n"
   ]
  },
  {
   "cell_type": "code",
   "execution_count": 106,
   "metadata": {},
   "outputs": [
    {
     "name": "stdout",
     "output_type": "stream",
     "text": [
      "имя=Иван&возраст=20&курс=Python&оценки=[85, 90, 78, 92]\n"
     ]
    }
   ],
   "source": [
    "student_info = {\n",
    "    'имя': 'Иван',\n",
    "    'возраст': 20,\n",
    "    'курс': 'Python',\n",
    "    'оценки': [85, 90, 78, 92]\n",
    "}\n",
    "\n",
    "\n",
    "query_string = \"&\".join([f\"{key}={value}\" for key, value in student_info.items()])\n",
    "\n",
    "\n",
    "print(query_string)\n",
    "\n",
    "\n"
   ]
  },
  {
   "cell_type": "markdown",
   "metadata": {},
   "source": [
    "9.4\n",
    "\n",
    "def calculate_order_cost(products, *orders):\n",
    "\n",
    "    total_cost = 0 \n",
    "    order_info = {}\n",
    "\n",
    "    for key in orders:\n",
    "        if key in products:\n",
    "            total_cost += products[key]\n",
    "            quantity = orders.count(key)\n",
    "            order_info[key] = quantity\n",
    "            \n",
    "    return total_cost, order_info\n",
    "\n",
    "9.5\n",
    "\n",
    "def calculator(op, a, b):\n",
    "    if op == \"+\":\n",
    "        return a + b\n",
    "    elif op == \"-\":\n",
    "        return a - b\n",
    "    elif op == \"*\":\n",
    "        return a * b\n",
    "    elif op == '^':\n",
    "        return a ** b\n",
    "    elif op == \"/\":\n",
    "        return a / b if b != 0 else 'Error'\n",
    "    else:\n",
    "        return 'Error'\n",
    "\n",
    "\n",
    "\n"
   ]
  },
  {
   "cell_type": "code",
   "execution_count": 125,
   "metadata": {},
   "outputs": [
    {
     "name": "stdout",
     "output_type": "stream",
     "text": [
      "[False, True, False, True]\n"
     ]
    }
   ],
   "source": [
    "n = 2048\n",
    "\n",
    "str_n = str(n)\n",
    "list_n = [int(digit) for digit in str_n]\n",
    "\n",
    "result = [False]\n",
    "\n",
    "for i in range(1, len(list_n)):\n",
    "    result.append(list_n[i - 1] != 0 and list_n[i] % list_n[i - 1] == 0)\n",
    "\n",
    "print(result)"
   ]
  },
  {
   "cell_type": "code",
   "execution_count": 140,
   "metadata": {},
   "outputs": [
    {
     "data": {
      "text/plain": [
       "'the old lady looked and tom ran away'"
      ]
     },
     "execution_count": 140,
     "metadata": {},
     "output_type": "execute_result"
    }
   ],
   "source": [
    "my_string = 'zis jqd qbdx qjjgsd bcd zjm fbc bvbx'\n",
    "secret_dict = {\n",
    "'v': 'w',\n",
    "'x': 'y',\n",
    "'i': 'h',\n",
    "'q': 'l',\n",
    "'c': 'n',\n",
    "'b': 'a',\n",
    "'f': 'r',\n",
    "'j': 'o',\n",
    "'s': 'e',\n",
    "'z': 't',\n",
    "'g': 'k'}\n",
    "\n",
    "\n",
    "decrypted_string = ''\n",
    "\n",
    "for char in my_string:\n",
    "    if char in secret_dict:\n",
    "        decrypted_string += secret_dict[char]\n",
    "    else:\n",
    "        decrypted_string += char\n",
    "\n",
    "decrypted_string"
   ]
  },
  {
   "cell_type": "markdown",
   "metadata": {},
   "source": [
    "В Python глобальные переменные объявляются вне всех функций, они доступны из любого места в программе. Глобальные переменные могут быть инициализированы и изменены внутри функций с помощью ключевого слова global.\n",
    "\n",
    "Пример использования глобальных переменных в Python:"
   ]
  },
  {
   "cell_type": "code",
   "execution_count": null,
   "metadata": {},
   "outputs": [],
   "source": [
    "x = 10  # глобальная переменная\n",
    "def some_function():\n",
    "    global x\n",
    "    x += 5  # изменение глобальной переменной\n",
    "    print(x)\n",
    "some_function()  # Вывод: 15\n",
    "print(x)  # Вывод: 15"
   ]
  },
  {
   "cell_type": "markdown",
   "metadata": {},
   "source": [
    "Вот пример реальной задачи, где потребуется использовать глобальную переменную.\n",
    "\n",
    "Предположим, что мы создаем программу для отслеживания заказов в интернет-магазине. У нас есть функция make_order(), которая принимает на вход количество товаров и обрабатывает заказ. Нам нужно отслеживать общее количество заказов, сделанных в магазине.\n",
    "\n"
   ]
  },
  {
   "cell_type": "code",
   "execution_count": null,
   "metadata": {},
   "outputs": [],
   "source": [
    "total_orders = 0  # глобальная переменная для хранения общего количества заказов\n",
    "def make_order(num_items):\n",
    "    global total_orders\n",
    "    total_orders += 1\n",
    "    print(f\"Заказ сделан! Всего заказов: {total_orders}. Товаров в заказе: {num_items}\")\n",
    "make_order(5)  # Заказ сделан! Всего заказов: 1. Товаров в заказе: 5\n",
    "make_order(3)  # Заказ сделан! Всего заказов: 2. Товаров в заказе: 3\n",
    "print(f\"Всего заказов: {total_orders}\")  # Вывод: Всего заказов: 2"
   ]
  },
  {
   "cell_type": "markdown",
   "metadata": {},
   "source": [
    "# Стоит быть осторожным при использовании глобальных переменных, поскольку они могут усложнить понимание и поддержку кода. Если возможно, следует предпочитать передачу значений через аргументы функций или использование локальных переменных."
   ]
  },
  {
   "cell_type": "markdown",
   "metadata": {},
   "source": [
    "Давайте еще познакомимся с более компактной формой создания и использования функций. Лямбда-функция — это анонимная функция, которая может быть определена без использования стандартного оператора def. Она обычно используется в тех случаях, когда необходимо определить простую функцию, которая будет использоваться только в одном месте программы. Вот примеры, которые иллюстрируют использование лямбда-функций:"
   ]
  },
  {
   "cell_type": "code",
   "execution_count": 141,
   "metadata": {},
   "outputs": [
    {
     "name": "stdout",
     "output_type": "stream",
     "text": [
      "8\n"
     ]
    }
   ],
   "source": [
    "add = lambda x, y: x + y\n",
    "print(add(5, 3))  # Вывод: 8"
   ]
  },
  {
   "cell_type": "code",
   "execution_count": 142,
   "metadata": {},
   "outputs": [
    {
     "name": "stdout",
     "output_type": "stream",
     "text": [
      "[9, 3, 1, 7, 2, 5]\n"
     ]
    }
   ],
   "source": [
    "# 2. Сортировка списка:\n",
    "\n",
    "numbers = [2, 5, 1, 9, 3, 7]\n",
    "sorted_numbers = sorted(numbers, key=lambda x: x % 3)\n",
    "print(sorted_numbers)  # Вывод: [9, 3, 1, 7, 2, 5]"
   ]
  },
  {
   "cell_type": "markdown",
   "metadata": {},
   "source": [
    "# Лямбда-функции имеют несколько преимуществ по сравнению с обычными функциями. Вот некоторые из них:\n",
    "\n",
    "* 1. Краткость и компактность: Лямбда-функции позволяют определить функцию в одной строке кода без использования оператора def. Они полезны, когда вам нужна простая функция, которая будет использоваться только в одном месте программы. Использование лямбда-функций делает код более компактным и сосредоточенным на самой функции.\n",
    "\n",
    "* 2. Анонимность: Лямбда-функции — это анонимные функции, то есть они не имеют имени. Это полезно, когда вам нужно передать функцию как аргумент в другую функцию или использовать ее вместе с другими конструкциями, такими как filter() или map(). Вы можете определить функцию прямо внутри вызова другой функции, без необходимости создавать отдельное имя для функции.\n",
    "\n",
    "* 3. Удобство в использовании: Лямбда-функции удобно использовать для выполнения простых операций, таких как математические вычисления, фильтрация или преобразование элементов в списке и т.д. Они предоставляют способ определения функций более лаконичным образом и позволяют сократить количество кода.\n",
    "\n",
    "Cтоит отметить, что лямбда-функции также имеют свои ограничения. Они не могут содержать многострочные выражения или иметь сложные логические конструкции. Если вам нужно определить более сложную функцию с множеством операций, условий и циклов, обычная функция может быть более предпочтительной.\n",
    "\n",
    "Использование лямбда-функций или обычных функций зависит от контекста и требований вашей задачи. Вам стоит выбирать наиболее удобное и читаемое решение в каждой конкретной ситуации."
   ]
  },
  {
   "cell_type": "code",
   "execution_count": 144,
   "metadata": {},
   "outputs": [
    {
     "name": "stdout",
     "output_type": "stream",
     "text": [
      "6\n",
      "22\n"
     ]
    }
   ],
   "source": [
    "# 1. Функция с произвольным количеством позиционных аргументов:\n",
    "\n",
    "# args (Positional Arguments) — это специальный параметр в функциях Python,\n",
    "# который позволяет передавать аргументы в виде кортежа.\n",
    "\n",
    "def sum_numbers(*args):\n",
    "    total = 0\n",
    "    for num in args:\n",
    "        total += num\n",
    "    return total\n",
    "print(sum_numbers(1, 2, 3))  # Вывод: 6\n",
    "print(sum_numbers(4, 5, 6, 7))  # Вывод: 22"
   ]
  },
  {
   "cell_type": "code",
   "execution_count": 146,
   "metadata": {},
   "outputs": [
    {
     "name": "stdout",
     "output_type": "stream",
     "text": [
      "name: John\n",
      "age: 25\n",
      "country: USA\n",
      "occupation: Engineer\n"
     ]
    }
   ],
   "source": [
    "# 2. Функция с произвольным количеством именованных аргументов:\n",
    "\n",
    "#kwargs (Keyword Arguments) — это специальный параметр в функциях Python, \n",
    "#который позволяет передавать аргументы в виде словаря. \n",
    "\n",
    "def print_info(**kwargs):\n",
    "    for key, value in kwargs.items():\n",
    "        print(f\"{key}: {value}\")\n",
    "print_info(name='John', age=25)  # Вывод: name: John, age: 25\n",
    "print_info(country='USA', occupation='Engineer')  # Вывод: country: USA, occupation: Engineer\n"
   ]
  },
  {
   "cell_type": "code",
   "execution_count": 157,
   "metadata": {},
   "outputs": [
    {
     "name": "stdout",
     "output_type": "stream",
     "text": [
      "Total cost: 10.25\n",
      "Order information: {'banana': 1, 'orange': 3, 'grapes': 1}\n"
     ]
    }
   ],
   "source": [
    "def calculate_order_cost(products, *orders):\n",
    "\n",
    "    total_cost = 0 \n",
    "    order_info = {}\n",
    "\n",
    "    for key in orders:\n",
    "        if key in products:\n",
    "            total_cost += products[key]\n",
    "            quantity = orders.count(key)\n",
    "            order_info[key] = quantity\n",
    "            \n",
    "    return total_cost, order_info\n",
    "\n",
    "\n",
    "products = {\n",
    "    'apple': 1.5,\n",
    "    'banana': 0.75,\n",
    "    'orange': 2.0,\n",
    "    'grapes': 3.5,\n",
    "    'kiwi': 1.8\n",
    "}\n",
    "\n",
    "calculate_total, order_info = calculate_order_cost(products, 'banana', 'orange', 'orange', 'orange', 'grapes')\n",
    "\n",
    "print(\"Total cost:\", calculate_total)\n",
    "print(\"Order information:\", order_info)"
   ]
  },
  {
   "cell_type": "code",
   "execution_count": 14,
   "metadata": {},
   "outputs": [
    {
     "name": "stdout",
     "output_type": "stream",
     "text": [
      "[('Ivan', 30), ('Olga', 25), ('Ivan', 20)]\n"
     ]
    }
   ],
   "source": [
    "input_list = [('Anna', 13), ('Ivan', 20), ('Irina', 23), ('Olga', 25), \n",
    "              ('Ivan', 30), ('Oleg', 24), ('Olga', 26)]\n",
    "#result = [('Ivan', 30), ('Olga', 25), ('Ivan', 20)]\n",
    "\n",
    "\n",
    "\n",
    "result = []\n",
    "\n",
    "for elem in range(len(input_list)):\n",
    "    if input_list[elem][1] % 5 == 0:\n",
    "        result.append(input_list[elem])\n",
    "        result.sort(key = lambda x: (x[1], x[0]), reverse=True)\n",
    " \n",
    "\n",
    "print(result)\n",
    "\n",
    "\n"
   ]
  },
  {
   "cell_type": "code",
   "execution_count": 28,
   "metadata": {},
   "outputs": [
    {
     "name": "stdout",
     "output_type": "stream",
     "text": [
      "{'Сириус Блэк': 'Гриффиндор', 'Аманда Коршун': 'Когтевран', 'Пенелопа Вулпинголд': 'Слизерин', 'Артур Поттер': 'Гриффиндор', 'Тесая Блэк': 'Когтевран'}\n",
      "{'Гриффиндор': 2, 'Пуффендуй': 0, 'Когтевран': 2, 'Слизерин': 1}\n"
     ]
    }
   ],
   "source": [
    "new_students = {\n",
    "        \"Сириус Блэк\": \"храбрость\",\n",
    "        \"Аманда Коршун\": \"любознательность\",\n",
    "        \"Пенелопа Вулпинголд\": \"находчивость\",\n",
    "        \"Артур Поттер\": \"храбрость\",\n",
    "        \"Тесая Блэк\": \"ум\",\n",
    "    }\n",
    "\n",
    "def sorting_hat(new_students):\n",
    "\n",
    "    faculty_dict = {\n",
    "        \"Гриффиндор\": [\"храбрость\", \"благородство\", \"честь\"],\n",
    "        \"Пуффендуй\": [\"трудолюбие\", \"верность\", \"честность\"],\n",
    "        \"Когтевран\": [\"ум\", \"любознательность\", \"творчество\"],\n",
    "        \"Слизерин\": [\"хитрость\", \"амбициозность\", \"находчивость\"],\n",
    "    }\n",
    "\n",
    "    facult = list(faculty_dict.keys())\n",
    "\n",
    "    sorted_students = dict.fromkeys('', facult)\n",
    "    department = dict.fromkeys(facult, 0)\n",
    "\n",
    "\n",
    "    for name, quality in new_students.items(): \n",
    "        for fac, qual in faculty_dict.items():\n",
    "            if quality  in qual: \n",
    "                sorted_students[name] = fac\n",
    "                department[str(fac)] += 1\n",
    "\n",
    "\n",
    "    return sorted_students , department\n",
    "\n",
    "   \n",
    "\n",
    "\n",
    "\n",
    "\n",
    "\n",
    "# sorting_hat(new_students)  # ->\n",
    "# sorted_students = {'Артур Поттер': 'Гриффиндор', 'Сириус Блэк': 'Гриффиндор', 'Аманда Коршун': 'Когтевран',\n",
    "#                    'Тесая Блэк': 'Когтевран', 'Пенелопа Вулпинголд': 'Слизерин'}\n",
    "# departments = {'Гриффиндор': 2, 'Когтевран': 2, 'Пуффендуй': 0, 'Слизерин': 1}"
   ]
  },
  {
   "cell_type": "code",
   "execution_count": 36,
   "metadata": {},
   "outputs": [
    {
     "data": {
      "text/plain": [
       "(3, 1, 6, 5, 4)"
      ]
     },
     "execution_count": 36,
     "metadata": {},
     "output_type": "execute_result"
    }
   ],
   "source": [
    "def reverse_tuple(lst):\n",
    "\n",
    "    reversed_lst = lst[::-1]\n",
    "\n",
    "    new_lst = []\n",
    "\n",
    "    for elem in reversed_lst:\n",
    "        if elem not in new_lst:\n",
    "            new_lst.append(elem)\n",
    "    \n",
    "    return tuple(new_lst)\n",
    "\n",
    "    # return list(set(lst))[::-1]\n",
    "   \n",
    "\n",
    "# reverse_tuple([1, 3, 4]) # -> (4, 3, 1)\n",
    "# reverse_tuple([1, 3, 4, 4, 5, 2]) # -> (2, 5, 4, 3, 1)\n",
    "reverse_tuple([4, 5, 3, 5, 5, 6, 1, 3]) # (3, 1, 6, 5, 4)\n"
   ]
  },
  {
   "cell_type": "code",
   "execution_count": 41,
   "metadata": {},
   "outputs": [
    {
     "name": "stdout",
     "output_type": "stream",
     "text": [
      "(2, 3)\n",
      "(1, 2, 3, 9, 5)\n",
      "(1, 2, 3)\n"
     ]
    }
   ],
   "source": [
    "def update_tuple(input_tuple, el_del):\n",
    "    tuple_to_lst = list(input_tuple)\n",
    "\n",
    "    \n",
    "    if el_del in tuple_to_lst:\n",
    "        tuple_to_lst.remove(el_del)\n",
    "        return tuple(tuple_to_lst)\n",
    "    else:\n",
    "        return input_tuple\n",
    "\n",
    "\n",
    "\n",
    "print(update_tuple((1, 2, 3), 1)) #-> (2, 3)\n",
    "print(update_tuple((1, 2, 3, 3, 9, 5), 3)) #-> (1, 2, 3, 9, 5)\n",
    "print(update_tuple((1, 2, 3), 9)) #-> (1, 2, 3)"
   ]
  }
 ],
 "metadata": {
  "kernelspec": {
   "display_name": ".venv",
   "language": "python",
   "name": "python3"
  },
  "language_info": {
   "codemirror_mode": {
    "name": "ipython",
    "version": 3
   },
   "file_extension": ".py",
   "mimetype": "text/x-python",
   "name": "python",
   "nbconvert_exporter": "python",
   "pygments_lexer": "ipython3",
   "version": "3.10.12"
  }
 },
 "nbformat": 4,
 "nbformat_minor": 2
}
