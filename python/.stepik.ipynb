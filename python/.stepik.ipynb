{
 "cells": [
  {
   "cell_type": "code",
   "execution_count": 1,
   "metadata": {
    "tags": [
     "0 cell"
    ]
   },
   "outputs": [
    {
     "name": "stdout",
     "output_type": "stream",
     "text": [
      "5\n",
      "0\n",
      "0\n",
      "2\n"
     ]
    }
   ],
   "source": [
    "\"\"\"Module description: Stepik course Notebook.\"\"\"\n",
    "import math\n",
    "\n",
    "print(5 % 10)  # остаток от деления\n",
    "# целочисленное деление (сколько раз пятерка помещается в 10)\n",
    "print(5 // 10)\n",
    "print(10 % 5)\n",
    "print(10 // 5)"
   ]
  },
  {
   "cell_type": "code",
   "execution_count": 2,
   "metadata": {
    "tags": [
     "1 cell"
    ]
   },
   "outputs": [
    {
     "name": "stdout",
     "output_type": "stream",
     "text": [
      "4.0\n",
      "4.5\n",
      "3.0\n"
     ]
    }
   ],
   "source": [
    "print(pow(16, 0.5))  # возведение в степень\n",
    "\n",
    "# неправильное возведение в степень (в данном случае взятие корня)\n",
    "print(9**1 / 2)\n",
    "\n",
    "# правильное возведение в степень (в данном случае взятие корня)\n",
    "print(9 ** (1 / 2))"
   ]
  },
  {
   "cell_type": "code",
   "execution_count": 3,
   "metadata": {
    "tags": [
     "2 cell"
    ]
   },
   "outputs": [
    {
     "name": "stdout",
     "output_type": "stream",
     "text": [
      "-2\n",
      "1\n",
      "-1\n",
      "0\n"
     ]
    }
   ],
   "source": [
    "print(-12 // 10)\n",
    "print(12 // 10)\n",
    "print(-7 // 10)\n",
    "print(7 // 10)"
   ]
  },
  {
   "cell_type": "code",
   "execution_count": 4,
   "metadata": {
    "tags": [
     "3 cell"
    ]
   },
   "outputs": [
    {
     "name": "stdout",
     "output_type": "stream",
     "text": [
      "5 4\n"
     ]
    }
   ],
   "source": [
    "FIRST_NUMBER = 4\n",
    "SECOND_NUMBER = 5\n",
    "# Правильная смена значений  для переменных\n",
    "FIRST_NUMBER, SECOND_NUMBER = SECOND_NUMBER, FIRST_NUMBER\n",
    "\n",
    "print(FIRST_NUMBER, SECOND_NUMBER)"
   ]
  },
  {
   "cell_type": "code",
   "execution_count": 5,
   "metadata": {
    "tags": [
     "5 cell"
    ]
   },
   "outputs": [
    {
     "ename": "ValueError",
     "evalue": "invalid literal for int() with base 10: ''",
     "output_type": "error",
     "traceback": [
      "\u001b[1;31m---------------------------------------------------------------------------\u001b[0m",
      "\u001b[1;31mValueError\u001b[0m                                Traceback (most recent call last)",
      "Cell \u001b[1;32mIn[5], line 1\u001b[0m\n\u001b[1;32m----> 1\u001b[0m number \u001b[38;5;241m=\u001b[39m \u001b[38;5;28;43mint\u001b[39;49m\u001b[43m(\u001b[49m\u001b[38;5;28;43minput\u001b[39;49m\u001b[43m(\u001b[49m\u001b[43m)\u001b[49m\u001b[43m)\u001b[49m\n\u001b[0;32m      2\u001b[0m \u001b[38;5;28mprint\u001b[39m(number \u001b[38;5;241m*\u001b[39m \u001b[38;5;241m2\u001b[39m)\n\u001b[0;32m      3\u001b[0m \u001b[38;5;28mprint\u001b[39m(number \u001b[38;5;241m/\u001b[39m \u001b[38;5;241m2\u001b[39m)\n",
      "\u001b[1;31mValueError\u001b[0m: invalid literal for int() with base 10: ''"
     ]
    }
   ],
   "source": [
    "number = int(input())\n",
    "print(number * 2)\n",
    "print(number / 2)"
   ]
  },
  {
   "cell_type": "markdown",
   "metadata": {},
   "source": [
    "Петя учится в школе и очень любит математику. Уже несколько занятий они с классом проходят арифметические выражения. На последнем уроке учительница написала на доске три положительных целых числа a, b, c. Задание заключалось в том, чтобы расставить между этими числами знаки операций '+' и '*', а также, возможно, скобки. Значение получившегося выражения должно быть как можно больше. Рассмотрим пример: пусть учительница выписала на доску числа 1, 2 и 3. Вот некоторые варианты расстановки знаков и скобок:\n",
    "\n",
    "1+2*3=7\n",
    "1*(2+3)=5\n",
    "1*2*3=6\n",
    "(1+2)*3=9\n",
    "Обратите внимание на то, что знаки операций можно вставлять только между a и b, а также между b и c, то есть нельзя менять числа местами. Так, в приведенном примере нельзя получить выражение (1+3)*2.\n",
    "\n",
    "Легко убедиться, что максимальное значение, которое можно получить, — это 9.\n",
    "\n",
    "Ваша задача — по заданным a, b и c вывести, какое максимальное значение выражения можно получить.\n",
    "\n",
    "Входные данные\n",
    "\n",
    "Во входных данных записаны три целых числа a, b и c, каждое в отдельной строке (1 ≤ a, b, c ≤ 10).\n",
    "\n",
    "Выходные данные\n",
    "\n",
    "Выведите максимальное значение выражения, которое можно получить."
   ]
  },
  {
   "cell_type": "markdown",
   "metadata": {},
   "source": [
    "Известно, что на обработку одного квадратного метра панели требуется 1г сульфида. Всего необходимо обработать N прямоугольных панелей размером A на B метров. Вам необходимо подсчитать, сколько всего сульфида необходимо на обработку всех панелей. И не забудьте, что панели требуют обработки с обеих сторон.\n",
    "\n",
    "На вход программе подаются 3 положительных целых числа N,A,B в одну строку"
   ]
  },
  {
   "cell_type": "code",
   "execution_count": null,
   "metadata": {
    "tags": [
     "6 cell"
    ]
   },
   "outputs": [
    {
     "name": "stdout",
     "output_type": "stream",
     "text": [
      "250\n"
     ]
    }
   ],
   "source": [
    "add_n, add_a, add_b = map(int, input().split())\n",
    "\n",
    "total_sum = add_n * add_a * add_b * 2\n",
    "\n",
    "print(total_sum)"
   ]
  },
  {
   "cell_type": "code",
   "execution_count": null,
   "metadata": {
    "tags": [
     "7 cell"
    ]
   },
   "outputs": [
    {
     "name": "stdout",
     "output_type": "stream",
     "text": [
      "20 80 20\n"
     ]
    }
   ],
   "source": [
    "# solution\n",
    "\n",
    "total_amount = int(input())\n",
    "\n",
    "petya_amount = total_amount // 6\n",
    "sergey_amount = petya_amount\n",
    "\n",
    "kate_amount = petya_amount * 4\n",
    "\n",
    "print(petya_amount, kate_amount, sergey_amount)"
   ]
  },
  {
   "cell_type": "markdown",
   "metadata": {},
   "source": [
    "Однажды, посетив магазин канцелярских товаров, Вася купил X карандашей, Y ручек и Z фломастеров. Известно, что цена ручки на 2 рубля больше цены карандаша и на 7 рублей меньше цены фломастера. Также известно, что стоимость карандаша составляет 3 рубля. Требуется определить общую стоимость покупки."
   ]
  },
  {
   "cell_type": "markdown",
   "metadata": {},
   "source": [
    "Бандиты Гарри и Ларри отдыхали на природе. Решив пострелять, они выставили на бревно несколько банок из-под кока-колы (не больше 10). Гарри начал простреливать банки по порядку, начиная с самой левой, Ларри — с самой правой. В какой-то момент получилось так, что они одновременно прострелили одну и ту же последнюю банку.\n",
    "\n",
    "Гарри возмутился и сказал, что Ларри должен ему кучу денег за то, что тот лишил его удовольствия прострелить несколько банок. В ответ Ларри сказал, что Гарри должен ему еще больше денег по тем же причинам. Они стали спорить кто кому сколько должен, но никто из них не помнил сколько банок было в начале, а искать простреленные банки по всей округе было неохота. Каждый из них помнил только, сколько банок прострелил он сам.\n",
    "\n",
    "Определите по этим данным, сколько банок не прострелил Гарри и сколько банок не прострелил Ларри."
   ]
  },
  {
   "cell_type": "code",
   "execution_count": null,
   "metadata": {
    "tags": [
     "8 cell"
    ]
   },
   "outputs": [
    {
     "name": "stdout",
     "output_type": "stream",
     "text": [
      "3 11\n"
     ]
    }
   ],
   "source": [
    "shoot_l, shoot_g = map(int, input().split())\n",
    "\n",
    "larry_shoot = shoot_l - 1\n",
    "garry_shoot = shoot_g - 1\n",
    "\n",
    "print(larry_shoot, garry_shoot)"
   ]
  },
  {
   "cell_type": "code",
   "execution_count": null,
   "metadata": {
    "tags": [
     "9 cell"
    ]
   },
   "outputs": [
    {
     "name": "stdout",
     "output_type": "stream",
     "text": [
      "4\n",
      "1\n",
      "0\n"
     ]
    }
   ],
   "source": [
    "# Если поделить любое число по остатку на 10 мы получим последнюю цифру\n",
    "\n",
    "print(221412414 % 10)\n",
    "print(5433463631 % 10)\n",
    "print(2675756850 % 10)"
   ]
  },
  {
   "cell_type": "code",
   "execution_count": null,
   "metadata": {
    "tags": [
     "10 cel"
    ]
   },
   "outputs": [
    {
     "name": "stdout",
     "output_type": "stream",
     "text": [
      "5\n",
      "3\n"
     ]
    }
   ],
   "source": [
    "# Output: 5 Обьяснение : a - b * (a/b) = 37 - 8 * 4\n",
    "# (точный результат 4.5 но пайтон округляет до меньшего числа) = 37 - 32 = 5\n",
    "print(37 % 8)\n",
    "# Output:3 Обьяснение : a - b * (a/b) = 37 - 8 * (-5)\n",
    "# (точный результат 4.5 но пайтон округляет до меньшего числа) = 37 + 40 = 3\n",
    "print(-37 % 8)"
   ]
  },
  {
   "cell_type": "code",
   "execution_count": null,
   "metadata": {
    "tags": [
     "11 cell"
    ]
   },
   "outputs": [
    {
     "name": "stdout",
     "output_type": "stream",
     "text": [
      "4\n"
     ]
    }
   ],
   "source": [
    "num_a = int(input())\n",
    "\n",
    "printnum_(a // 100 +num_ a % 100 // 20 +num_ a % 20 // 10 +num_ a % 10 // 5 +num_ a % 5)"
   ]
  },
  {
   "cell_type": "code",
   "execution_count": null,
   "metadata": {
    "tags": [
     "12 cell"
    ]
   },
   "outputs": [
    {
     "name": "stdout",
     "output_type": "stream",
     "text": [
      "0:02:23\n"
     ]
    }
   ],
   "source": [
    "num = int(input())\n",
    "\n",
    "hours = num // 3600\n",
    "minutes = num // 60 % 60\n",
    "seconds = num % 60\n",
    "\n",
    "formatted_minutes = str(minutes).zfill(2)\n",
    "formatted_seconds = str(seconds).zfill(2)\n",
    "\n",
    "print(f\"{hours}:{formatted_minutes}:{formatted_seconds}\")"
   ]
  },
  {
   "cell_type": "markdown",
   "metadata": {},
   "source": [
    "Последовательность выполнения союзов если нет скобок.\n",
    "\n",
    "1. Not\n",
    "2. And\n",
    "3. Or"
   ]
  },
  {
   "cell_type": "markdown",
   "metadata": {},
   "source": [
    "**Закон де Моргана для конъюнкции и дизъюнкции:**\n",
    "\n",
    "1. **Закон де Моргана для конъюнкции:**\n",
    "   ```\n",
    "   not (A and B) == (not A) or (not B)\n",
    "   ```\n",
    "   Этот закон гласит, что отрицание конъюнкции двух высказываний равносильно дизъюнкции отрицаний каждого высказывания по отдельности.\n",
    "\n",
    "   Пример в Python:\n",
    "\n",
    "   ```python\n",
    "   has_permission = True\n",
    "   is_admin = False\n",
    "\n",
    "   if not (has_permission and is_admin):\n",
    "       print(\"Доступ разрешен для неадминистратора или тех, у кого нет разрешений.\")\n",
    "   else:\n",
    "       print(\"Доступ запрещен для администраторов с разрешениями.\")\n",
    "   ```\n",
    "\n",
    "2. **Закон де Моргана для дизъюнкции:**\n",
    "   ```\n",
    "   not (A or B) == (not A) and (not B)\n",
    "   ```\n",
    "   Этот закон утверждает, что отрицание дизъюнкции двух высказываний равносильно конъюнкции отрицаний каждого высказывания по отдельности.\n",
    "\n",
    "   Пример в Python:\n",
    "\n",
    "   ```python\n",
    "   is_raining = False\n",
    "   has_umbrella = False\n",
    "\n",
    "   if not (is_raining or has_umbrella):\n",
    "       print(\"Лучше подождать, пока дождь не закончится или взять зонт.\")\n",
    "   else:\n",
    "       print(\"Можно выходить на улицу, есть зонт или дождя нет.\")\n",
    "   ```\n",
    "\n",
    "**Закон де Моргана для импликации и эквивалентности:**\n",
    "\n",
    "1. **Закон де Моргана для импликации:**\n",
    "   ```\n",
    "   not (A → B) == A and (not B)\n",
    "   ```\n",
    "   Этот закон утверждает, что отрицание импликации двух высказываний равносильно конъюнкции первого высказывания и отрицания второго высказывания.\n",
    "\n",
    "   Пример в Python:\n",
    "\n",
    "   ```python\n",
    "   has_key = False\n",
    "   locked_door = True\n",
    "\n",
    "   if not (has_key or not locked_door):\n",
    "       print(\"Можно открыть дверь без ключа или дверь не заперта.\")\n",
    "   else:\n",
    "       print(\"Дверь заперта и нет ключа. Невозможно открыть.\")\n",
    "   ```\n",
    "\n",
    "2. **Закон де Моргана для эквивалентности:**\n",
    "   ```\n",
    "   not (A ↔ B) == (not A or B) and (A or not B)\n",
    "   ```\n",
    "   Этот закон гласит, что отрицание эквивалентности двух высказываний равносильно конъюнкции дизъюнкций первого высказывания с отрицанием второго высказывания и дизъюнкции второго высказывания с отрицанием первого высказывания.\n",
    "\n",
    "   Пример в Python:\n",
    "\n",
    "   ```python\n",
    "   is_even = True\n",
    "   is_divisible_by_3 = False\n",
    "\n",
    "   if not ((is_even and not is_divisible_by_3) or (not is_even and is_divisible_by_3)):\n",
    "       print(\"Число не является ни четным, ни кратным 3.\")\n",
    "   else:\n",
    "       print(\"Число является или четным, или кратным 3.\")\n",
    "   ```\n",
    "\n"
   ]
  },
  {
   "cell_type": "markdown",
   "metadata": {},
   "source": [
    "На вход поступает целое число.\n",
    "\n",
    "Программа должна вывести True, если введенное значение является положительным числом, в противном случае - False.\n",
    "\n",
    "Сделать задачу необходимо без использования условного оператора.\n"
   ]
  },
  {
   "cell_type": "markdown",
   "metadata": {},
   "source": [
    "На вход поступает целое число.\n",
    "\n",
    "Программа должна вывести True, если введенное значение является четным числом, в противном случае - False.\n",
    "\n",
    "Сделать задачу необходимо без использования условного оператора."
   ]
  },
  {
   "cell_type": "code",
   "execution_count": null,
   "metadata": {
    "tags": [
     "13 cell"
    ]
   },
   "outputs": [
    {
     "name": "stdout",
     "output_type": "stream",
     "text": [
      "False\n"
     ]
    }
   ],
   "source": [
    "num = int(input())\n",
    "\n",
    "print(num % 2 == 0)"
   ]
  },
  {
   "cell_type": "code",
   "execution_count": null,
   "metadata": {
    "tags": [
     "15 cell"
    ]
   },
   "outputs": [
    {
     "name": "stdout",
     "output_type": "stream",
     "text": [
      "False\n"
     ]
    }
   ],
   "source": [
    "num = int(input())\n",
    "\n",
    "print(num % 6 == 0)"
   ]
  },
  {
   "cell_type": "markdown",
   "metadata": {},
   "source": [
    "На вход поступает целое число.\n",
    "\n",
    "Программа должна вывести True, если введенное значение не делится на 9, в противном случае - False.\n",
    "\n",
    "Сделать задачу необходимо без использования условного оператора."
   ]
  },
  {
   "cell_type": "markdown",
   "metadata": {},
   "source": [
    "На вход поступает целое положительное число.\n",
    "\n",
    "Программа должна вывести True, если у введенного числа последняя цифра 2, в противном случае - False.\n",
    "\n",
    "Сделать задачу необходимо без использования условного оператора."
   ]
  },
  {
   "cell_type": "code",
   "execution_count": null,
   "metadata": {
    "tags": [
     "16 cell"
    ]
   },
   "outputs": [
    {
     "name": "stdout",
     "output_type": "stream",
     "text": [
      "False\n"
     ]
    }
   ],
   "source": [
    "num = int(input())\n",
    "\n",
    "print(num % 10 == 2)"
   ]
  },
  {
   "cell_type": "code",
   "execution_count": null,
   "metadata": {
    "tags": [
     "17 cell"
    ]
   },
   "outputs": [
    {
     "name": "stdout",
     "output_type": "stream",
     "text": [
      "False\n"
     ]
    }
   ],
   "source": [
    "nums = [int(input()) for _ in range(2)]\n",
    "print(all(num % 7 == 0 for num in nums))"
   ]
  },
  {
   "cell_type": "markdown",
   "metadata": {},
   "source": [
    "На вход поступают три целых числа - стороны треугольника.\n",
    "\n",
    "Необходимо вывести True, если данные стороны образуют правильный треугольник, в противном случае - False.\n",
    "\n",
    "Сделать задачу необходимо без использования условного оператора."
   ]
  },
  {
   "cell_type": "markdown",
   "metadata": {},
   "source": [
    "На вход поступает целое число.\n",
    "\n",
    "Программа должна вывести True, если введенное значение принадлежит интервалу от 5 не включительно до 19 включительно , в противном случае - False.\n",
    "\n",
    "Сделать задачу необходимо без использования условного оператора."
   ]
  },
  {
   "cell_type": "code",
   "execution_count": null,
   "metadata": {
    "tags": [
     "18 cell"
    ]
   },
   "outputs": [
    {
     "name": "stdout",
     "output_type": "stream",
     "text": [
      "False\n"
     ]
    }
   ],
   "source": [
    "num = int(input())\n",
    "print(5 < num <= 19)"
   ]
  },
  {
   "cell_type": "code",
   "execution_count": null,
   "metadata": {
    "tags": [
     "19 cell"
    ]
   },
   "outputs": [
    {
     "name": "stdout",
     "output_type": "stream",
     "text": [
      "True\n"
     ]
    }
   ],
   "source": [
    "print([False, True][\"awesome\" in [input() for _ in range(2)]])"
   ]
  },
  {
   "cell_type": "markdown",
   "metadata": {},
   "source": [
    "На вход поступают три целых числа - стороны треугольника.\n",
    "\n",
    "Необходимо вывести True, если данные стороны образуют равнобедренный треугольник, в противном случае - False.\n",
    "\n",
    "Сделать задачу необходимо без использования условного оператора."
   ]
  },
  {
   "cell_type": "markdown",
   "metadata": {},
   "source": [
    "На вход поступает целое положительное число.\n",
    "\n",
    "Программа должна вывести True, если данное число является двузначным, в противном случае - False.\n",
    "\n",
    "Сделать задачу необходимо без использования условного оператора."
   ]
  },
  {
   "cell_type": "code",
   "execution_count": null,
   "metadata": {
    "tags": [
     "20 cell",
     "19 cell for pylint"
    ]
   },
   "outputs": [
    {
     "name": "stdout",
     "output_type": "stream",
     "text": [
      "False\n"
     ]
    }
   ],
   "source": [
    "num = int(input())\n",
    "\n",
    "print(9 < num < 100)"
   ]
  },
  {
   "cell_type": "code",
   "execution_count": null,
   "metadata": {
    "tags": [
     "21 cell"
    ]
   },
   "outputs": [
    {
     "ename": "ValueError",
     "evalue": "not enough values to unpack (expected 3, got 1)",
     "output_type": "error",
     "traceback": [
      "\u001b[0;31m---------------------------------------------------------------------------\u001b[0m",
      "\u001b[0;31mValueError\u001b[0m                                Traceback (most recent call last)",
      "Cell \u001b[0;32mIn[27], line 1\u001b[0m\n\u001b[0;32m----> 1\u001b[0m a, b, c \u001b[38;5;241m=\u001b[39m \u001b[38;5;28mmap\u001b[39m(\u001b[38;5;28mint\u001b[39m, \u001b[38;5;28minput\u001b[39m()\u001b[38;5;241m.\u001b[39msplit())\n\u001b[1;32m      3\u001b[0m max_side \u001b[38;5;241m=\u001b[39m \u001b[38;5;28mmax\u001b[39m(a, b, c)\n\u001b[1;32m      5\u001b[0m is_right_angle \u001b[38;5;241m=\u001b[39m a\u001b[38;5;241m*\u001b[39m\u001b[38;5;241m*\u001b[39m\u001b[38;5;241m2\u001b[39m \u001b[38;5;241m+\u001b[39m b\u001b[38;5;241m*\u001b[39m\u001b[38;5;241m*\u001b[39m\u001b[38;5;241m2\u001b[39m \u001b[38;5;241m+\u001b[39m c\u001b[38;5;241m*\u001b[39m\u001b[38;5;241m*\u001b[39m\u001b[38;5;241m2\u001b[39m \u001b[38;5;241m-\u001b[39m max_side\u001b[38;5;241m*\u001b[39m\u001b[38;5;241m*\u001b[39m\u001b[38;5;241m2\u001b[39m \u001b[38;5;241m*\u001b[39m \u001b[38;5;241m2\u001b[39m\n",
      "\u001b[0;31mValueError\u001b[0m: not enough values to unpack (expected 3, got 1)"
     ]
    }
   ],
   "source": [
    "side_a, side_b, side_c = map(int, input().split())\n",
    "\n",
    "max_side = max(side_a, side_b, side_c)\n",
    "\n",
    "is_right_angle = side_a**2 + side_b**2 + side_c**2 - max_side**2 * 2\n",
    "\n",
    "print(is_right_angle == 0)"
   ]
  },
  {
   "cell_type": "code",
   "execution_count": null,
   "metadata": {
    "tags": [
     "22 cell"
    ]
   },
   "outputs": [
    {
     "data": {
      "text/plain": [
       "5"
      ]
     },
     "execution_count": 28,
     "metadata": {},
     "output_type": "execute_result"
    }
   ],
   "source": [
    "# отсекает дробную часть числа, как аналог вместо нее можно использовать int\n",
    "math.trunc(32.3)\n",
    "\n",
    "# округляет число вниз, вне зависимости от того какая дробная часть\n",
    "math.floor(34.4)\n",
    "\n",
    "# округляет число вверх, вне зависимости от того какая дробная часть\n",
    "math.ceil(4.1)"
   ]
  },
  {
   "cell_type": "code",
   "execution_count": null,
   "metadata": {
    "tags": [
     "23 cell"
    ]
   },
   "outputs": [
    {
     "name": "stdout",
     "output_type": "stream",
     "text": [
      "2343\n"
     ]
    }
   ],
   "source": [
    "num = int(input())\n",
    "\n",
    "print(math.ceil(num / 10))"
   ]
  },
  {
   "cell_type": "markdown",
   "metadata": {},
   "source": [
    "После вечеринки компания из N человек хочет добраться домой с помощью такси. Максимальное количество человек, которое может уместиться в машину равно 4. Сколько машин придется вызвать ребятам, чтобы все могли уехать?\n",
    "\n",
    "Программа получает на вход положительное целое число N - количество человек в компании."
   ]
  },
  {
   "cell_type": "markdown",
   "metadata": {},
   "source": [
    "В некоторой школе решили набрать три новых математических класса и оборудовать кабинеты для них новыми партами. За каждой партой может сидеть два учащихся. Известно количество учащихся в каждом из трех классов. Выведите наименьшее число парт, которое нужно приобрести для них. \n",
    "\n",
    "Программа получает на вход три натуральных числа: количество учащихся в каждом из трех классов (числа не превышают 1000)."
   ]
  },
  {
   "cell_type": "code",
   "execution_count": null,
   "metadata": {
    "tags": [
     "24 cell",
     "23 cell for pylint"
    ]
   },
   "outputs": [
    {
     "name": "stdout",
     "output_type": "stream",
     "text": [
      "299\n"
     ]
    }
   ],
   "source": [
    "# import math\n",
    "\n",
    "studs_1, studs_2, studs_3 = map(int, input().split())\n",
    "\n",
    "desk_q = math.ceil(studs_1 / 2) + math.ceil(studs_2 / 2)\n",
    "desk_q = desk_q + math.ceil(studs_3 / 2)\n",
    "\n",
    "print(desk_q)"
   ]
  },
  {
   "cell_type": "code",
   "execution_count": null,
   "metadata": {
    "tags": [
     "25 cell",
     "24 cell pylint"
    ]
   },
   "outputs": [
    {
     "name": "stdout",
     "output_type": "stream",
     "text": [
      "2725583\n"
     ]
    }
   ],
   "source": [
    "length, width, height = map(int, input().split())\n",
    "\n",
    "side_wall_area = length * height * 2\n",
    "\n",
    "end_wall_area = width * height * 2\n",
    "\n",
    "total_wall_area = side_wall_area + end_wall_area\n",
    "\n",
    "paint_cans = math.ceil(total_wall_area / 16)\n",
    "\n",
    "print(paint_cans)"
   ]
  },
  {
   "cell_type": "code",
   "execution_count": null,
   "metadata": {
    "tags": [
     "26 cell",
     "25 cell pylint"
    ]
   },
   "outputs": [
    {
     "name": "stdout",
     "output_type": "stream",
     "text": [
      "-4\n",
      "-1\n",
      "1\n",
      "3\n",
      "-4\n"
     ]
    }
   ],
   "source": [
    "#  Деление нацело и по остатку отрицательных чисел\n",
    "# a =(a//b) * b + q\n",
    "\n",
    "# результат - 4, так как округление вниз.\n",
    "print(-19 // 5)\n",
    "# 19 % - 5 = (19 // -5) * (-5) + q; 19 = 20 + q; q = -1\n",
    "print(19 % -5)\n",
    "# -19 % 5 = (-19 // 5) * 5 + q; -19 = -20 + q; q = 1\n",
    "print(-19 % 5)\n",
    "# -19 / -5 = 3.8 , floor(3.8) = 3\n",
    "print(-19 // -5)\n",
    "# -19 % -5 = (-19 // 5) * (-5) + q; -19 = -15 + q; q = -4\n",
    "print(-19 % -5)"
   ]
  },
  {
   "cell_type": "markdown",
   "metadata": {},
   "source": [
    "Напишите программу, которая выводит фразу «Я стану крутым программистом!» три раза на отдельных строках; строки должны быть именно такие, символ в символ!.\n",
    "\n",
    "Для удобства советую поместить эту фразу в переменную и затем использовать ее при выводе."
   ]
  },
  {
   "cell_type": "code",
   "execution_count": null,
   "metadata": {
    "tags": [
     "27 cell",
     "26 cell pylint"
    ]
   },
   "outputs": [
    {
     "name": "stdout",
     "output_type": "stream",
     "text": [
      "Я стану крутым программистом!\n",
      "Я стану крутым программистом!\n",
      "Я стану крутым программистом!\n"
     ]
    }
   ],
   "source": [
    "TEXT = \"Я стану крутым программистом!\"\n",
    "\n",
    "RESULT = TEXT + \"\\n\" + TEXT + \"\\n\" + TEXT\n",
    "print(RESULT)"
   ]
  },
  {
   "cell_type": "code",
   "execution_count": null,
   "metadata": {
    "tags": [
     "28 cell"
    ]
   },
   "outputs": [
    {
     "name": "stdout",
     "output_type": "stream",
     "text": [
      "WWWWWWWWWWWWWWWWWWWWWWWWWWWWWWWWWWWWWWWWWWWWWWWWWWWWWWWWWWWWWWWWWWWWWWWWWWWWWWWWWWWWWWWWWWWWWWWWWWWWWWWWWWWWWWWWWWWWWWWWWWWWWWWWWWWWWWWWWWWWWWWWWWWWWWWWWWWWWWWWWWWWWWWWWWWWWWWWWWWWWWWWWWWWWWWWWWWWWWWWWWWWWWWWWWWWWWWWWWWWWWWWWWWWWWWWWWWWWWWWWWWWWWWWWWWWWWWWWWWWWWWWWWWWWWWWWWWWWWWWWWWWWWWWWWWWWWWWWWWWWWWWWWWWWWWWWWWWWWWWWWWWWWWWWWWWWWWWWWWWWWWWWWWWWWWWWWWWWWWWWWWWWWWWWWWWWWWWWWWWWWWWWWWWWWWWWWWWWWWWWWWWWWWWWWWWWWWWWWWWWWWWWWWWWWWWWWWWWWWWWWWWWWWWWWWWWWWWWWWWWWWWWWWWWWWWWWWWWWWWWWWWWWWWWWWWWWWWWWWWWWWWWWWWWWWWWWWWWWWWWWWWWWWWWWWWWWWWWWWWWWWWWWWWWWWWWWWWWWWWWWWWWWWWWWWWWWWWWWWWWWWWWWWWWWWWWWWWWWWWWWWWWWWWWWWWWWWWWWWWWWWWWWWWWWWWWWWWWWWWWWWWWWWWWWWWWWWWWWWWWWWWWWWWWWWWWWWWWWWWWWWWWWWWWWWWWWWWWWWWWWWWWWWWWWWWWWWWWWWWWWWWWWWWWWWWWWWWWWWWWWWWWWWWWWWWWWWWWWWWWWWWWWWWWWWWWWWWW\n"
     ]
    }
   ],
   "source": [
    "STR_ = \"W\"\n",
    "\n",
    "print(STR_ * 777)"
   ]
  },
  {
   "cell_type": "markdown",
   "metadata": {},
   "source": [
    "Напишите программу, которая выводит «Лев Николаевич Толстой написал \"Война и мир\"» (без внешних кавычек)."
   ]
  },
  {
   "cell_type": "markdown",
   "metadata": {},
   "source": [
    "Напишите программу, которая сначала считывает две фразы по очереди, а потом воспроизводит их в той же последовательности, каждую на отдельной строчке."
   ]
  },
  {
   "cell_type": "code",
   "execution_count": null,
   "metadata": {
    "tags": [
     "29 cell"
    ]
   },
   "outputs": [
    {
     "name": "stdout",
     "output_type": "stream",
     "text": [
      "hello\n",
      "hello\n"
     ]
    }
   ],
   "source": [
    "str_1 = input()\n",
    "str_2 = input()\n",
    "\n",
    "print(str_1 + \"\\n\" + str_2)"
   ]
  },
  {
   "cell_type": "code",
   "execution_count": null,
   "metadata": {
    "tags": [
     "30 cell"
    ]
   },
   "outputs": [
    {
     "name": "stdout",
     "output_type": "stream",
     "text": [
      " we\n",
      "we\n",
      "we \n"
     ]
    }
   ],
   "source": [
    "str_1 = input()\n",
    "str_2 = input()\n",
    "str_3 = input()\n",
    "\n",
    "print(str_3 + \"\\n\" + str_2 + \"\\n\" + str_1)"
   ]
  },
  {
   "cell_type": "markdown",
   "metadata": {},
   "source": [
    "Напишите программу, которая считывает с клавиатуры слово (или фразу, неважно), после чего выводит это же слово четыре раза на одной строке, разделяя их пробелами."
   ]
  },
  {
   "cell_type": "markdown",
   "metadata": {},
   "source": [
    "Напишите программу, которая считывает с клавиатуры фразу и выводит на экран количество символов, которое содержалось в ней, учитывая все знаки препинания и пунктуации."
   ]
  },
  {
   "cell_type": "code",
   "execution_count": null,
   "metadata": {
    "tags": [
     "31 cell"
    ]
   },
   "outputs": [
    {
     "name": "stdout",
     "output_type": "stream",
     "text": [
      "3\n"
     ]
    }
   ],
   "source": [
    "text = input()\n",
    "\n",
    "print(len(text))"
   ]
  },
  {
   "cell_type": "code",
   "execution_count": null,
   "metadata": {
    "tags": [
     "32 cell"
    ]
   },
   "outputs": [
    {
     "name": "stdout",
     "output_type": "stream",
     "text": [
      "44 gg56 33\n"
     ]
    }
   ],
   "source": [
    "text_comb_1 = input()\n",
    "text_comb_2 = input()\n",
    "\n",
    "result_32 = text_comb_1 + text_comb_2\n",
    "\n",
    "print(result_32)"
   ]
  },
  {
   "cell_type": "markdown",
   "metadata": {},
   "source": [
    "Напишите программу, которая считывает с клавиатуры слово (или фразу, неважно), после чего вывести данную строку, увеличенную по длине  в 3 раза."
   ]
  },
  {
   "cell_type": "markdown",
   "metadata": {},
   "source": [
    "Программа принимает на вход три символа через пробел в одну строку. Необходимо вывести код каждого символа при помощи функции ord в определенном формате."
   ]
  },
  {
   "cell_type": "code",
   "execution_count": null,
   "metadata": {
    "tags": [
     "33 cell"
    ]
   },
   "outputs": [
    {
     "name": "stdout",
     "output_type": "stream",
     "text": [
      "Symbol code d is 100.\n",
      "Symbol code f is 102.\n",
      "Symbol code g is 103.\n"
     ]
    }
   ],
   "source": [
    "# Input three characters separated by spaces\n",
    "a_char, b_char, c_char = map(\n",
    "    str, (input(\"Enter three characters separated by spaces: \").split())\n",
    ")\n",
    "\n",
    "# Loop through each character and print its symbol code\n",
    "for char in (a_char, b_char, c_char):\n",
    "    print(f\"Symbol code {char} is {ord(char)}.\")"
   ]
  },
  {
   "cell_type": "markdown",
   "metadata": {},
   "source": [
    "Программа получает на вход строку и ваша задача вывести первый элемент данной строки"
   ]
  },
  {
   "cell_type": "code",
   "execution_count": null,
   "metadata": {
    "tags": [
     "34 cell"
    ]
   },
   "outputs": [],
   "source": [
    "string = input()\n",
    "\n",
    "print(string[0])"
   ]
  },
  {
   "cell_type": "code",
   "execution_count": null,
   "metadata": {
    "tags": [
     "35 cell"
    ]
   },
   "outputs": [],
   "source": [
    "string = input()\n",
    "\n",
    "print(string[-1])"
   ]
  },
  {
   "cell_type": "markdown",
   "metadata": {},
   "source": [
    "Программа получает на вход строку и ваша задача вывести первые 4 символа этой строки\n",
    "\n",
    "Гарантируется, что вводится будет строка длиной не менее 4 символов"
   ]
  },
  {
   "cell_type": "markdown",
   "metadata": {},
   "source": [
    "Программа получает на вход строку и ваша задача вывести последние 4 символа этой строки\n",
    "\n",
    "Гарантируется, что вводится будет строка длиной не менее 4 символов"
   ]
  },
  {
   "cell_type": "code",
   "execution_count": null,
   "metadata": {
    "tags": [
     "36 cell"
    ]
   },
   "outputs": [],
   "source": [
    "string = input()\n",
    "\n",
    "print(string[-4:])"
   ]
  },
  {
   "cell_type": "code",
   "execution_count": null,
   "metadata": {
    "tags": [
     "37 cell"
    ]
   },
   "outputs": [],
   "source": [
    "string = input()\n",
    "\n",
    "print(string[::2])"
   ]
  },
  {
   "cell_type": "markdown",
   "metadata": {},
   "source": [
    "Программа получает на вход строку. Ваша задача вывести все символы этой строки, которые имеют нечетные индексы"
   ]
  },
  {
   "cell_type": "markdown",
   "metadata": {},
   "source": [
    "Программа получает на вход строку. Ваша задача развернуть строку и вывести ее на экран."
   ]
  },
  {
   "cell_type": "code",
   "execution_count": null,
   "metadata": {
    "tags": [
     "38 cell"
    ]
   },
   "outputs": [],
   "source": [
    "string = input()\n",
    "\n",
    "print(string[::-1])"
   ]
  },
  {
   "cell_type": "code",
   "execution_count": null,
   "metadata": {
    "tags": [
     "39 cell"
    ]
   },
   "outputs": [],
   "source": [
    "string = input()\n",
    "\n",
    "print(string[::-3])"
   ]
  },
  {
   "cell_type": "markdown",
   "metadata": {},
   "source": [
    "Программа получает на вход одно слово. Ваша задача перенести последнюю букву в начало, тем самым сдвинуть все остальные буквы вправо на один разряд. В качестве ответа нужно вывести полученное слово"
   ]
  },
  {
   "cell_type": "code",
   "execution_count": null,
   "metadata": {
    "tags": [
     "39 cell"
    ]
   },
   "outputs": [],
   "source": [
    "# Cтроки и их методы\n",
    "# возводит все буквы в строке в верхний регистр\n",
    "\"hello\".upper()\n",
    "# приводит все буквы к нижнему регистру\n",
    "\"HElLo\".lower()\n",
    "# считает сколько раз встречается символ или подстрока в строке\n",
    "\"hello\".count(\"l\")\n",
    "# метод find возвращает индекс первого вхождения символа\n",
    "\"stairs\".find(\"f\")\n",
    "# ищет символ в строке начиная справа налево\n",
    "\"stairs\".rfind(\"s\")\n",
    "# так же ищет подстроку но возвращаетс ошибку в случае если её нет\n",
    "\"general\".index(\"e\")\n",
    "# меняет одну подстроку на другую\n",
    "# при этом меняется каждая соответсвующая буква в строке,\n",
    "# если не передать 3 параметром количество замен\n",
    "\"leader\".replace(\"l\", \"r\")\n",
    "# удаляет пробелы в строке\n",
    "\"global sport\".replace(\" \", \"\")\n",
    "# проверяет состоит ли строка целиком из букв,\n",
    "# пробелы учитываются при проверке\n",
    "\"manufacter\".isalpha()\n",
    "# проверяет состоит строка только из цифр\n",
    "# пробелы учитываются при проверке\n",
    "\"125334\".isdigit()\n",
    "# дополняет строку символами слева , по умолчанию пробелами\n",
    "# первый параметр количество символов, второй параметр символ дополнения\n",
    "\"111\".rjust(5)\n",
    "# дополняет строку символами справа , по умолчанию пробелами\n",
    "# первый параметр количество символов, второй параметр символ дополнения\n",
    "\"111\".ljust(5)\n",
    "# разбивает строку по определеному символу, результат записывает в список\n",
    "\"Fernando Torres\".split()\n",
    "# обьединяет строчные елементы списка в одну строку\n",
    "\"-\".join([\"winter\", \"spring\", \"autumn\", \"summer\"])\n",
    "# удаляет пробелы в начале и конце строки\n",
    "\"  hello  str   \".strip()"
   ]
  },
  {
   "cell_type": "markdown",
   "metadata": {},
   "source": [
    "На вход программе поступает строка, состоящая как из заглавных так из строчных букв латинского алфавита. Ваша задача преобразовать строку так, чтобы все символы были только заглавными."
   ]
  },
  {
   "cell_type": "markdown",
   "metadata": {},
   "source": [
    "На вход программе поступает строка, состоящая как из заглавных так из строчных букв латинского алфавита. Ваша задача преобразовать строку так, чтобы все символы были только строчными"
   ]
  },
  {
   "cell_type": "code",
   "execution_count": null,
   "metadata": {
    "tags": [
     "41 cell"
    ]
   },
   "outputs": [],
   "source": [
    "str_input = input().lower()\n",
    "\n",
    "print(str_input)"
   ]
  },
  {
   "cell_type": "code",
   "execution_count": null,
   "metadata": {
    "tags": [
     "42 cell"
    ]
   },
   "outputs": [],
   "source": [
    "str_input_1 = input().lower()\n",
    "\n",
    "str_input_2 = input().lower()\n",
    "\n",
    "print(str_input_1 == str_input_2)"
   ]
  },
  {
   "cell_type": "markdown",
   "metadata": {},
   "source": [
    "На вход подается строка. Ваша задача отформатировать строку так, чтобы первые 3 и последние 3 символа были заглавными, а оставшиеся строчные.\n",
    "\n",
    "Примечание:\n",
    "Количество букв может быть различным, но гарантируется что их количество не меньше 6"
   ]
  },
  {
   "cell_type": "markdown",
   "metadata": {},
   "source": [
    "На вход программе поступает строка, состоящая как из заглавных так из строчных букв. Ваша задача преобразовать строку так, чтобы все строчные символы заменились на заглавные, все заглавные - на строчные. Символы пунктуации и цифры не нужно преобразовывать.\n",
    "\n",
    "В качестве ответа нужно вывести полученную строку"
   ]
  },
  {
   "cell_type": "code",
   "execution_count": null,
   "metadata": {
    "tags": [
     "43 cell"
    ]
   },
   "outputs": [],
   "source": [
    "str_input = input().swapcase()\n",
    "\n",
    "print(str_input)"
   ]
  },
  {
   "cell_type": "code",
   "execution_count": null,
   "metadata": {
    "tags": [
     "44 cell"
    ]
   },
   "outputs": [],
   "source": [
    "str_input = input().title().swapcase()\n",
    "\n",
    "print(str_input)"
   ]
  },
  {
   "cell_type": "markdown",
   "metadata": {},
   "source": [
    "На вход программе поступает строка, ваша задача подсчитать сколько раз в ней встречается латинская буква \"e\". При этом стоит учитывать как маленькие, так и заглавные буквы"
   ]
  },
  {
   "cell_type": "markdown",
   "metadata": {},
   "source": [
    "На вход программе поступает строка, ваша задача вывести на экран индекс первой найденной латинской буквы a\n",
    "\n",
    "Если такого символа в введенной строке нет, выведите -1"
   ]
  },
  {
   "cell_type": "code",
   "execution_count": null,
   "metadata": {
    "tags": [
     "45 cell"
    ]
   },
   "outputs": [],
   "source": [
    "string = input()\n",
    "\n",
    "print(string.find(\"a\"))"
   ]
  },
  {
   "cell_type": "code",
   "execution_count": null,
   "metadata": {
    "tags": [
     "46 cell"
    ]
   },
   "outputs": [],
   "source": [
    "string = input()\n",
    "\n",
    "print(string.rfind(\"a\"))"
   ]
  },
  {
   "cell_type": "markdown",
   "metadata": {},
   "source": [
    "Программа получает на вход фразу, состоящую из нескольких слов, разделенных пробелом.\n",
    "\n",
    "Ваша задача заменить все пробелы запятыми и вывести полученную строку."
   ]
  },
  {
   "cell_type": "markdown",
   "metadata": {},
   "source": [
    "На вход программе поступает строка, ваша задача удалить из нее все символы w и z.\n",
    "\n",
    "Учитываем только маленькие буквы"
   ]
  },
  {
   "cell_type": "code",
   "execution_count": null,
   "metadata": {
    "tags": [
     "47 cell"
    ]
   },
   "outputs": [],
   "source": [
    "my_string = input()\n",
    "\n",
    "print(my_string.replace(\"w\", \"\").replace(\"z\", \"\"))"
   ]
  },
  {
   "cell_type": "code",
   "execution_count": null,
   "metadata": {
    "tags": [
     "48 cell"
    ]
   },
   "outputs": [],
   "source": [
    "string = input().lower()\n",
    "\n",
    "ONLY_CONSONANTS = \"\".join(\n",
    "    char for char in string if char not in (\"a\", \"o\", \"y\", \"e\", \"u\", \"i\")\n",
    ")\n",
    "\n",
    "ONLY_CONSONANTS = ONLY_CONSONANTS.replace(\" \", \"\")\n",
    "\n",
    "ONLY_CONSONANTS = \".\" + \".\".join(list(ONLY_CONSONANTS)).rstrip(\".\")\n",
    "\n",
    "print(ONLY_CONSONANTS)"
   ]
  },
  {
   "cell_type": "markdown",
   "metadata": {},
   "source": [
    "Вы можете задать параметру другое значение. Когда параметр sep будет задан, то следующие друг за другом разделители не воспринимаются как один и считаются разделителями пустых строк"
   ]
  },
  {
   "cell_type": "markdown",
   "metadata": {},
   "source": [
    "Если параметр sep не указан, то последовательные пробелы объединяются вместе и вообще исключаются из разбиений. А если строка состоит только из пробелов или является пустой, то результатом разделения по пробелу будет пустой список\n",
    "\n",
    "Также можно передать вторым параметром maxsplit какое максимальное количество разбиений вы хотите выполнить"
   ]
  },
  {
   "cell_type": "code",
   "execution_count": null,
   "metadata": {
    "tags": [
     "48"
    ]
   },
   "outputs": [],
   "source": [
    "print(\"1, 2, 3, 4, 5\".split(\", \", maxsplit=2))\n",
    "print(\"a b C d e\".split(maxsplit=1))\n",
    "print(\"a b C d e\".split(maxsplit=2))\n",
    "print(\"a b C d e\".split(maxsplit=3))"
   ]
  },
  {
   "cell_type": "code",
   "execution_count": null,
   "metadata": {
    "tags": [
     "49 cell"
    ]
   },
   "outputs": [
    {
     "name": "stdout",
     "output_type": "stream",
     "text": [
      "2\n"
     ]
    }
   ],
   "source": [
    "string_49 = input().split()\n",
    "\n",
    "print(len(string_49))"
   ]
  },
  {
   "cell_type": "markdown",
   "metadata": {},
   "source": [
    "Ниже перед вами представлен список list_strings, состоящий из строк. При помощи метода .join и соединителя - получите строку из этих элементов и выведите ее на экран"
   ]
  },
  {
   "cell_type": "markdown",
   "metadata": {},
   "source": [
    "S.startswith(prefix[, start[, end]])\n",
    "\n",
    "Данный метод возвращает True если строка S начинается с последовательности символов prefix (префикса) и False в противном случае.  При передаче параметра start проверка начнется именно с этой позиции. Если передать значение  end, проверка закончится в этой позиции\n",
    "\n",
    "<br>\n",
    "\n",
    "\n",
    "S.endswith(prefix[, start[, end]])\n",
    "\n",
    "Данный метод возвращает True если строка S заканчивается последовательностью символов prefix (префикса) и False в противном случае.  При передаче параметра start проверка начнется именно с этой позиции. Если передать значение  end, проверка закончится в этой позиции."
   ]
  },
  {
   "cell_type": "markdown",
   "metadata": {},
   "source": [
    "<br>"
   ]
  },
  {
   "cell_type": "code",
   "execution_count": null,
   "metadata": {},
   "outputs": [],
   "source": [
    "string = input().lower()\n",
    "\n",
    "print(string.startswith(\"mam\"))"
   ]
  },
  {
   "cell_type": "markdown",
   "metadata": {},
   "source": [
    "Программа получает на вход две строки, назовем их s и postfix. Напишите программу, которая проверяет заканчивается ли введенная фраза s строкой postfix \n",
    "\n",
    "# Входные данные\n",
    "\n",
    "В отдельных строках вводятся два значения: сперва строка s, затем строка postfix\n",
    "\n",
    "# Выходные данные\n",
    "\n",
    "Нужно вывести True, если введенная строка s заканчивается строкой postfix , во всех остальных случаях нужно вывести False. Регистр букв нужно учитывать\n",
    "\n"
   ]
  },
  {
   "cell_type": "markdown",
   "metadata": {},
   "source": [
    "Напишите программу, которая проверяет, чтобы введенная фраза s одновременно начиналась со строки prefix и заканчивалась строкой postfix \n",
    "\n",
    "# Входные данные\n",
    "В отдельных строках вводится три значения: сперва строка s, затем строка prefix и потом postfix\n",
    "\n",
    "# Выходные данные\n",
    "Нужно вывести True, если введенная строка s одновременно начинается со строки prefix и заканчивается строкой postfix . Во всех остальных случаях нужно вывести False. Регистр букв нужно учитывать"
   ]
  },
  {
   "cell_type": "code",
   "execution_count": null,
   "metadata": {},
   "outputs": [],
   "source": [
    "print(\"0.1\", \"0.1\".isdigit())  # проверяет состоит ли  строка только из цифр"
   ]
  },
  {
   "cell_type": "code",
   "execution_count": null,
   "metadata": {},
   "outputs": [],
   "source": [
    "# проверяет состоит ли строка только из букв\n",
    "print(\"12a45\", \"12a45\".isalpha())"
   ]
  },
  {
   "cell_type": "code",
   "execution_count": null,
   "metadata": {},
   "outputs": [],
   "source": [
    "# возвращает True , если каждое новое слово начинается с заглавной буквы\n",
    "print(\"За Окошком Альпы?\", \"За Окошком Альпы?\".istitle())"
   ]
  },
  {
   "cell_type": "markdown",
   "metadata": {},
   "source": [
    "Напишите программу, которая проверяет состоит ли введенная строка целиком из десятичных цифр\n",
    "\n",
    "В качестве ответа необходимо вывести True, если условие выполняется, во всех остальных случаях нужно вывести False"
   ]
  },
  {
   "cell_type": "markdown",
   "metadata": {},
   "source": [
    "Напишите программу, которая проверяет состоит ли введенная строка целиком из заглавных букв\n",
    "\n",
    "В качестве ответа необходимо вывести True, если условие выполняется, во всех остальных случаях нужно вывести False"
   ]
  },
  {
   "cell_type": "code",
   "execution_count": null,
   "metadata": {},
   "outputs": [],
   "source": [
    "string = input()\n",
    "\n",
    "print(string.isupper())"
   ]
  },
  {
   "cell_type": "code",
   "execution_count": null,
   "metadata": {},
   "outputs": [],
   "source": [
    "string = input()\n",
    "\n",
    "print(string.islower())"
   ]
  },
  {
   "cell_type": "markdown",
   "metadata": {},
   "source": [
    " Метод .center  имеет следующий шаблон вызова:\n",
    "\n",
    "S.center(width[, fillchar])\n",
    "Метод .center принимает один обязательный параметр width - ширину строки и один необязательный параметр fillchar - знак заполнителя (по умолчанию пробел) . Возвращает новую строку длины width, в которой исходная строка S находится в центре, а справа и слева от нее находятся символы fillchar . Если параметр width меньше длины строки, то будет возвращена исходная строка без изменений. "
   ]
  },
  {
   "cell_type": "markdown",
   "metadata": {},
   "source": [
    " Метод .zfill  имеет следующий шаблон вызова:\n",
    "\n",
    "S.zfill(width)\n",
    "Метод .zfill возвращает новую строку, в которой исходная строка S дополнена нулями слева так, чтобы длина новой строки стала равна width."
   ]
  },
  {
   "cell_type": "code",
   "execution_count": null,
   "metadata": {
    "tags": [
     "56 cell"
    ]
   },
   "outputs": [],
   "source": [
    "TEXT = \"123\"\n",
    "print(TEXT.zfill(5))\n",
    "print(TEXT.zfill(6))\n",
    "print(TEXT.zfill(2))\n",
    "print(TEXT.zfill(3))\n",
    "print(\"0.123\".zfill(6))"
   ]
  },
  {
   "cell_type": "code",
   "execution_count": null,
   "metadata": {},
   "outputs": [],
   "source": [
    "string = input()\n",
    "\n",
    "len_string = len(string)\n",
    "\n",
    "final_result = string if len_string >= 15 else string.ljust(15, \"-\")\n",
    "\n",
    "print(final_result)"
   ]
  },
  {
   "cell_type": "markdown",
   "metadata": {},
   "source": [
    "На вход программе поступает строка. Ваша задача дополнить ее впереди восклицательными знаками так, чтобы длина строки стала 10 символов.\n",
    "\n",
    "Если на вход поступила строка, длина которой уже превысила 9 символов, то дополнять ее знаками ! не нужно. Просто выведите строку в том виде, в котором она вводилась"
   ]
  },
  {
   "cell_type": "markdown",
   "metadata": {},
   "source": [
    "При помощи метода .center дополните введенную строку до 15 символов. В качестве параметра fillchar возьмите нижнее подчеркивание _"
   ]
  },
  {
   "cell_type": "code",
   "execution_count": null,
   "metadata": {},
   "outputs": [],
   "source": [
    "string = input()\n",
    "\n",
    "len_string = len(string)\n",
    "\n",
    "final_result = string if len_string > 14 else string.center(15, \"_\")\n",
    "\n",
    "print(final_result)"
   ]
  },
  {
   "cell_type": "code",
   "execution_count": null,
   "metadata": {},
   "outputs": [
    {
     "name": "stdout",
     "output_type": "stream",
     "text": [
      "0000000556\n"
     ]
    }
   ],
   "source": [
    "number = int(input())\n",
    "formatted_number = str(number).zfill(10)\n",
    "print(formatted_number)"
   ]
  },
  {
   "cell_type": "markdown",
   "metadata": {},
   "source": [
    "Символы в параметре chars рассматриваются не как последовательность, а как набор символов, которые необходимо удалить:\n",
    "\n"
   ]
  },
  {
   "cell_type": "markdown",
   "metadata": {},
   "source": [
    "Метод  .rstrip возвращает копию строки, в которой справа удалены указанные символы (по умолчанию удаляются пробельные символы)."
   ]
  },
  {
   "cell_type": "code",
   "execution_count": null,
   "metadata": {},
   "outputs": [],
   "source": [
    "Q_STRING = \"   hello   \"\n",
    "print(Q_STRING)\n",
    "print(Q_STRING.rstrip())\n",
    "print(\"\\n\\n\\n_USB_\\n\\n\\n\\n\".rstrip())\n",
    "print(\"123_USB_123\".rstrip(\"123\"))\n",
    "print(\"321232321_USB_31121312\".rstrip(\"123\"))"
   ]
  },
  {
   "cell_type": "code",
   "execution_count": null,
   "metadata": {},
   "outputs": [],
   "source": [
    "Q_STRING = \"   hello   \"\n",
    "print(Q_STRING)\n",
    "print(Q_STRING.lstrip())\n",
    "print(\"\\n\\n\\n_USB_\\n\\n\\n\\n\".lstrip())\n",
    "print(\"123_USB_123\".lstrip(\"123\"))\n",
    "print(\"321232321_USB_31121312\".lstrip(\"123\"))"
   ]
  },
  {
   "cell_type": "markdown",
   "metadata": {},
   "source": [
    "Вводится строка, которая может быть окружена символами -, _, !, ?\n",
    "\n",
    "Ваша задача избавиться от символов -, _, !, ? и вывести полученную строку"
   ]
  },
  {
   "cell_type": "markdown",
   "metadata": {},
   "source": [
    "# Partition\n",
    "\n",
    "\n",
    "Метод  .partition разбивает строку по указанному разделителю и возвращает кортеж из трех элементов: строка до разделителя, сам разделитель и строка после разделителя. Если разделитель не найден, то возвращается кортеж так же состоящий из трех элементов в котором первый элемент – это исходная строка S, а два других элемента – это пустые строки."
   ]
  },
  {
   "cell_type": "code",
   "execution_count": null,
   "metadata": {},
   "outputs": [],
   "source": [
    "TEXT = \"Python is best\"\n",
    "\n",
    "print(TEXT.partition(\"is \"))\n",
    "print(TEXT.partition(\"not \"))\n",
    "\n",
    "MY_STR = \"Python is best, isn't it\"\n",
    "\n",
    "print(MY_STR.partition(\"is\"))"
   ]
  },
  {
   "cell_type": "code",
   "execution_count": null,
   "metadata": {},
   "outputs": [],
   "source": [
    "TEXT = \"Python is best\"\n",
    "\n",
    "print(TEXT.rpartition(\"is \"))\n",
    "print(TEXT.rpartition(\"not \"))\n",
    "\n",
    "MY_STR = \"Python is best, isn't it\"\n",
    "\n",
    "print(MY_STR.rpartition(\"is\"))"
   ]
  },
  {
   "cell_type": "code",
   "execution_count": null,
   "metadata": {},
   "outputs": [],
   "source": [
    "# экранирование обратного слеша\n",
    "print(\"new_word\\nsome\\ncoffee\")\n",
    "print(\n",
    "    r\"new_word\\nsome\\ncoffee\"\n",
    ")  # r строка используется для экранирования служебных символов\n",
    "print(\"new_word\\\\nsome\\\\ncoffee\")\n",
    "# print('/string/') # нельзя заканчивать строку обратным слешем"
   ]
  },
  {
   "cell_type": "code",
   "execution_count": null,
   "metadata": {},
   "outputs": [
    {
     "name": "stdout",
     "output_type": "stream",
     "text": [
      "  /~~~\\\n",
      " //^ ^\\\\\n",
      "(/(_*_)\\)\n",
      "_/''*''\\_\n",
      "(/_)^(_\\)\n",
      "  /~~~\\\n",
      " //^ ^\\\\\n",
      "(/(_*_)\\)\n",
      "_/''*''\\_\n",
      "(/_)^(_\\)\n"
     ]
    }
   ],
   "source": [
    "# print(\"  /~~~\\\\\", \" //^ ^\\\\\\\\\", r\"(/(_*_)\\)\", \"_/''*''\\\\_\",\n",
    "# \"(/_)^(_\\\\)\", sep=\"\\n\")\n",
    "# print(\"  /~~~\\\\\\n //^ ^\\\\\\\\\\n(/(_*_)\\\\)\\n_/''*''\\\\_\\n(/_)^(_\\\\)\")"
   ]
  },
  {
   "cell_type": "code",
   "execution_count": null,
   "metadata": {
    "tags": [
     "66 cell"
    ]
   },
   "outputs": [
    {
     "name": "stdout",
     "output_type": "stream",
     "text": [
      "Дорогой Cемен Cеменович, баланс вашего лицевого счета составляет 32.56 руб\n",
      "Дорогая Тамара Ивановна, баланс вашего лицевого счета составляет 154.21 руб\n"
     ]
    }
   ],
   "source": [
    "gender = {\n",
    "    \"m\": \"Дорогой\",\n",
    "    \"f\": \"Дорогая\",\n",
    "}\n",
    "\n",
    "nested_list_a = [\n",
    "    [\"Cемен\", \"Cеменович\", 32.56, \"m\"],\n",
    "    [\"Тамара\", \"Ивановна\", 154.21, \"f\"],\n",
    "]\n",
    "\n",
    "for name, surname, balance, g_str in nested_list_a:\n",
    "    g_inner = str(g_str)\n",
    "    text = f\"{gender[g_inner]} {name} {surname},ваш баланс {balance} руб\"\n",
    "    print(text)"
   ]
  },
  {
   "cell_type": "markdown",
   "metadata": {},
   "source": [
    "На вход вашей программе поступают координаты точки x и y - два целых числа, каждое вводится на отдельной строчке. \n",
    "\n",
    "Ваша задача обязательно сохранить поступающие на вход значения в переменные x и y соответственно, и затем вывести строку вида Точка(x = {значение}, y = {значение})"
   ]
  },
  {
   "cell_type": "code",
   "execution_count": null,
   "metadata": {},
   "outputs": [],
   "source": [
    "first_point = int(input())\n",
    "second_point = int(input())\n",
    "\n",
    "print(f\"Точка({first_point = }, {second_point = })\")"
   ]
  },
  {
   "cell_type": "code",
   "execution_count": null,
   "metadata": {
    "tags": [
     "68 cell pylint"
    ]
   },
   "outputs": [],
   "source": [
    "# формат вывода целых чисел\n",
    "\n",
    "NUM = 12345\n",
    "print(f\"{NUM:8d}\")\n",
    "print(f\"{NUM:7d}\")\n",
    "print(f\"{NUM:6d}\")\n",
    "\n",
    "print(f\"{NUM:08d}\")\n",
    "print(f\"{NUM:07d}\")\n",
    "print(f\"{NUM:06d}\")\n",
    "\n",
    "NUM = 12345678912345\n",
    "\n",
    "print(f\"{NUM:,d}\")\n",
    "print(f\"{NUM:_d}\")\n",
    "\n",
    "SEP = \"_\"\n",
    "print(f\"{NUM:{SEP}d}\")  # вложенная f-строка"
   ]
  },
  {
   "cell_type": "code",
   "execution_count": null,
   "metadata": {
    "tags": [
     "69 cell pylint"
    ]
   },
   "outputs": [
    {
     "name": "stdout",
     "output_type": "stream",
     "text": [
      "Число\t\tКвадрат\t\tКуб\n",
      " 1\t\t  1\t\t   1\n",
      " 2\t\t  4\t\t   8\n",
      " 3\t\t  9\t\t  27\n",
      " 4\t\t 16\t\t  64\n",
      " 5\t\t 25\t\t 125\n",
      " 6\t\t 36\t\t 216\n",
      " 7\t\t 49\t\t 343\n",
      " 8\t\t 64\t\t 512\n",
      " 9\t\t 81\t\t 729\n",
      "10\t\t100\t\t1000\n"
     ]
    }
   ],
   "source": [
    "print(\"Число\\t\\tКвадрат\\t\\tКуб\")\n",
    "for num_x in range(1, 11):\n",
    "    print(f\"{num_x:2d}\\t\\t{num_x*num_x:3d}\\t\\t{num_x*num_x*num_x:4d}\")"
   ]
  },
  {
   "cell_type": "markdown",
   "metadata": {},
   "source": [
    "Символы \"|\" используются в f-строке, чтобы помочь очертить интервал. Число после «:» указывает на количество символов в ширину.\n",
    "\n",
    "По умолчанию символом заполнителем является пробел, но можно его заменить на другое значение"
   ]
  },
  {
   "cell_type": "code",
   "execution_count": null,
   "metadata": {
    "tags": [
     "70 cell"
    ]
   },
   "outputs": [],
   "source": [
    "NUMBER_F = 12345.6789\n",
    "print(f\"Число {NUMBER_F = }\")\n",
    "print(f\"|{NUMBER_F:=<25}|\")\n",
    "print(f\"|{NUMBER_F:=>25}|\")\n",
    "print(f\"|{NUMBER_F:=^25}|\")\n",
    "print(\"-\" * 25)\n",
    "TEXT = \"Python 3.10\"\n",
    "print(f\"Строка {TEXT = }\")\n",
    "print(f\"|{TEXT:-<25}|\")\n",
    "print(f\"|{TEXT:!>25}|\")\n",
    "print(f\"|{TEXT:?^25}|\")"
   ]
  },
  {
   "cell_type": "code",
   "execution_count": null,
   "metadata": {},
   "outputs": [],
   "source": [
    "list_ = [1, 5, 4, 2, 7]\n",
    "print(sorted(list_))\n",
    "print(sorted(list_, reverse=True))"
   ]
  },
  {
   "cell_type": "code",
   "execution_count": null,
   "metadata": {
    "tags": [
     "72 cell pylint"
    ]
   },
   "outputs": [],
   "source": [
    "# получаем True как 100>32\n",
    "# [100, 54] > [32, 54, 66, 25]"
   ]
  },
  {
   "cell_type": "code",
   "execution_count": null,
   "metadata": {
    "tags": [
     "73 cell pylint"
    ]
   },
   "outputs": [
    {
     "name": "stdout",
     "output_type": "stream",
     "text": [
      "[434, 234234]\n"
     ]
    }
   ],
   "source": [
    "list_nums_a = list(map(int, input().split()))\n",
    "print(list_nums_a[1::3])"
   ]
  },
  {
   "cell_type": "code",
   "execution_count": null,
   "metadata": {
    "tags": [
     "74 cell pylint"
    ]
   },
   "outputs": [
    {
     "name": "stdout",
     "output_type": "stream",
     "text": [
      "[23, 44, 100, 12, 44]\n",
      "[23, 44, 100, 12]\n",
      "[23, 44, 12, 100]\n",
      "[12, 23, 44, 100]\n",
      "[100, 44, 23, 12]\n"
     ]
    }
   ],
   "source": [
    "list_numbers = [23, 44, 12, 44]\n",
    "\n",
    "# Insert the value 100 at index 2 in the list\n",
    "list_numbers.insert(2, 100)\n",
    "print(list_numbers)\n",
    "\n",
    "# Remove the last element from the list\n",
    "list_numbers.pop()\n",
    "print(list_numbers)\n",
    "\n",
    "# Append the value 100 to the end of the list\n",
    "list_numbers.append(100)\n",
    "# Remove the first occurrence of the value 100 from the list\n",
    "list_numbers.remove(100)\n",
    "print(list_numbers)\n",
    "\n",
    "# Sort the list in ascending order\n",
    "list_numbers.sort()\n",
    "print(list_numbers)\n",
    "\n",
    "# Sort the list in descending order\n",
    "list_numbers.sort(reverse=True)\n",
    "print(list_numbers)"
   ]
  },
  {
   "cell_type": "code",
   "execution_count": null,
   "metadata": {},
   "outputs": [],
   "source": [
    "numbers = [\n",
    "    -214,\n",
    "    181,\n",
    "    -139,\n",
    "    448,\n",
    "    -20,\n",
    "    -917,\n",
    "    32,\n",
    "    422,\n",
    "    -895,\n",
    "    198,\n",
    "    284,\n",
    "    472,\n",
    "    -986,\n",
    "    -964,\n",
    "    -989,\n",
    "    29,\n",
    "]\n",
    "\n",
    "positions = [-1, 0, 12, 7]\n",
    "deleted_values = []\n",
    "\n",
    "for position in positions:\n",
    "    deleted_values.append(numbers.pop(position))\n",
    "\n",
    "print(numbers)\n",
    "print(sum(deleted_values))"
   ]
  },
  {
   "cell_type": "markdown",
   "metadata": {},
   "source": [
    "Вводится два слова через пробел. Ваша задача преобразовать данную фразу таким образом, чтобы все буквы стали заглавными и между буквами в каждом слове появились дефисы"
   ]
  },
  {
   "cell_type": "code",
   "execution_count": null,
   "metadata": {},
   "outputs": [],
   "source": [
    "full_name = input().split()\n",
    "\n",
    "initials = f\"{full_name[2]} {full_name[0][0]}.{full_name[1][0]}.\"\n",
    "\n",
    "print(initials)"
   ]
  },
  {
   "cell_type": "markdown",
   "metadata": {},
   "source": [
    "Программа получает на вход список из целых чисел, при этом гарантируется, что числа в списке повторяться не будут.\n",
    "​​Ваша задача удалить из этого списка числа 3, 5, 7 и 9. \n",
    "\n",
    "Обратите внимание, что каждое из чисел 3, 5, 7 и 9. необязательно должно присутствовать в введенном списке.\n",
    "\n",
    "В качестве ответа необходимо распечатать измененный список"
   ]
  },
  {
   "cell_type": "code",
   "execution_count": null,
   "metadata": {},
   "outputs": [
    {
     "name": "stdout",
     "output_type": "stream",
     "text": [
      "[34, 43, 6]\n"
     ]
    }
   ],
   "source": [
    "list_nums_a = list(map(int, input().split()))\n",
    "\n",
    "elements_remove = [3, 5, 7, 9]\n",
    "\n",
    "for value in elements_remove:\n",
    "    if value in list_nums_a:\n",
    "        list_nums_a.remove(value)\n",
    "\n",
    "print(list_nums_a)"
   ]
  },
  {
   "cell_type": "code",
   "execution_count": null,
   "metadata": {
    "tags": [
     "78 cell pylint"
    ]
   },
   "outputs": [
    {
     "name": "stdout",
     "output_type": "stream",
     "text": [
      "Хорошо, я пошел!\n"
     ]
    }
   ],
   "source": [
    "# Вы можете спокойно вызывать методы объекта внутри оператора match-case\n",
    "\n",
    "DIRECTION = \"NoRtH\"\n",
    "match DIRECTION.lower():\n",
    "    case \"north\" | \"east\" | \"south\" | \"west\":\n",
    "        print(\"Хорошо, я пошел!\")\n",
    "    case _:\n",
    "        print(\"Неизвестное направление...\")"
   ]
  },
  {
   "cell_type": "code",
   "execution_count": null,
   "metadata": {
    "tags": [
     "79 cell pylint"
    ]
   },
   "outputs": [
    {
     "name": "stdout",
     "output_type": "stream",
     "text": [
      "Имеем дело со списком\n"
     ]
    }
   ],
   "source": [
    "# Смотрите как легко можно проверить переменную\n",
    "# value на принадлежность к определенному типу\n",
    "\n",
    "# меняем значение переменной num_values\n",
    "# num_values = [1, 2, 3]\n",
    "\n",
    "# for num_value in num_values:\n",
    "#     match num_value:\n",
    "#         case int() | float():\n",
    "#             print(\"Имеем дело с числом\")\n",
    "#         case str():\n",
    "#             print(\"Имеем дело со строкой\")\n",
    "#         case list():\n",
    "#             print(\"Имеем дело со списком\")\n",
    "#         case _:\n",
    "#             print(\"Лучше с этим дел не иметь\")"
   ]
  },
  {
   "cell_type": "code",
   "execution_count": null,
   "metadata": {},
   "outputs": [],
   "source": [
    "fruits = {\"apple\", \"banana\", \"cherry\"}\n",
    "fruits.add(\"orange\")\n",
    "print(fruits)  # выведет {'banana', 'cherry', 'orange', 'apple'}"
   ]
  }
 ],
 "metadata": {
  "kernelspec": {
   "display_name": ".venv",
   "language": "python",
   "name": "python3"
  },
  "language_info": {
   "codemirror_mode": {
    "name": "ipython",
    "version": 3
   },
   "file_extension": ".py",
   "mimetype": "text/x-python",
   "name": "python",
   "nbconvert_exporter": "python",
   "pygments_lexer": "ipython3",
   "version": "3.11.4"
  }
 },
 "nbformat": 4,
 "nbformat_minor": 2
}
