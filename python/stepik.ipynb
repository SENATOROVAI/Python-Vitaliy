{
 "cells": [
  {
   "cell_type": "code",
   "execution_count": 26,
   "metadata": {},
   "outputs": [
    {
     "name": "stdout",
     "output_type": "stream",
     "text": [
      "460\n",
      "500\n",
      "2\n",
      "4\n"
     ]
    }
   ],
   "source": [
    "print(round(456, -1))\n",
    "print(round(456, -2))\n",
    "\n",
    "print(round(2.5))  #  если число четное округление производися в меньшую сторону\n",
    "print(round(3.5))  #  если же число четное то округление производится в большую сторону"
   ]
  },
  {
   "cell_type": "code",
   "execution_count": 24,
   "metadata": {},
   "outputs": [
    {
     "name": "stdout",
     "output_type": "stream",
     "text": [
      "5\n",
      "0\n",
      "0\n",
      "2\n"
     ]
    }
   ],
   "source": [
    "print(5 % 10)  # остаток от деления\n",
    "print(5 // 10)  # целочисленное деление (сколько раз пятерка помещается в 10)\n",
    "print(10 % 5)\n",
    "print(10 // 5)"
   ]
  },
  {
   "cell_type": "code",
   "execution_count": 12,
   "metadata": {},
   "outputs": [
    {
     "name": "stdout",
     "output_type": "stream",
     "text": [
      "4.0\n",
      "4.5\n",
      "3.0\n"
     ]
    }
   ],
   "source": [
    "print(pow(16, 0.5))  # возведение в степень\n",
    "\n",
    "print(9**1 / 2)  #  неправильное возведение в степень (в данном случае взятие корня)\n",
    "print(9 ** (1 / 2))  #  правильное возведение в степень (в данном случае взятие корня)"
   ]
  },
  {
   "cell_type": "code",
   "execution_count": 23,
   "metadata": {},
   "outputs": [
    {
     "name": "stdout",
     "output_type": "stream",
     "text": [
      "8\n"
     ]
    },
    {
     "data": {
      "text/plain": [
       "'\\nПервая итерация: Вход 251 \\nn = 251%10 \\nn = 1 (так как 251 делится на 10 с остатком 1)\\nsum_digits += n == 0+1 (где 0 изначальное значение, а 1 полученное)\\nnumber //=10 == 251//10\\nnumber = 25 (так как число 251 делится 25 раз нацело на число 10)\\n\\n\\n***\\nИтерации повторяются пока n > 0\\n\\n'"
      ]
     },
     "execution_count": 23,
     "metadata": {},
     "output_type": "execute_result"
    }
   ],
   "source": [
    "number = 251\n",
    "\n",
    "sum_digits = 0\n",
    "\n",
    "while number > 0:\n",
    "    n = number % 10\n",
    "    sum_digits += n\n",
    "    number //= 10\n",
    "\n",
    "print(sum_digits)\n",
    "\n",
    "\"\"\"\n",
    "Первая итерация: Вход 251 \n",
    "n = 251%10 \n",
    "n = 1 (так как 251 делится на 10 с остатком 1)\n",
    "sum_digits += n == 0+1 (где 0 изначальное значение, а 1 полученное)\n",
    "number //=10 == 251//10\n",
    "number = 25 (так как число 251 делится 25 раз нацело на число 10)\n",
    "\n",
    "\n",
    "***\n",
    "Итерации повторяются пока n > 0\n",
    "\n",
    "\"\"\""
   ]
  },
  {
   "cell_type": "code",
   "execution_count": 35,
   "metadata": {},
   "outputs": [
    {
     "name": "stdout",
     "output_type": "stream",
     "text": [
      "-2\n",
      "1\n",
      "-1\n",
      "0\n"
     ]
    }
   ],
   "source": [
    "print(-12 // 10)\n",
    "print(12 // 10)\n",
    "print(-7 // 10)\n",
    "print(7 // 10)"
   ]
  },
  {
   "cell_type": "code",
   "execution_count": 41,
   "metadata": {},
   "outputs": [
    {
     "name": "stdout",
     "output_type": "stream",
     "text": [
      "5 4\n"
     ]
    }
   ],
   "source": [
    "a = 4\n",
    "b = 5\n",
    "a, b = b, a  # Правильная смена значений  для переменных\n",
    "\n",
    "print(a, b)"
   ]
  },
  {
   "cell_type": "code",
   "execution_count": 43,
   "metadata": {},
   "outputs": [
    {
     "name": "stdout",
     "output_type": "stream",
     "text": [
      "5 5\n"
     ]
    }
   ],
   "source": [
    "a = 4\n",
    "b = 5\n",
    "a = b  # Неправильная смена значений\n",
    "b = a  # Неправильная смена значений\n",
    "print(a, b)"
   ]
  },
  {
   "cell_type": "code",
   "execution_count": 58,
   "metadata": {},
   "outputs": [
    {
     "name": "stdout",
     "output_type": "stream",
     "text": [
      "16\n",
      "4.0\n"
     ]
    }
   ],
   "source": [
    "number = int(input())\n",
    "print(number * 2)\n",
    "print(number / 2)"
   ]
  },
  {
   "cell_type": "markdown",
   "metadata": {},
   "source": [
    "Петя учится в школе и очень любит математику. Уже несколько занятий они с классом проходят арифметические выражения. На последнем уроке учительница написала на доске три положительных целых числа a, b, c. Задание заключалось в том, чтобы расставить между этими числами знаки операций '+' и '*', а также, возможно, скобки. Значение получившегося выражения должно быть как можно больше. Рассмотрим пример: пусть учительница выписала на доску числа 1, 2 и 3. Вот некоторые варианты расстановки знаков и скобок:\n",
    "\n",
    "1+2*3=7\n",
    "1*(2+3)=5\n",
    "1*2*3=6\n",
    "(1+2)*3=9\n",
    "Обратите внимание на то, что знаки операций можно вставлять только между a и b, а также между b и c, то есть нельзя менять числа местами. Так, в приведенном примере нельзя получить выражение (1+3)*2.\n",
    "\n",
    "Легко убедиться, что максимальное значение, которое можно получить, — это 9.\n",
    "\n",
    "Ваша задача — по заданным a, b и c вывести, какое максимальное значение выражения можно получить.\n",
    "\n",
    "Входные данные\n",
    "\n",
    "Во входных данных записаны три целых числа a, b и c, каждое в отдельной строке (1 ≤ a, b, c ≤ 10).\n",
    "\n",
    "Выходные данные\n",
    "\n",
    "Выведите максимальное значение выражения, которое можно получить."
   ]
  },
  {
   "cell_type": "code",
   "execution_count": 66,
   "metadata": {},
   "outputs": [
    {
     "name": "stdout",
     "output_type": "stream",
     "text": [
      "48\n"
     ]
    }
   ],
   "source": [
    "n1, n2, n3 = [int(input()) for _ in range(3)]\n",
    "\n",
    "first_case = (n1 + n2) * n3\n",
    "second_case = n1 * (n2 + n3)\n",
    "third_case = n1 * n2 * n3\n",
    "fourth_case = n1 + n2 + n3\n",
    "fifth_case = n1 * n2 + n3\n",
    "sixth_case = n1 + n2 * n3\n",
    "\n",
    "print(max(first_case, second_case, third_case, fourth_case, fifth_case, sixth_case))"
   ]
  },
  {
   "cell_type": "markdown",
   "metadata": {},
   "source": [
    "Известно, что на обработку одного квадратного метра панели требуется 1г сульфида. Всего необходимо обработать N прямоугольных панелей размером A на B метров. Вам необходимо подсчитать, сколько всего сульфида необходимо на обработку всех панелей. И не забудьте, что панели требуют обработки с обеих сторон.\n",
    "\n",
    "На вход программе подаются 3 положительных целых числа N,A,B в одну строку"
   ]
  },
  {
   "cell_type": "code",
   "execution_count": 74,
   "metadata": {},
   "outputs": [
    {
     "name": "stdout",
     "output_type": "stream",
     "text": [
      "440\n"
     ]
    }
   ],
   "source": [
    "n, a, b = map(int, input().split())\n",
    "\n",
    "total_sum = n * a * b * 2\n",
    "\n",
    "print(total_sum)"
   ]
  },
  {
   "cell_type": "markdown",
   "metadata": {},
   "source": [
    "Петя, Катя и Сережа делают из бумаги журавликов. Вместе они сделали S журавликов. Сколько журавликов сделал каждый ребенок, если известно, что Петя и Сережа сделали одинаковое количество журавликов, а Катя сделала в два раза больше журавликов, чем Петя и Сережа вместе?\n",
    "\n",
    "Входные данные\n",
    "Поступает одно натуральное число S – общее количество сделанных журавликов.\n",
    "\n",
    "Выходные данные\n",
    "В единственную строку нужно вывести три числа, разделенных пробелами – количество журавликов, которые сделал каждый ребенок (Петя, Катя и Сережа).\n",
    "\n"
   ]
  },
  {
   "cell_type": "code",
   "execution_count": 92,
   "metadata": {},
   "outputs": [
    {
     "name": "stdout",
     "output_type": "stream",
     "text": [
      "1 4 1\n"
     ]
    }
   ],
   "source": [
    "# solution\n",
    "\n",
    "total_amount = int(input())\n",
    "\n",
    "petya_amount = total_amount // 6\n",
    "sergey_amount = petya_amount\n",
    "\n",
    "kate_amount = petya_amount * 4\n",
    "\n",
    "print(petya_amount, kate_amount, sergey_amount)"
   ]
  },
  {
   "cell_type": "markdown",
   "metadata": {},
   "source": [
    "Однажды, посетив магазин канцелярских товаров, Вася купил X карандашей, Y ручек и Z фломастеров. Известно, что цена ручки на 2 рубля больше цены карандаша и на 7 рублей меньше цены фломастера. Также известно, что стоимость карандаша составляет 3 рубля. Требуется определить общую стоимость покупки."
   ]
  },
  {
   "cell_type": "code",
   "execution_count": 97,
   "metadata": {},
   "outputs": [
    {
     "name": "stdout",
     "output_type": "stream",
     "text": [
      "20\n"
     ]
    }
   ],
   "source": [
    "x, y, z = map(int, input().split())\n",
    "\n",
    "x_price = 3\n",
    "\n",
    "total_spend = 3 * x + y * (x_price + 2) + z * (x_price + 2 + 7)\n",
    "\n",
    "print(total_spend)"
   ]
  },
  {
   "cell_type": "markdown",
   "metadata": {},
   "source": [
    "Бандиты Гарри и Ларри отдыхали на природе. Решив пострелять, они выставили на бревно несколько банок из-под кока-колы (не больше 10). Гарри начал простреливать банки по порядку, начиная с самой левой, Ларри — с самой правой. В какой-то момент получилось так, что они одновременно прострелили одну и ту же последнюю банку.\n",
    "\n",
    "Гарри возмутился и сказал, что Ларри должен ему кучу денег за то, что тот лишил его удовольствия прострелить несколько банок. В ответ Ларри сказал, что Гарри должен ему еще больше денег по тем же причинам. Они стали спорить кто кому сколько должен, но никто из них не помнил сколько банок было в начале, а искать простреленные банки по всей округе было неохота. Каждый из них помнил только, сколько банок прострелил он сам.\n",
    "\n",
    "Определите по этим данным, сколько банок не прострелил Гарри и сколько банок не прострелил Ларри."
   ]
  },
  {
   "cell_type": "code",
   "execution_count": 100,
   "metadata": {},
   "outputs": [
    {
     "name": "stdout",
     "output_type": "stream",
     "text": [
      "6 3\n"
     ]
    }
   ],
   "source": [
    "a, b = map(int, input().split())\n",
    "\n",
    "larry_shoot = b - 1\n",
    "garry_shoot = a - 1\n",
    "\n",
    "print(larry_shoot, garry_shoot)"
   ]
  },
  {
   "cell_type": "code",
   "execution_count": 105,
   "metadata": {},
   "outputs": [
    {
     "name": "stdout",
     "output_type": "stream",
     "text": [
      "4<5<6\n"
     ]
    }
   ],
   "source": [
    "n = int(input())\n",
    "\n",
    "print(n - 1, \"<\", n, \"<\", n + 1, sep=\"\")"
   ]
  },
  {
   "cell_type": "code",
   "execution_count": 106,
   "metadata": {},
   "outputs": [
    {
     "name": "stdout",
     "output_type": "stream",
     "text": [
      "4\n",
      "1\n",
      "0\n"
     ]
    }
   ],
   "source": [
    "# Если поделить любое число по остатку на 10 мы получим последнюю цифру\n",
    "\n",
    "print(221412414 % 10)\n",
    "print(5433463631 % 10)\n",
    "print(2675756850 % 10)"
   ]
  },
  {
   "cell_type": "code",
   "execution_count": 3,
   "metadata": {},
   "outputs": [
    {
     "name": "stdout",
     "output_type": "stream",
     "text": [
      "5\n",
      "3\n"
     ]
    }
   ],
   "source": [
    "print(\n",
    "    37 % 8\n",
    ")  # Output: 5 Обьяснение : a - b * (a/b) = 37 - 8 * 4(точный результат 4.5 но пайтон округляет до меньшего числа) = 37 - 32 = 5\n",
    "print(\n",
    "    -37 % 8\n",
    ")  # Output:3 Обьяснение : a - b * (a/b) = 37 - 8 * (-5) (точный результат 4.5 но пайтон округляет до меньшего числа) = 37 + 40 = 3"
   ]
  },
  {
   "cell_type": "code",
   "execution_count": 14,
   "metadata": {},
   "outputs": [
    {
     "name": "stdout",
     "output_type": "stream",
     "text": [
      "75\n"
     ]
    }
   ],
   "source": [
    "a = int(input())\n",
    "\n",
    "print(a // 100 + a % 100 + a // 20 + a % 20 + a // 10 + a % 10 + a // 5 + a % 5)"
   ]
  },
  {
   "cell_type": "code",
   "execution_count": 19,
   "metadata": {},
   "outputs": [
    {
     "name": "stdout",
     "output_type": "stream",
     "text": [
      "3\n"
     ]
    }
   ],
   "source": [
    "a = int(input())\n",
    "\n",
    "print(a // 100 + a % 100 // 20 + a % 20 // 10 + a % 10 // 5 + a % 5)"
   ]
  },
  {
   "cell_type": "markdown",
   "metadata": {},
   "source": [
    "Дано число n. С начала суток прошло n минут. Определите, сколько часов и минут будут показывать электронные часы в этот момент.\n",
    "\n",
    "Программа должна вывести два числа: количество часов (от 0 до 23) и количество минут (от 0 до 59).\n",
    "\n",
    "Учтите, что число n может быть больше, чем количество минут в сутках."
   ]
  },
  {
   "cell_type": "code",
   "execution_count": 35,
   "metadata": {},
   "outputs": [
    {
     "name": "stdout",
     "output_type": "stream",
     "text": [
      "3 3\n"
     ]
    }
   ],
   "source": [
    "# solution\n",
    "\n",
    "a = int(input())\n",
    "\n",
    "hours = a // 60 % 24\n",
    "\n",
    "minutes = a % 60\n",
    "\n",
    "print(hours, minutes)"
   ]
  },
  {
   "cell_type": "markdown",
   "metadata": {},
   "source": [
    "Дано целое число n. Выведите следующее за ним четное число.\n",
    "\n",
    "Задачу необходимо решить целочисленными операциями без использования условных операторов и\\или циклов."
   ]
  },
  {
   "cell_type": "code",
   "execution_count": 47,
   "metadata": {},
   "outputs": [
    {
     "name": "stdout",
     "output_type": "stream",
     "text": [
      "8\n"
     ]
    }
   ],
   "source": [
    "a = int(input())\n",
    "\n",
    "next_pair_number = a + 2 - (a % 2)\n",
    "\n",
    "print(next_pair_number)"
   ]
  },
  {
   "cell_type": "markdown",
   "metadata": {},
   "source": [
    "Электронные часы показывают время в формате h:mm:ss, то есть сначала записывается количество часов в диапазоне от 0 до 23, потом обязательно двузначное количество минут, затем обязательно двузначное количество секунд. Количество минут и секунд при необходимости дополняются до двузначного числа нулями.\n",
    "\n",
    "Программа получает на вход число n - количество секунд, которое прошло с начала суток.\n",
    "\n",
    "Выведите показания часов, соблюдая формат."
   ]
  },
  {
   "cell_type": "code",
   "execution_count": 62,
   "metadata": {},
   "outputs": [
    {
     "name": "stdout",
     "output_type": "stream",
     "text": [
      "1:23:20\n"
     ]
    }
   ],
   "source": [
    "n = int(input())\n",
    "\n",
    "hours = n // 3600\n",
    "minutes = n // 60 % 60\n",
    "seconds = n % 60\n",
    "\n",
    "formatted_minutes = str(minutes).zfill(2)\n",
    "formatted_seconds = str(seconds).zfill(2)\n",
    "\n",
    "print(f\"{hours}:{formatted_minutes}:{formatted_seconds}\")"
   ]
  },
  {
   "cell_type": "markdown",
   "metadata": {},
   "source": [
    "Последовательность выполнения союзов если нет скобок.\n",
    "\n",
    "1. Not\n",
    "2. And\n",
    "3. Or"
   ]
  },
  {
   "cell_type": "markdown",
   "metadata": {},
   "source": [
    "**Конъюнкция (логическое умножение):**\n",
    "\n",
    "Конъюнкция двух выражений выполняется оператором `and` в Python. Результат выражения `a and b` истинен только в случае, если оба выражения `a` и `b` истинны. Например, в программе проверяется, выполнены ли оба условия для продолжения выполнения кода:\n",
    "\n",
    "```python\n",
    "is_sunny = True\n",
    "is_warm = True\n",
    "\n",
    "if is_sunny and is_warm:\n",
    "    print(\"Погода отличная! Выходи на улицу.\")\n",
    "else:\n",
    "    print(\"Подожди немного, возможно, слишком холодно или пасмурно.\")\n",
    "```\n",
    "\n",
    "**Дизъюнкция (логическое сложение):**\n",
    "\n",
    "Дизъюнкция двух выражений выполняется оператором `or` в Python. Результат выражения `a or b` истинен, если хотя бы одно из выражений `a` или `b` истинно. Например, в программе проверяется, выполнено ли хотя бы одно из условий для принятия решения:\n",
    "\n",
    "```python\n",
    "has_permission = False\n",
    "is_admin = True\n",
    "\n",
    "if has_permission or is_admin:\n",
    "    print(\"Доступ разрешен.\")\n",
    "else:\n",
    "    print(\"Доступ запрещен. Необходимы права администратора или разрешения.\")\n",
    "```\n",
    "\n",
    "**Инверсия (логическое отрицание):**\n",
    "\n",
    "Инверсия выражения выполняется оператором `not` в Python. Результат выражения `not a` истинен, если `a` ложно. Например, в программе проверяется отсутствие какого-либо условия:\n",
    "\n",
    "```python\n",
    "is_raining = True\n",
    "\n",
    "if not is_raining:\n",
    "    print(\"На улице сухо. Можно выйти гулять.\")\n",
    "else:\n",
    "    print(\"Лучше остаться дома, идет дождь.\")\n",
    "```\n",
    "\n",
    "**Импликация (логическое следование):**\n",
    "\n",
    "Импликация двух высказываний `a` и `b` истинна в Python, если ложно первое высказывание или истинно второе. Например, в программе проверяется, если ли нужные данные для выполнения операции:\n",
    "\n",
    "```python\n",
    "has_data = False\n",
    "is_valid = True\n",
    "\n",
    "if not has_data or is_valid:\n",
    "    print(\"Можно выполнить операцию.\")\n",
    "else:\n",
    "    print(\"Отсутствуют необходимые данные или данные неверные.\")\n",
    "```\n",
    "\n",
    "**Эквивалентность (логическая равнозначность):**\n",
    "\n",
    "Эквивалентность двух высказываний `a` и `b` истинна в Python, если оба высказывания истинны или оба высказывания ложны. Например, в программе проверяется, равны ли два числа:\n",
    "\n",
    "```python\n",
    "num1 = 10\n",
    "num2 = 10\n",
    "\n",
    "if num1 == num2:\n",
    "    print(\"Числа равны.\")\n",
    "else:\n",
    "    print(\"Числа не равны.\")\n",
    "```\n"
   ]
  },
  {
   "cell_type": "markdown",
   "metadata": {},
   "source": [
    "**Закон де Моргана для конъюнкции и дизъюнкции:**\n",
    "\n",
    "1. **Закон де Моргана для конъюнкции:**\n",
    "   ```\n",
    "   not (A and B) == (not A) or (not B)\n",
    "   ```\n",
    "   Этот закон гласит, что отрицание конъюнкции двух высказываний равносильно дизъюнкции отрицаний каждого высказывания по отдельности.\n",
    "\n",
    "   Пример в Python:\n",
    "\n",
    "   ```python\n",
    "   has_permission = True\n",
    "   is_admin = False\n",
    "\n",
    "   if not (has_permission and is_admin):\n",
    "       print(\"Доступ разрешен для неадминистратора или тех, у кого нет разрешений.\")\n",
    "   else:\n",
    "       print(\"Доступ запрещен для администраторов с разрешениями.\")\n",
    "   ```\n",
    "\n",
    "2. **Закон де Моргана для дизъюнкции:**\n",
    "   ```\n",
    "   not (A or B) == (not A) and (not B)\n",
    "   ```\n",
    "   Этот закон утверждает, что отрицание дизъюнкции двух высказываний равносильно конъюнкции отрицаний каждого высказывания по отдельности.\n",
    "\n",
    "   Пример в Python:\n",
    "\n",
    "   ```python\n",
    "   is_raining = False\n",
    "   has_umbrella = False\n",
    "\n",
    "   if not (is_raining or has_umbrella):\n",
    "       print(\"Лучше подождать, пока дождь не закончится или взять зонт.\")\n",
    "   else:\n",
    "       print(\"Можно выходить на улицу, есть зонт или дождя нет.\")\n",
    "   ```\n",
    "\n",
    "**Закон де Моргана для импликации и эквивалентности:**\n",
    "\n",
    "1. **Закон де Моргана для импликации:**\n",
    "   ```\n",
    "   not (A → B) == A and (not B)\n",
    "   ```\n",
    "   Этот закон утверждает, что отрицание импликации двух высказываний равносильно конъюнкции первого высказывания и отрицания второго высказывания.\n",
    "\n",
    "   Пример в Python:\n",
    "\n",
    "   ```python\n",
    "   has_key = False\n",
    "   locked_door = True\n",
    "\n",
    "   if not (has_key or not locked_door):\n",
    "       print(\"Можно открыть дверь без ключа или дверь не заперта.\")\n",
    "   else:\n",
    "       print(\"Дверь заперта и нет ключа. Невозможно открыть.\")\n",
    "   ```\n",
    "\n",
    "2. **Закон де Моргана для эквивалентности:**\n",
    "   ```\n",
    "   not (A ↔ B) == (not A or B) and (A or not B)\n",
    "   ```\n",
    "   Этот закон гласит, что отрицание эквивалентности двух высказываний равносильно конъюнкции дизъюнкций первого высказывания с отрицанием второго высказывания и дизъюнкции второго высказывания с отрицанием первого высказывания.\n",
    "\n",
    "   Пример в Python:\n",
    "\n",
    "   ```python\n",
    "   is_even = True\n",
    "   is_divisible_by_3 = False\n",
    "\n",
    "   if not ((is_even and not is_divisible_by_3) or (not is_even and is_divisible_by_3)):\n",
    "       print(\"Число не является ни четным, ни кратным 3.\")\n",
    "   else:\n",
    "       print(\"Число является или четным, или кратным 3.\")\n",
    "   ```\n",
    "\n"
   ]
  },
  {
   "cell_type": "markdown",
   "metadata": {},
   "source": [
    "На вход поступает целое число.\n",
    "\n",
    "Программа должна вывести True, если введенное значение является положительным числом, в противном случае - False.\n",
    "\n",
    "Сделать задачу необходимо без использования условного оператора.\n"
   ]
  },
  {
   "cell_type": "code",
   "execution_count": 5,
   "metadata": {},
   "outputs": [
    {
     "name": "stdout",
     "output_type": "stream",
     "text": [
      "True\n"
     ]
    }
   ],
   "source": [
    "n = int(input())\n",
    "\n",
    "print(n > 0)"
   ]
  },
  {
   "cell_type": "markdown",
   "metadata": {},
   "source": [
    "На вход поступает целое число.\n",
    "\n",
    "Программа должна вывести True, если введенное значение является четным числом, в противном случае - False.\n",
    "\n",
    "Сделать задачу необходимо без использования условного оператора."
   ]
  },
  {
   "cell_type": "code",
   "execution_count": 7,
   "metadata": {},
   "outputs": [
    {
     "name": "stdout",
     "output_type": "stream",
     "text": [
      "False\n"
     ]
    }
   ],
   "source": [
    "n = int(input())\n",
    "\n",
    "print(n % 2 == 0)"
   ]
  },
  {
   "cell_type": "markdown",
   "metadata": {},
   "source": [
    "На вход поступает целое число.\n",
    "\n",
    "Программа должна вывести True, если введенное значение кратно 6 (без остатка делится на 6), в противном случае - False\n",
    "\n",
    "Сделать задачу необходимо без использования условного оператора."
   ]
  },
  {
   "cell_type": "code",
   "execution_count": null,
   "metadata": {},
   "outputs": [],
   "source": [
    "n = int(input())\n",
    "\n",
    "print(n % 6 == 0)"
   ]
  },
  {
   "cell_type": "markdown",
   "metadata": {},
   "source": [
    "На вход поступает целое число.\n",
    "\n",
    "Программа должна вывести True, если введенное значение не делится на 9, в противном случае - False.\n",
    "\n",
    "Сделать задачу необходимо без использования условного оператора."
   ]
  },
  {
   "cell_type": "code",
   "execution_count": 10,
   "metadata": {},
   "outputs": [
    {
     "name": "stdout",
     "output_type": "stream",
     "text": [
      "True\n"
     ]
    }
   ],
   "source": [
    "n = int(input())\n",
    "\n",
    "print(n % 9 != 0)"
   ]
  },
  {
   "cell_type": "markdown",
   "metadata": {},
   "source": [
    "На вход поступает целое положительное число.\n",
    "\n",
    "Программа должна вывести True, если у введенного числа последняя цифра 2, в противном случае - False.\n",
    "\n",
    "Сделать задачу необходимо без использования условного оператора."
   ]
  },
  {
   "cell_type": "code",
   "execution_count": 13,
   "metadata": {},
   "outputs": [
    {
     "name": "stdout",
     "output_type": "stream",
     "text": [
      "False\n"
     ]
    }
   ],
   "source": [
    "n = int(input())\n",
    "\n",
    "print(n % 10 == 2)"
   ]
  },
  {
   "cell_type": "markdown",
   "metadata": {},
   "source": [
    "На вход программе поступают два целых числа в одной строке.\n",
    "\n",
    "Программа должна вывести True, если оба числа делятся на 7, в противном случае - False.\n",
    "\n",
    "Сделать задачу необходимо без использования условного оператора."
   ]
  },
  {
   "cell_type": "code",
   "execution_count": 19,
   "metadata": {},
   "outputs": [
    {
     "name": "stdout",
     "output_type": "stream",
     "text": [
      "False\n"
     ]
    }
   ],
   "source": [
    "num1, num2 = map(int, input().split())\n",
    "\n",
    "print(num1 % 7 == 0 and num2 % 7 == 0)"
   ]
  },
  {
   "cell_type": "markdown",
   "metadata": {},
   "source": [
    "На вход поступают три целых числа - стороны треугольника.\n",
    "\n",
    "Необходимо вывести True, если данные стороны образуют правильный треугольник, в противном случае - False.\n",
    "\n",
    "Сделать задачу необходимо без использования условного оператора."
   ]
  },
  {
   "cell_type": "code",
   "execution_count": 21,
   "metadata": {},
   "outputs": [
    {
     "name": "stdout",
     "output_type": "stream",
     "text": [
      "False\n"
     ]
    }
   ],
   "source": [
    "num1, num2, num3 = map(int, input().split())\n",
    "\n",
    "print(num1 == num2 == num3)"
   ]
  },
  {
   "cell_type": "markdown",
   "metadata": {},
   "source": [
    "На вход поступает целое число.\n",
    "\n",
    "Программа должна вывести True, если введенное значение принадлежит интервалу от 5 не включительно до 19 включительно , в противном случае - False.\n",
    "\n",
    "Сделать задачу необходимо без использования условного оператора."
   ]
  },
  {
   "cell_type": "code",
   "execution_count": 26,
   "metadata": {},
   "outputs": [
    {
     "name": "stdout",
     "output_type": "stream",
     "text": [
      "False\n"
     ]
    }
   ],
   "source": [
    "n = int(input())\n",
    "\n",
    "print( n > 5  and n <= 19 )"
   ]
  },
  {
   "cell_type": "markdown",
   "metadata": {},
   "source": [
    "На вход поступают два слова.\n",
    "\n",
    "Программа должна вывести True, если хотя бы одно слово равно слову \"awesome\".\n",
    "\n",
    "Сделать задачу необходимо без использования условного оператор"
   ]
  },
  {
   "cell_type": "code",
   "execution_count": 27,
   "metadata": {},
   "outputs": [
    {
     "name": "stdout",
     "output_type": "stream",
     "text": [
      "True\n"
     ]
    }
   ],
   "source": [
    "first_word = input()\n",
    "second_word = input()\n",
    "\n",
    "print(first_word == 'awesome' or second_word == 'awesome')\n"
   ]
  },
  {
   "cell_type": "markdown",
   "metadata": {},
   "source": [
    "На вход поступают три целых числа - стороны треугольника.\n",
    "\n",
    "Необходимо вывести True, если данные стороны образуют равнобедренный треугольник, в противном случае - False.\n",
    "\n",
    "Сделать задачу необходимо без использования условного оператора."
   ]
  },
  {
   "cell_type": "code",
   "execution_count": null,
   "metadata": {},
   "outputs": [],
   "source": [
    "num1, num2, num3 = map(int, input().split())\n",
    "\n",
    "print(num1 == num2 or num1 == num3 or num2 == num3)"
   ]
  },
  {
   "cell_type": "markdown",
   "metadata": {},
   "source": [
    "На вход поступает целое положительное число.\n",
    "\n",
    "Программа должна вывести True, если данное число является двузначным, в противном случае - False.\n",
    "\n",
    "Сделать задачу необходимо без использования условного оператора."
   ]
  },
  {
   "cell_type": "code",
   "execution_count": null,
   "metadata": {},
   "outputs": [],
   "source": [
    "n = int(input())\n",
    "\n",
    "print(n > 9 and n < 100)"
   ]
  },
  {
   "cell_type": "markdown",
   "metadata": {},
   "source": [
    "На вход поступают три целых числа - стороны треугольника.\n",
    "\n",
    "Необходимо вывести True, если данные стороны образуют прямоугольный треугольник, в противном случае - False.\n",
    "\n",
    "Для написания программы необходимо вспомнить теорему Пифагора\n",
    "\n",
    "Сделать задачу необходимо без использования условного оператора."
   ]
  },
  {
   "cell_type": "code",
   "execution_count": 28,
   "metadata": {},
   "outputs": [
    {
     "name": "stdout",
     "output_type": "stream",
     "text": [
      "True\n"
     ]
    }
   ],
   "source": [
    "a, b, c = map(int, input().split())\n",
    "\n",
    "max_side = max(a, b, c)\n",
    "\n",
    "is_right_angle = a**2 + b**2 + c**2 - max_side**2 * 2 \n",
    "\n",
    "print(is_right_angle == 0)"
   ]
  },
  {
   "cell_type": "code",
   "execution_count": 30,
   "metadata": {},
   "outputs": [
    {
     "data": {
      "text/plain": [
       "5"
      ]
     },
     "execution_count": 30,
     "metadata": {},
     "output_type": "execute_result"
    }
   ],
   "source": [
    "import math \n",
    "\n",
    "math.trunc(32.3) # отсекает дробную часть числа, как аналог вместо нее можно использовать  int\n",
    "\n",
    "math.floor(34.4) # округляет число вниз, вне зависимости от того какая дробная часть \n",
    "\n",
    "math.ceil(4.1) # округляет число вверх, вне зависимости от того какая дробная часть "
   ]
  },
  {
   "cell_type": "markdown",
   "metadata": {},
   "source": [
    "Портос хочет украсить золотым шитьем свою перевязь. Он знает, что один сантиметр золотого шитья стоит один луидор. Портосу надо вышить N миллиметров перевязи. Причем мастер никогда не возьмется за работу, если ему заплатят меньше, чем стоит работа. И сдачу мастер никогда не отдает.\n",
    "\n",
    "Какое минимальное количество луидоров Портос должен заплатить мастеру за работу?\n",
    "\n",
    "* Входные данные \n",
    "  \n",
    "Программе на вход поступает натуральное число N (N ≤ 109) – длина перевязи в миллиметрах.\n",
    "\n",
    "* Выходные данные\n",
    "  \n",
    "Выведите на экран минимальное количество луидоров, которые Портос должен отдать за работу."
   ]
  },
  {
   "cell_type": "code",
   "execution_count": 34,
   "metadata": {},
   "outputs": [
    {
     "name": "stdout",
     "output_type": "stream",
     "text": [
      "21\n"
     ]
    }
   ],
   "source": [
    "import math\n",
    "\n",
    "n = int(input())\n",
    "\n",
    "print(math.ceil(n / 10))"
   ]
  },
  {
   "cell_type": "markdown",
   "metadata": {},
   "source": [
    "После вечеринки компания из N человек хочет добраться домой с помощью такси. Максимальное количество человек, которое может уместиться в машину равно 4. Сколько машин придется вызвать ребятам, чтобы все могли уехать?\n",
    "\n",
    "Программа получает на вход положительное целое число N - количество человек в компании."
   ]
  },
  {
   "cell_type": "code",
   "execution_count": 38,
   "metadata": {},
   "outputs": [
    {
     "name": "stdout",
     "output_type": "stream",
     "text": [
      "3\n"
     ]
    }
   ],
   "source": [
    "import math\n",
    "\n",
    "n = int(input())\n",
    "\n",
    "print(math.ceil(n / 4))"
   ]
  },
  {
   "cell_type": "markdown",
   "metadata": {},
   "source": [
    "В некоторой школе решили набрать три новых математических класса и оборудовать кабинеты для них новыми партами. За каждой партой может сидеть два учащихся. Известно количество учащихся в каждом из трех классов. Выведите наименьшее число парт, которое нужно приобрести для них. \n",
    "\n",
    "Программа получает на вход три натуральных числа: количество учащихся в каждом из трех классов (числа не превышают 1000)."
   ]
  },
  {
   "cell_type": "code",
   "execution_count": 45,
   "metadata": {},
   "outputs": [
    {
     "name": "stdout",
     "output_type": "stream",
     "text": [
      "3\n"
     ]
    }
   ],
   "source": [
    "import math\n",
    "\n",
    "studs_1, studs_2, studs_3 = map(int, input().split())\n",
    "\n",
    "desk_q = math.ceil(studs_1 / 2) + math.ceil(studs_2 / 2) + math.ceil(studs_3 / 2)\n",
    "\n",
    "print(desk_q)"
   ]
  },
  {
   "cell_type": "markdown",
   "metadata": {},
   "source": [
    "Ваш любимый дядя – директор фирмы, которая делает евроремонты в офисах. В связи с финансово-экономическим кризисом, дядюшка решил оптимизировать свое предприятие.\n",
    "\n",
    "Давно ходят слухи, что бригадир в дядюшкиной фирме покупает лишнее количество стройматериалов, а остатки использует для отделки своей новой дачи. Ваш дядя заинтересовался, сколько в действительности банок краски необходимо для покраски стен в офисе длиной L метров, шириной – W и высотой – H, если одной банки хватает на 16м2 , а размерами дверей и окон можно пренебречь? Заказов много, поэтому дядя попросил написать программу, которая будет все это считать.\n",
    "\n",
    "# Входные данные\n",
    "* Программа получает на вход три натуральных числа L, W, H – длину, ширину и высоту офиса в метрах соответственно, каждое из которых не превышает 1000.\n",
    "\n",
    "# Выходные данные\n",
    "* Выведите на экран одно целое число – минимальное количество банок краски, необходимых для покраски стен в офисе."
   ]
  },
  {
   "cell_type": "code",
   "execution_count": 49,
   "metadata": {},
   "outputs": [
    {
     "name": "stdout",
     "output_type": "stream",
     "text": [
      "10\n"
     ]
    }
   ],
   "source": [
    "from math import ceil # всегда стоит импортировать только нужные методы \n",
    "\n",
    "length, width, height = map(int, input().split())\n",
    "\n",
    "side_wall_area = length * height * 2 \n",
    "\n",
    "end_wall_area =  width * height  * 2\n",
    "\n",
    "total_wall_area = side_wall_area + end_wall_area \n",
    "\n",
    "paint_cans = math.ceil(total_wall_area / 16)\n",
    "\n",
    "print(paint_cans)"
   ]
  },
  {
   "cell_type": "code",
   "execution_count": 54,
   "metadata": {},
   "outputs": [
    {
     "name": "stdout",
     "output_type": "stream",
     "text": [
      "-4\n",
      "-1\n",
      "1\n",
      "3\n",
      "-4\n"
     ]
    }
   ],
   "source": [
    "#  Деление нацело и по остатку отрицательных чисел \n",
    "# a =(a//b) * b + q \n",
    "\n",
    "print(-19 // 5) # результат - 4, так как округление вниз. \n",
    "print(19 % -5) \n",
    "# 19 % - 5 = (19 // -5) * (-5) + q; 19 = 20 + q; q = -1 \n",
    "print(-19 % 5) \n",
    "# -19 % 5 = (-19 // 5) * 5 + q; -19 = -20 + q; q = 1 \n",
    "print(-19 // -5)\n",
    "# -19 / -5 = 3.8 , floor(3.8) = 3 \n",
    "print(-19 % -5)\n",
    "# -19 % -5 = (-19 // 5) * (-5) + q; -19 = -15 + q; q = -4  "
   ]
  },
  {
   "cell_type": "code",
   "execution_count": 64,
   "metadata": {},
   "outputs": [
    {
     "name": "stdout",
     "output_type": "stream",
     "text": [
      "False\n",
      "97\n",
      "114\n",
      "False\n"
     ]
    }
   ],
   "source": [
    "print('abc' > 'r') #False, так как строки сравниваются посимвольно(а именно коды букв)\n",
    "print(ord('a')) # получить код буквы а # ascii table\n",
    "print(ord('r'))\n",
    "print('input' == 'input ') #False так как пробелы тоже учитываются при сравнении"
   ]
  },
  {
   "cell_type": "markdown",
   "metadata": {},
   "source": [
    "Напишите программу, которая выводит фразу «Я стану крутым программистом!» три раза на отдельных строках; строки должны быть именно такие, символ в символ!.\n",
    "\n",
    "Для удобства советую поместить эту фразу в переменную и затем использовать ее при выводе."
   ]
  },
  {
   "cell_type": "code",
   "execution_count": 66,
   "metadata": {},
   "outputs": [
    {
     "name": "stdout",
     "output_type": "stream",
     "text": [
      "Я стану крутым программистом!\n",
      "Я стану крутым программистом!\n",
      "Я стану крутым программистом!\n"
     ]
    }
   ],
   "source": [
    "text = \"Я стану крутым программистом!\"\n",
    "\n",
    "result =  text + '\\n' + text + '\\n'+ text \n",
    "print(result)"
   ]
  },
  {
   "cell_type": "markdown",
   "metadata": {},
   "source": [
    "Напишите программу, которая напечатает строку, состоящую из 777 букв \"W\""
   ]
  },
  {
   "cell_type": "code",
   "execution_count": 67,
   "metadata": {},
   "outputs": [
    {
     "name": "stdout",
     "output_type": "stream",
     "text": [
      "WWWWWWWWWWWWWWWWWWWWWWWWWWWWWWWWWWWWWWWWWWWWWWWWWWWWWWWWWWWWWWWWWWWWWWWWWWWWWWWWWWWWWWWWWWWWWWWWWWWWWWWWWWWWWWWWWWWWWWWWWWWWWWWWWWWWWWWWWWWWWWWWWWWWWWWWWWWWWWWWWWWWWWWWWWWWWWWWWWWWWWWWWWWWWWWWWWWWWWWWWWWWWWWWWWWWWWWWWWWWWWWWWWWWWWWWWWWWWWWWWWWWWWWWWWWWWWWWWWWWWWWWWWWWWWWWWWWWWWWWWWWWWWWWWWWWWWWWWWWWWWWWWWWWWWWWWWWWWWWWWWWWWWWWWWWWWWWWWWWWWWWWWWWWWWWWWWWWWWWWWWWWWWWWWWWWWWWWWWWWWWWWWWWWWWWWWWWWWWWWWWWWWWWWWWWWWWWWWWWWWWWWWWWWWWWWWWWWWWWWWWWWWWWWWWWWWWWWWWWWWWWWWWWWWWWWWWWWWWWWWWWWWWWWWWWWWWWWWWWWWWWWWWWWWWWWWWWWWWWWWWWWWWWWWWWWWWWWWWWWWWWWWWWWWWWWWWWWWWWWWWWWWWWWWWWWWWWWWWWWWWWWWWWWWWWWWWWWWWWWWWWWWWWWWWWWWWWWWWWWWWWWWWWWWWWWWWWWWWWWWWWWWWWWWWWWWWWWWWWWWWWWWWWWWWWWWWWWWWWWWWWWWWWWWWWWWWWWWWWWWWWWWWWWWWWWWWWWWWWWWWWWWWWWWWWWWWWWWWWWWWWWWWWWWWWWWWWWWWWWWWWWWWWWWWWWWWWWW\n"
     ]
    }
   ],
   "source": [
    "str_ = 'W'\n",
    "\n",
    "print(\"W\" * 777)"
   ]
  },
  {
   "cell_type": "markdown",
   "metadata": {},
   "source": [
    "Напишите программу, которая выводит «Лев Николаевич Толстой написал \"Война и мир\"» (без внешних кавычек)."
   ]
  },
  {
   "cell_type": "code",
   "execution_count": 68,
   "metadata": {},
   "outputs": [
    {
     "name": "stdout",
     "output_type": "stream",
     "text": [
      "Лев Николаевич Толстой написал \"Война и мир\"\n"
     ]
    }
   ],
   "source": [
    "text = 'Лев Николаевич Толстой написал \"Война и мир\"'\n",
    "\n",
    "print(text)"
   ]
  },
  {
   "cell_type": "markdown",
   "metadata": {},
   "source": [
    "Напишите программу, которая сначала считывает две фразы по очереди, а потом воспроизводит их в той же последовательности, каждую на отдельной строчке."
   ]
  },
  {
   "cell_type": "code",
   "execution_count": 71,
   "metadata": {},
   "outputs": [
    {
     "name": "stdout",
     "output_type": "stream",
     "text": [
      "chain\n",
      "sweat\n"
     ]
    }
   ],
   "source": [
    "str_1 = input()\n",
    "str_2 = input()\n",
    "\n",
    "print(str_1 + '\\n' + str_2)\n",
    "\n"
   ]
  },
  {
   "cell_type": "markdown",
   "metadata": {},
   "source": [
    "Напишите программу, которая сначала считывает три фразы по очереди, а потом воспроизводит их в обратной последовательности, каждую на отдельной строчке."
   ]
  },
  {
   "cell_type": "code",
   "execution_count": 72,
   "metadata": {},
   "outputs": [
    {
     "name": "stdout",
     "output_type": "stream",
     "text": [
      "action\n",
      "book \n",
      "order\n"
     ]
    }
   ],
   "source": [
    "str_1 = input()\n",
    "str_2 = input()\n",
    "str_3 = input()\n",
    "\n",
    "print(str_3 + '\\n' + str_2 + '\\n' + str_1)"
   ]
  },
  {
   "cell_type": "markdown",
   "metadata": {},
   "source": [
    "Напишите программу, которая считывает с клавиатуры слово (или фразу, неважно), после чего выводит это же слово четыре раза на одной строке, разделяя их пробелами."
   ]
  },
  {
   "cell_type": "code",
   "execution_count": 73,
   "metadata": {},
   "outputs": [
    {
     "name": "stdout",
     "output_type": "stream",
     "text": [
      "wu wu wu wu \n"
     ]
    }
   ],
   "source": [
    "str_ = input()\n",
    "\n",
    "print((str_ + ' ') * 4)"
   ]
  },
  {
   "cell_type": "markdown",
   "metadata": {},
   "source": [
    "Напишите программу, которая считывает с клавиатуры фразу и выводит на экран количество символов, которое содержалось в ней, учитывая все знаки препинания и пунктуации."
   ]
  },
  {
   "cell_type": "code",
   "execution_count": 74,
   "metadata": {},
   "outputs": [
    {
     "name": "stdout",
     "output_type": "stream",
     "text": [
      "16\n"
     ]
    }
   ],
   "source": [
    "text = input()\n",
    "\n",
    "print(len(text))"
   ]
  },
  {
   "cell_type": "markdown",
   "metadata": {},
   "source": [
    "Напишите программу, которая считывает с клавиатуры два слова (или фразы, неважно), после чего вы должны при помощи операции конкатенации сцепить вторую фразу с первой и вывести результат на экран."
   ]
  },
  {
   "cell_type": "code",
   "execution_count": 77,
   "metadata": {},
   "outputs": [
    {
     "name": "stdout",
     "output_type": "stream",
     "text": [
      "rockmusic\n"
     ]
    }
   ],
   "source": [
    "text_1 = input()\n",
    "text_2 = input()\n",
    "\n",
    "result = text_2 + text_1 \n",
    "\n",
    "print(result)"
   ]
  },
  {
   "cell_type": "markdown",
   "metadata": {},
   "source": [
    "Напишите программу, которая считывает с клавиатуры слово (или фразу, неважно), после чего вывести данную строку, увеличенную по длине  в 3 раза."
   ]
  },
  {
   "cell_type": "code",
   "execution_count": 78,
   "metadata": {},
   "outputs": [
    {
     "name": "stdout",
     "output_type": "stream",
     "text": [
      "multimultimulti\n"
     ]
    }
   ],
   "source": [
    "text = input()\n",
    "\n",
    "print(text * 3)"
   ]
  },
  {
   "cell_type": "markdown",
   "metadata": {},
   "source": [
    "Программа принимает на вход три символа через пробел в одну строку. Необходимо вывести код каждого символа при помощи функции ord в определенном формате."
   ]
  },
  {
   "cell_type": "code",
   "execution_count": 82,
   "metadata": {},
   "outputs": [
    {
     "name": "stdout",
     "output_type": "stream",
     "text": [
      "Simvol code a is 97.\n",
      "Simvol code f is 102.\n",
      "Simvol code g is 103.\n"
     ]
    }
   ],
   "source": [
    "a, b, c  = map(str, input().split())\n",
    "\n",
    "print(f\"Simvol code {a} is {ord(a)}.\")\n",
    "print(f\"Simvol code {b} is {ord(b)}.\")\n",
    "print(f\"Simvol code {c} is {ord(c)}.\")"
   ]
  },
  {
   "cell_type": "code",
   "execution_count": 87,
   "metadata": {},
   "outputs": [
    {
     "name": "stdout",
     "output_type": "stream",
     "text": [
      "me \n",
      "me word\n",
      "some \n",
      "sm od\n",
      "mw\n",
      "some lord\n"
     ]
    }
   ],
   "source": [
    "# str неизменняемый тип данных \n",
    "\n",
    "string = 'some word'\n",
    "\n",
    "print(string[2:5]) #  выведет me + ' ', последний символ в срез не входит\n",
    "print(string[2: ]) # выводит со второго индекса по самый конец \n",
    "print(string[ :5]) #  выводит все символы до определенного индекса , не включая его \n",
    "print(string[::2]) #  выводит каждый второй символ в строке, начиная с первого символа(0 индекс)\n",
    "print(string[2:6:3])  # выводит символы с 2 по 6 индекс с шагом 3 \n",
    "print(string[:5] + 'l' + string[6:]) # изменение строки с помощью срезов и конкатенации "
   ]
  },
  {
   "cell_type": "markdown",
   "metadata": {},
   "source": [
    "Программа получает на вход строку и ваша задача вывести первый элемент данной строки"
   ]
  },
  {
   "cell_type": "code",
   "execution_count": 88,
   "metadata": {},
   "outputs": [
    {
     "name": "stdout",
     "output_type": "stream",
     "text": [
      "s\n"
     ]
    }
   ],
   "source": [
    "string = input()\n",
    "\n",
    "print(string[0])"
   ]
  },
  {
   "cell_type": "markdown",
   "metadata": {},
   "source": [
    "Программа получает на вход строку и ваша задача вывести последний символ этой строки"
   ]
  },
  {
   "cell_type": "code",
   "execution_count": 89,
   "metadata": {},
   "outputs": [
    {
     "name": "stdout",
     "output_type": "stream",
     "text": [
      "g\n"
     ]
    }
   ],
   "source": [
    "string = input()\n",
    "\n",
    "print(string[-1])"
   ]
  },
  {
   "cell_type": "markdown",
   "metadata": {},
   "source": [
    "Программа получает на вход строку и ваша задача вывести первые 4 символа этой строки\n",
    "\n",
    "Гарантируется, что вводится будет строка длиной не менее 4 символов"
   ]
  },
  {
   "cell_type": "code",
   "execution_count": 90,
   "metadata": {},
   "outputs": [
    {
     "name": "stdout",
     "output_type": "stream",
     "text": [
      "news\n"
     ]
    }
   ],
   "source": [
    "string = input()\n",
    "\n",
    "print(string[:4])"
   ]
  },
  {
   "cell_type": "markdown",
   "metadata": {},
   "source": [
    "Программа получает на вход строку и ваша задача вывести последние 4 символа этой строки\n",
    "\n",
    "Гарантируется, что вводится будет строка длиной не менее 4 символов"
   ]
  },
  {
   "cell_type": "code",
   "execution_count": 92,
   "metadata": {},
   "outputs": [
    {
     "name": "stdout",
     "output_type": "stream",
     "text": [
      "aker\n"
     ]
    }
   ],
   "source": [
    "string = input()\n",
    "\n",
    "print(string[-4:])"
   ]
  },
  {
   "cell_type": "markdown",
   "metadata": {},
   "source": [
    "Программа получает на вход строку. Ваша задача вывести все символы этой строки, которые имеют четные индексы"
   ]
  },
  {
   "cell_type": "code",
   "execution_count": 93,
   "metadata": {},
   "outputs": [
    {
     "name": "stdout",
     "output_type": "stream",
     "text": [
      "VnueCptl\n"
     ]
    }
   ],
   "source": [
    "string = input()\n",
    "\n",
    "print(string[::2])"
   ]
  },
  {
   "cell_type": "markdown",
   "metadata": {},
   "source": [
    "Программа получает на вход строку. Ваша задача вывести все символы этой строки, которые имеют нечетные индексы"
   ]
  },
  {
   "cell_type": "code",
   "execution_count": 94,
   "metadata": {},
   "outputs": [
    {
     "name": "stdout",
     "output_type": "stream",
     "text": [
      "oadDc\n"
     ]
    }
   ],
   "source": [
    "string = input()\n",
    "\n",
    "print(string[1::2])"
   ]
  },
  {
   "cell_type": "markdown",
   "metadata": {},
   "source": [
    "Программа получает на вход строку. Ваша задача развернуть строку и вывести ее на экран."
   ]
  },
  {
   "cell_type": "code",
   "execution_count": 95,
   "metadata": {},
   "outputs": [
    {
     "name": "stdout",
     "output_type": "stream",
     "text": [
      "evitcaoidar\n"
     ]
    }
   ],
   "source": [
    "string = input()\n",
    "\n",
    "print(string[::-1])"
   ]
  },
  {
   "cell_type": "markdown",
   "metadata": {},
   "source": [
    "Программа получает на вход строку.\n",
    "\n",
    "Выведите каждый третий символ строки в обратном порядке, начиная с последнего."
   ]
  },
  {
   "cell_type": "code",
   "execution_count": 97,
   "metadata": {},
   "outputs": [
    {
     "name": "stdout",
     "output_type": "stream",
     "text": [
      "etoa\n"
     ]
    }
   ],
   "source": [
    "string = input()\n",
    "\n",
    "print(string[::-3])"
   ]
  },
  {
   "cell_type": "markdown",
   "metadata": {},
   "source": [
    "Программа получает на вход одно слово. Ваша задача перенести последнюю букву в начало, тем самым сдвинуть все остальные буквы вправо на один разряд. В качестве ответа нужно вывести полученное слово"
   ]
  },
  {
   "cell_type": "code",
   "execution_count": 99,
   "metadata": {},
   "outputs": [
    {
     "name": "stdout",
     "output_type": "stream",
     "text": [
      "dwor\n"
     ]
    }
   ],
   "source": [
    "string = input() \n",
    "\n",
    "new_word = string[-1] + string[:-1]\n",
    "\n",
    "print(new_word) "
   ]
  },
  {
   "cell_type": "code",
   "execution_count": 19,
   "metadata": {},
   "outputs": [
    {
     "data": {
      "text/plain": [
       "'hello  str'"
      ]
     },
     "execution_count": 19,
     "metadata": {},
     "output_type": "execute_result"
    }
   ],
   "source": [
    "# Cтроки и их методы\n",
    "\n",
    "\"hello\".upper()  # возводит все буквы в строке в верхний регистр\n",
    "\n",
    "\"HElLo\".lower()  # приводит все буквы к нижнему регистру\n",
    "\n",
    "\"hello\".count(\"l\")  # считает сколько раз встречается символ или подстрока в строке\n",
    "\n",
    "\"stairs\".find(\"f\")  # ищет индекс подстроки в строке\n",
    "# метод find возвращает индекс в котором начинается подстрока\n",
    "# если в метод find передать подстроку которой нет, он вернет -1.\n",
    "# метод find возвращает индекс первого вхождения символа\n",
    "\n",
    "\"stairs\".rfind(\"s\")  # ищет символ в строке начиная справа налево\n",
    "\n",
    "\"general\".index(\"e\")  # так же ишет подстроку но возвращаетс ошибку в случае если её нет\n",
    "\n",
    "\"leader\".replace(\"l\", \"r\")  # меняет одну подстроку на другую\n",
    "# при этом меняется каждая соответсвующая буква в строке, если не передать 3м параметром\n",
    "# количество замен\n",
    "\n",
    "\"global sport\".replace(\" \", \"\")  # удаляет пробелы в строке\n",
    "\n",
    "\"manufacter\".isalpha()  # проверяет состоит ли строка целиком из букв,\n",
    "# пробелы учитываются при проверке\n",
    "\n",
    "\"125334\".isdigit()  # проверяет состоит строка только из цифр\n",
    "# пробелы учитываются при проверке\n",
    "\n",
    "\n",
    "\"111\".rjust(5) # дополняет строку символами слева , по умолчанию пробелами\n",
    "# первый параметр количество символов, второй параметр символ дополнения\n",
    "\n",
    "\"111\".ljust(5) # дополняет строку символами справа , по умолчанию пробелами\n",
    "# первый параметр количество символов, второй параметр символ дополнения\n",
    "\n",
    "\"Fernando Torres\".split() # разбивает строку по определеному символу, результат записывает \n",
    "# в список \n",
    "\n",
    "'-'.join([\"winter\", \"spring\", \"autumn\", \"summer\"])\n",
    "# обьединяет строчные елементы списка в одну строку, то есть работает только если \n",
    "# все елементы списка являются строками\n",
    "\n",
    "'  hello  str   '.strip() # удаляет пробелы в начале и конце строки \n",
    "\n",
    "\n"
   ]
  },
  {
   "cell_type": "markdown",
   "metadata": {},
   "source": [
    "На вход программе поступает строка, состоящая как из заглавных так из строчных букв латинского алфавита. Ваша задача преобразовать строку так, чтобы все символы были только заглавными."
   ]
  },
  {
   "cell_type": "code",
   "execution_count": 32,
   "metadata": {},
   "outputs": [
    {
     "name": "stdout",
     "output_type": "stream",
     "text": [
      "WALLACE\n"
     ]
    }
   ],
   "source": [
    "str_input = input().upper()\n",
    "\n",
    "print(str_input) "
   ]
  },
  {
   "cell_type": "markdown",
   "metadata": {},
   "source": [
    "На вход программе поступает строка, состоящая как из заглавных так из строчных букв латинского алфавита. Ваша задача преобразовать строку так, чтобы все символы были только строчными"
   ]
  },
  {
   "cell_type": "code",
   "execution_count": 33,
   "metadata": {},
   "outputs": [
    {
     "name": "stdout",
     "output_type": "stream",
     "text": [
      "data analysis\n"
     ]
    }
   ],
   "source": [
    "str_input = input().lower()\n",
    "\n",
    "print(str_input) "
   ]
  },
  {
   "cell_type": "markdown",
   "metadata": {},
   "source": [
    "Программиста Тихона попросили написать программу, которая должна была сравнивать две введенные строки на равенство, при этом не учитывая регистр букв. Если строки вводились одинаковые, программа Тихона должна была печатать True, в противном случае False\n",
    "\n",
    "Но что-то пошло не так. Тихон написал программу, в которой есть ошибки. Ваша задача исправить имеющуюся программу так, чтобы она прошла все тесты. "
   ]
  },
  {
   "cell_type": "code",
   "execution_count": 22,
   "metadata": {},
   "outputs": [
    {
     "name": "stdout",
     "output_type": "stream",
     "text": [
      "True\n"
     ]
    }
   ],
   "source": [
    "str_input_1 = input().lower()\n",
    "\n",
    "str_input_2 = input().lower()\n",
    "\n",
    "print(str_input_1 == str_input_2)\n",
    "\n"
   ]
  },
  {
   "cell_type": "markdown",
   "metadata": {},
   "source": [
    "На вход подается строка. Ваша задача отформатировать строку так, чтобы первые 3 и последние 3 символа были заглавными, а оставшиеся строчные.\n",
    "\n",
    "Примечание:\n",
    "Количество букв может быть различным, но гарантируется что их количество не меньше 6"
   ]
  },
  {
   "cell_type": "code",
   "execution_count": 25,
   "metadata": {},
   "outputs": [
    {
     "name": "stdout",
     "output_type": "stream",
     "text": [
      "MASterpiECE\n"
     ]
    }
   ],
   "source": [
    "str_input = input()\n",
    "\n",
    "middle_str = str_input[3:-3].lower()\n",
    "\n",
    "result_str = str_input[:3].upper() + middle_str + str_input[-3:].upper()\n",
    "\n",
    "print(result_str) "
   ]
  },
  {
   "cell_type": "markdown",
   "metadata": {},
   "source": [
    "На вход программе поступает строка, состоящая как из заглавных так из строчных букв. Ваша задача преобразовать строку так, чтобы все строчные символы заменились на заглавные, все заглавные - на строчные. Символы пунктуации и цифры не нужно преобразовывать.\n",
    "\n",
    "В качестве ответа нужно вывести полученную строку"
   ]
  },
  {
   "cell_type": "code",
   "execution_count": 26,
   "metadata": {},
   "outputs": [
    {
     "name": "stdout",
     "output_type": "stream",
     "text": [
      "aVEnGErS\n"
     ]
    }
   ],
   "source": [
    "str_input = input().swapcase()\n",
    "\n",
    "print(str_input)\n"
   ]
  },
  {
   "cell_type": "markdown",
   "metadata": {},
   "source": [
    "На вход программе поступает строка, состоящая как из заглавных так из строчных букв. Ваша задача преобразовать строку так, чтобы первая буква у каждого слова стала маленькой, а остальные буквы превратились в заглавные. Символы пунктуации и цифры не нужно преобразовывать.\n",
    "\n",
    "В качестве ответа нужно вывести полученную строку"
   ]
  },
  {
   "cell_type": "code",
   "execution_count": 30,
   "metadata": {},
   "outputs": [
    {
     "name": "stdout",
     "output_type": "stream",
     "text": [
      "hAUNT bOUNTY oFFER tRANSFER\n"
     ]
    }
   ],
   "source": [
    "str_input = input().title().swapcase()\n",
    "\n",
    "print(str_input) "
   ]
  },
  {
   "cell_type": "markdown",
   "metadata": {},
   "source": [
    "На вход программе поступает строка, ваша задача подсчитать сколько раз в ней встречается латинская буква \"e\". При этом стоит учитывать как маленькие, так и заглавные буквы"
   ]
  },
  {
   "cell_type": "code",
   "execution_count": 34,
   "metadata": {},
   "outputs": [
    {
     "name": "stdout",
     "output_type": "stream",
     "text": [
      "2\n"
     ]
    }
   ],
   "source": [
    "str_input = input().lower()\n",
    " \n",
    "print(str_input.count('e'))\n",
    "\n"
   ]
  },
  {
   "cell_type": "markdown",
   "metadata": {},
   "source": [
    "На вход программе поступает строка, ваша задача вывести на экран индекс первой найденной латинской буквы a\n",
    "\n",
    "Если такого символа в введенной строке нет, выведите -1"
   ]
  },
  {
   "cell_type": "code",
   "execution_count": 36,
   "metadata": {},
   "outputs": [
    {
     "name": "stdout",
     "output_type": "stream",
     "text": [
      "-1\n"
     ]
    }
   ],
   "source": [
    "string = input()\n",
    "\n",
    "print(string.find('a'))"
   ]
  },
  {
   "cell_type": "markdown",
   "metadata": {},
   "source": [
    "На вход программе поступает строка, ваша задача вывести на экран индекс последней найденной латинской буквы a\n",
    "\n",
    "Если такого символа в введенной строке нет, выведите -1"
   ]
  },
  {
   "cell_type": "code",
   "execution_count": 37,
   "metadata": {},
   "outputs": [
    {
     "name": "stdout",
     "output_type": "stream",
     "text": [
      "5\n"
     ]
    }
   ],
   "source": [
    "string = input()\n",
    "\n",
    "print(string.rfind('a'))"
   ]
  },
  {
   "cell_type": "markdown",
   "metadata": {},
   "source": [
    "Программа получает на вход фразу, состоящую из нескольких слов, разделенных пробелом.\n",
    "\n",
    "Ваша задача заменить все пробелы запятыми и вывести полученную строку."
   ]
  },
  {
   "cell_type": "code",
   "execution_count": 38,
   "metadata": {},
   "outputs": [
    {
     "name": "stdout",
     "output_type": "stream",
     "text": [
      "Real,Madrid,is,famous,football,team,from,Spain\n"
     ]
    }
   ],
   "source": [
    "string = input() \n",
    "\n",
    "print(string.replace(' ', ','))"
   ]
  },
  {
   "cell_type": "markdown",
   "metadata": {},
   "source": [
    "На вход программе поступает строка, ваша задача удалить из нее все символы w и z.\n",
    "\n",
    "Учитываем только маленькие буквы"
   ]
  },
  {
   "cell_type": "code",
   "execution_count": 40,
   "metadata": {},
   "outputs": [
    {
     "name": "stdout",
     "output_type": "stream",
     "text": [
      "ico idane ilson arranty illo\n"
     ]
    }
   ],
   "source": [
    "string = input() \n",
    "\n",
    "print(string.replace('w', '').replace('z', ''))"
   ]
  },
  {
   "cell_type": "markdown",
   "metadata": {},
   "source": [
    "Петя записался в кружок по программированию. На первом занятии Пете задали написать простую программу. Программа должна делать следующее: в заданной строке, которая состоит из прописных и строчных латинских букв, она:\n",
    "\n",
    "* удаляет все гласные буквы,\n",
    "* перед каждой согласной буквой ставит символ \".\",\n",
    "* все прописные согласные буквы заменяет на строчные.\n",
    "  \n",
    "Гласными буквами считаются буквы A, O, Y, E, U, I, а согласными — все остальные. На вход программе подается ровно одна строка, она должна вернуть результат в виде одной строки, получившейся после обработки."
   ]
  },
  {
   "cell_type": "code",
   "execution_count": 47,
   "metadata": {},
   "outputs": [
    {
     "name": "stdout",
     "output_type": "stream",
     "text": [
      ".t.h.q.c.k.b.r.w.n.f.x.j.m.p.s.v.r.t.h.l.z.d.g\n"
     ]
    }
   ],
   "source": [
    "string = input().lower()\n",
    "\n",
    "only_consonants = ''.join(char for char in string if char not in ('a','o','y','e','u','i'))\n",
    "\n",
    "only_consonants = only_consonants.replace(' ', '')\n",
    "\n",
    "only_consonants = '.'+'.'.join(list(only_consonants)).rstrip('.')\n",
    "\n",
    "\n",
    "print(only_consonants)"
   ]
  },
  {
   "cell_type": "markdown",
   "metadata": {},
   "source": [
    "Вы можете задать параметру другое значение. Когда параметр sep будет задан, то следующие друг за другом разделители не воспринимаются как один и считаются разделителями пустых строк"
   ]
  },
  {
   "cell_type": "code",
   "execution_count": 48,
   "metadata": {},
   "outputs": [
    {
     "name": "stdout",
     "output_type": "stream",
     "text": [
      "['1', '2', '3', '4', '5']\n",
      "['a', 'b', 'C', '', 'd', 'e']\n",
      "['1', '4', '5']\n",
      "['a', 'b', 'c']\n",
      "[]\n",
      "['', '', '', '', '', '']\n"
     ]
    }
   ],
   "source": [
    "print('1, 2, 3, 4, 5'.split(', '))\n",
    "\n",
    "print('a->b->C->->d->e'.split('->'))\n",
    "\n",
    "print('1      4      5'.split())\n",
    "\n",
    "print('   a  b   c   '.split())\n",
    "\n",
    "print('    '.split())\n",
    "\n",
    "print('wwwww'.split('w'))"
   ]
  },
  {
   "cell_type": "markdown",
   "metadata": {},
   "source": [
    "Если параметр sep не указан, то последовательные пробелы объединяются вместе и вообще исключаются из разбиений. А если строка состоит только из пробелов или является пустой, то результатом разделения по пробелу будет пустой список\n",
    "\n",
    "Также можно передать вторым параметром maxsplit какое максимальное количество разбиений вы хотите выполнить"
   ]
  },
  {
   "cell_type": "code",
   "execution_count": 49,
   "metadata": {},
   "outputs": [
    {
     "name": "stdout",
     "output_type": "stream",
     "text": [
      "['1', '2', '3, 4, 5']\n",
      "['a', 'b C d e']\n",
      "['a', 'b', 'C d e']\n",
      "['a', 'b', 'C', 'd e']\n"
     ]
    }
   ],
   "source": [
    "print('1, 2, 3, 4, 5'.split(', ', maxsplit=2))\n",
    "print('a b C d e'.split(maxsplit=1))\n",
    "print('a b C d e'.split(maxsplit=2))\n",
    "print('a b C d e'.split(maxsplit=3))"
   ]
  },
  {
   "cell_type": "markdown",
   "metadata": {},
   "source": [
    "Программа получает на вход фразу, ваша задача посчитать из скольких слов состоит данная фраза. Для удобства будем считать словом любую последовательность символов."
   ]
  },
  {
   "cell_type": "code",
   "execution_count": 51,
   "metadata": {},
   "outputs": [
    {
     "name": "stdout",
     "output_type": "stream",
     "text": [
      "2\n"
     ]
    }
   ],
   "source": [
    "string = input().split()\n",
    "\n",
    "print(len(string))"
   ]
  },
  {
   "cell_type": "markdown",
   "metadata": {},
   "source": [
    "Ниже перед вами представлен список list_strings, состоящий из строк. При помощи метода .join и соединителя - получите строку из этих элементов и выведите ее на экран"
   ]
  },
  {
   "cell_type": "code",
   "execution_count": 52,
   "metadata": {},
   "outputs": [
    {
     "name": "stdout",
     "output_type": "stream",
     "text": [
      "Follow-the-Cops-Back-Home\n"
     ]
    }
   ],
   "source": [
    "list_strings = ['Follow', 'the', 'Cops', 'Back', 'Home']\n",
    "\n",
    "sample = '-'\n",
    "\n",
    "list_strings = sample.join(list_strings)\n",
    "\n",
    "print(list_strings)\n",
    "\n"
   ]
  },
  {
   "cell_type": "markdown",
   "metadata": {},
   "source": [
    "S.startswith(prefix[, start[, end]])\n",
    "\n",
    "Данный метод возвращает True если строка S начинается с последовательности символов prefix (префикса) и False в противном случае.  При передаче параметра start проверка начнется именно с этой позиции. Если передать значение  end, проверка закончится в этой позиции\n",
    "\n",
    "<br>\n",
    "\n",
    "\n",
    "S.endswith(prefix[, start[, end]])\n",
    "\n",
    "Данный метод возвращает True если строка S заканчивается последовательностью символов prefix (префикса) и False в противном случае.  При передаче параметра start проверка начнется именно с этой позиции. Если передать значение  end, проверка закончится в этой позиции."
   ]
  },
  {
   "cell_type": "markdown",
   "metadata": {},
   "source": [
    "<br>"
   ]
  },
  {
   "cell_type": "markdown",
   "metadata": {},
   "source": [
    "Напишите программу, которая проверяет начинается ли введенная фраза строкой mam вне зависимости от регистра букв\n",
    "\n",
    "В качестве ответа необходимо вывести True, если введенная строка начинается с mam, во всех остальных случаях нужно вывести False"
   ]
  },
  {
   "cell_type": "code",
   "execution_count": 53,
   "metadata": {},
   "outputs": [
    {
     "name": "stdout",
     "output_type": "stream",
     "text": [
      "True\n"
     ]
    }
   ],
   "source": [
    "string = input().lower()\n",
    "\n",
    "print(string.startswith('mam'))"
   ]
  },
  {
   "cell_type": "markdown",
   "metadata": {},
   "source": [
    "Программа получает на вход две строки, назовем их s и postfix. Напишите программу, которая проверяет заканчивается ли введенная фраза s строкой postfix \n",
    "\n",
    "# Входные данные\n",
    "\n",
    "В отдельных строках вводятся два значения: сперва строка s, затем строка postfix\n",
    "\n",
    "# Выходные данные\n",
    "\n",
    "Нужно вывести True, если введенная строка s заканчивается строкой postfix , во всех остальных случаях нужно вывести False. Регистр букв нужно учитывать\n",
    "\n"
   ]
  },
  {
   "cell_type": "code",
   "execution_count": 54,
   "metadata": {},
   "outputs": [
    {
     "name": "stdout",
     "output_type": "stream",
     "text": [
      "False\n"
     ]
    }
   ],
   "source": [
    "s = input()\n",
    "\n",
    "postfix = input()\n",
    "\n",
    "print(s.endswith(postfix))"
   ]
  },
  {
   "cell_type": "markdown",
   "metadata": {},
   "source": [
    "Напишите программу, которая проверяет, чтобы введенная фраза s одновременно начиналась со строки prefix и заканчивалась строкой postfix \n",
    "\n",
    "# Входные данные\n",
    "В отдельных строках вводится три значения: сперва строка s, затем строка prefix и потом postfix\n",
    "\n",
    "# Выходные данные\n",
    "Нужно вывести True, если введенная строка s одновременно начинается со строки prefix и заканчивается строкой postfix . Во всех остальных случаях нужно вывести False. Регистр букв нужно учитывать"
   ]
  },
  {
   "cell_type": "code",
   "execution_count": 56,
   "metadata": {},
   "outputs": [
    {
     "name": "stdout",
     "output_type": "stream",
     "text": [
      "True\n"
     ]
    }
   ],
   "source": [
    "s = input()\n",
    "prefix = input()\n",
    "postfix = input()\n",
    "\n",
    "print(s.startswith(prefix) and s.endswith(postfix))"
   ]
  },
  {
   "cell_type": "code",
   "execution_count": 58,
   "metadata": {},
   "outputs": [
    {
     "name": "stdout",
     "output_type": "stream",
     "text": [
      "0.1 False\n"
     ]
    }
   ],
   "source": [
    "print('0.1', '0.1'.isdigit()) #проверяет состоит ли  строка только из цифр "
   ]
  },
  {
   "cell_type": "code",
   "execution_count": 59,
   "metadata": {},
   "outputs": [
    {
     "name": "stdout",
     "output_type": "stream",
     "text": [
      "12a45 False\n"
     ]
    }
   ],
   "source": [
    "print('12a45', '12a45'.isalpha()) # проверяет состоит ли строка только из букв "
   ]
  },
  {
   "cell_type": "code",
   "execution_count": 60,
   "metadata": {},
   "outputs": [
    {
     "name": "stdout",
     "output_type": "stream",
     "text": [
      "12a45 True\n"
     ]
    }
   ],
   "source": [
    "print('12a45', '12a45'.isalnum()) # возвращает True , если строка  не пустая и состоит только из букв и цифр."
   ]
  },
  {
   "cell_type": "code",
   "execution_count": 61,
   "metadata": {},
   "outputs": [
    {
     "name": "stdout",
     "output_type": "stream",
     "text": [
      "За Окошком Альпы? True\n"
     ]
    }
   ],
   "source": [
    "print(\n",
    "    \"За Окошком Альпы?\", \"За Окошком Альпы?\".istitle()\n",
    ")  # возвращает True , если каждое новое слово начинается с заглавной буквы"
   ]
  },
  {
   "cell_type": "markdown",
   "metadata": {},
   "source": [
    "Напишите программу, которая проверяет состоит ли введенная строка целиком из десятичных цифр\n",
    "\n",
    "В качестве ответа необходимо вывести True, если условие выполняется, во всех остальных случаях нужно вывести False"
   ]
  },
  {
   "cell_type": "code",
   "execution_count": 63,
   "metadata": {},
   "outputs": [
    {
     "name": "stdout",
     "output_type": "stream",
     "text": [
      "False\n"
     ]
    }
   ],
   "source": [
    "string = input()\n",
    "\n",
    "print(string.isdigit())"
   ]
  },
  {
   "cell_type": "markdown",
   "metadata": {},
   "source": [
    "Напишите программу, которая проверяет состоит ли введенная строка целиком из заглавных букв\n",
    "\n",
    "В качестве ответа необходимо вывести True, если условие выполняется, во всех остальных случаях нужно вывести False"
   ]
  },
  {
   "cell_type": "code",
   "execution_count": 64,
   "metadata": {},
   "outputs": [
    {
     "name": "stdout",
     "output_type": "stream",
     "text": [
      "True\n"
     ]
    }
   ],
   "source": [
    "string = input()\n",
    "\n",
    "print(string.isupper())"
   ]
  },
  {
   "cell_type": "markdown",
   "metadata": {},
   "source": [
    "Напишите программу, которая проверяет состоит ли введенная строка целиком из строчных букв\n",
    "\n",
    "В качестве ответа необходимо вывести True, если условие выполняется, во всех остальных случаях нужно вывести False"
   ]
  },
  {
   "cell_type": "code",
   "execution_count": 65,
   "metadata": {},
   "outputs": [
    {
     "name": "stdout",
     "output_type": "stream",
     "text": [
      "True\n"
     ]
    }
   ],
   "source": [
    "string = input()\n",
    "\n",
    "print(string.islower())"
   ]
  },
  {
   "cell_type": "markdown",
   "metadata": {},
   "source": [
    " Метод .center  имеет следующий шаблон вызова:\n",
    "\n",
    "S.center(width[, fillchar])\n",
    "Метод .center принимает один обязательный параметр width - ширину строки и один необязательный параметр fillchar - знак заполнителя (по умолчанию пробел) . Возвращает новую строку длины width, в которой исходная строка S находится в центре, а справа и слева от нее находятся символы fillchar . Если параметр width меньше длины строки, то будет возвращена исходная строка без изменений. "
   ]
  },
  {
   "cell_type": "code",
   "execution_count": 66,
   "metadata": {},
   "outputs": [
    {
     "name": "stdout",
     "output_type": "stream",
     "text": [
      "  qwerty  \n",
      "!!!qwerty!!!\n",
      "????qwerty???\n",
      "qwerty\n"
     ]
    }
   ],
   "source": [
    "d = 'qwerty'\n",
    "print(d.center(10))\n",
    "print(d.center(12, '!'))\n",
    "print(d.center(13, '?'))\n",
    "print(d.center(5, '!'))"
   ]
  },
  {
   "cell_type": "markdown",
   "metadata": {},
   "source": [
    " Метод .zfill  имеет следующий шаблон вызова:\n",
    "\n",
    "S.zfill(width)\n",
    "Метод .zfill возвращает новую строку, в которой исходная строка S дополнена нулями слева так, чтобы длина новой строки стала равна width."
   ]
  },
  {
   "cell_type": "code",
   "execution_count": 67,
   "metadata": {},
   "outputs": [
    {
     "name": "stdout",
     "output_type": "stream",
     "text": [
      "00123\n",
      "000123\n",
      "123\n",
      "123\n",
      "00.123\n"
     ]
    }
   ],
   "source": [
    "d = '123'\n",
    "print(d.zfill(5))\n",
    "print(d.zfill(6))\n",
    "print(d.zfill(2))\n",
    "print(d.zfill(3))\n",
    "print('0.123'.zfill(6))"
   ]
  },
  {
   "cell_type": "markdown",
   "metadata": {},
   "source": [
    "На вход программе поступает строка, состоящая из произвольного количества символов. Ваша задача дополнить введенную строку до 15 символов в том случае, когда ей не хватает длины. Дополнять ее нужно символом -, ставя его в конец строки. В качестве ответа нужно вывести преобразованную строку\n",
    "\n",
    "Если поступала на вход строка, у которой уже имелось как минимум 15 символов, то преобразований выполнять никаких не нужно. Выведите строку в том виде, в котором она вводилась"
   ]
  },
  {
   "cell_type": "code",
   "execution_count": 70,
   "metadata": {},
   "outputs": [
    {
     "name": "stdout",
     "output_type": "stream",
     "text": [
      "learn----------\n"
     ]
    }
   ],
   "source": [
    "string = input()\n",
    "\n",
    "len_string = len(string)\n",
    "\n",
    "final_result = string if len_string >= 15 else string.ljust(15, '-')\n",
    "\n",
    "print(final_result)"
   ]
  },
  {
   "cell_type": "markdown",
   "metadata": {},
   "source": [
    "На вход программе поступает строка. Ваша задача дополнить ее впереди восклицательными знаками так, чтобы длина строки стала 10 символов.\n",
    "\n",
    "Если на вход поступила строка, длина которой уже превысила 9 символов, то дополнять ее знаками ! не нужно. Просто выведите строку в том виде, в котором она вводилась"
   ]
  },
  {
   "cell_type": "code",
   "execution_count": 72,
   "metadata": {},
   "outputs": [
    {
     "name": "stdout",
     "output_type": "stream",
     "text": [
      "!!!!!final\n"
     ]
    }
   ],
   "source": [
    "string = input()\n",
    "\n",
    "len_string = len(string)\n",
    "\n",
    "final_result = string if len_string > 9 else string.rjust(10, '!')\n",
    "\n",
    "print(final_result)"
   ]
  },
  {
   "cell_type": "markdown",
   "metadata": {},
   "source": [
    "При помощи метода .center дополните введенную строку до 15 символов. В качестве параметра fillchar возьмите нижнее подчеркивание _"
   ]
  },
  {
   "cell_type": "code",
   "execution_count": 73,
   "metadata": {},
   "outputs": [
    {
     "name": "stdout",
     "output_type": "stream",
     "text": [
      "_____scream____\n"
     ]
    }
   ],
   "source": [
    "string = input()\n",
    "\n",
    "len_string = len(string)\n",
    "\n",
    "final_result = string if len_string > 14 else string.center(15, '_')\n",
    "\n",
    "print(final_result)"
   ]
  },
  {
   "cell_type": "markdown",
   "metadata": {},
   "source": [
    "На вход программе поступает натуральное число, которое не превосходит значение 109\n",
    "\n",
    "Ваша задача вывести данное число так, чтобы вывод занимал 10 разрядов. Если у числа не хватает разрядов, необходимо добавлять вперед незначащие нули."
   ]
  },
  {
   "cell_type": "code",
   "execution_count": 75,
   "metadata": {},
   "outputs": [
    {
     "name": "stdout",
     "output_type": "stream",
     "text": [
      "0000004332\n"
     ]
    }
   ],
   "source": [
    "number = int(input())\n",
    "formatted_number = str(number).zfill(10)\n",
    "print(formatted_number)"
   ]
  },
  {
   "cell_type": "markdown",
   "metadata": {},
   "source": [
    "Символы в параметре chars рассматриваются не как последовательность, а как набор символов, которые необходимо удалить:\n",
    "\n"
   ]
  },
  {
   "cell_type": "code",
   "execution_count": 1,
   "metadata": {},
   "outputs": [
    {
     "name": "stdout",
     "output_type": "stream",
     "text": [
      "_USB_\n"
     ]
    }
   ],
   "source": [
    "print('321232321_USB_31121312'.strip('123'))\n"
   ]
  },
  {
   "cell_type": "markdown",
   "metadata": {},
   "source": [
    "Метод  .rstrip возвращает копию строки, в которой справа удалены указанные символы (по умолчанию удаляются пробельные символы)."
   ]
  },
  {
   "cell_type": "code",
   "execution_count": 2,
   "metadata": {},
   "outputs": [
    {
     "name": "stdout",
     "output_type": "stream",
     "text": [
      "   hello   \n",
      "   hello\n",
      "\n",
      "\n",
      "\n",
      "_USB_\n",
      "123_USB_\n",
      "321232321_USB_\n"
     ]
    }
   ],
   "source": [
    "q = '   hello   '\n",
    "print(q)\n",
    "print(q.rstrip())\n",
    "print('\\n\\n\\n_USB_\\n\\n\\n\\n'.rstrip())\n",
    "print('123_USB_123'.rstrip('123'))\n",
    "print('321232321_USB_31121312'.rstrip('123'))\n"
   ]
  },
  {
   "cell_type": "markdown",
   "metadata": {},
   "source": [
    "Метод  .lstrip возвращает копию строки, в которой слева удалены указанные символы (по умолчанию удаляются пробельные символы)."
   ]
  },
  {
   "cell_type": "code",
   "execution_count": 3,
   "metadata": {},
   "outputs": [
    {
     "name": "stdout",
     "output_type": "stream",
     "text": [
      "   hello   \n",
      "hello   \n",
      "_USB_\n",
      "\n",
      "\n",
      "\n",
      "\n",
      "_USB_123\n",
      "_USB_31121312\n"
     ]
    }
   ],
   "source": [
    "q = '   hello   ' \n",
    "print(q)\n",
    "print(q.lstrip())\n",
    "print('\\n\\n\\n_USB_\\n\\n\\n\\n'.lstrip())\n",
    "print('123_USB_123'.lstrip('123'))\n",
    "print('321232321_USB_31121312'.lstrip('123'))\n"
   ]
  },
  {
   "cell_type": "markdown",
   "metadata": {},
   "source": []
  }
 ],
 "metadata": {
  "kernelspec": {
   "display_name": ".venv",
   "language": "python",
   "name": "python3"
  },
  "language_info": {
   "codemirror_mode": {
    "name": "ipython",
    "version": 3
   },
   "file_extension": ".py",
   "mimetype": "text/x-python",
   "name": "python",
   "nbconvert_exporter": "python",
   "pygments_lexer": "ipython3",
   "version": "3.10.12"
  }
 },
 "nbformat": 4,
 "nbformat_minor": 2
}
