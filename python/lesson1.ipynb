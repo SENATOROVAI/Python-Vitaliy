{
 "cells": [
  {
   "cell_type": "code",
   "execution_count": 1,
   "metadata": {},
   "outputs": [
    {
     "name": "stdout",
     "output_type": "stream",
     "text": [
      "Hello world\n"
     ]
    }
   ],
   "source": [
    "\"\"\"Jupyter Notebook for first lesson.\"\"\"\n",
    "\n",
    "print(\"Hello world\")"
   ]
  },
  {
   "cell_type": "code",
   "execution_count": 1,
   "metadata": {},
   "outputs": [
    {
     "name": "stdout",
     "output_type": "stream",
     "text": [
      "75\n"
     ]
    }
   ],
   "source": [
    "def rectangle_area(\n",
    "    length: int,\n",
    "    width: int,\n",
    ") -> int:\n",
    "    \"\"\"\n",
    "    Calculate area of rectangle.\n",
    "\n",
    "    Args:\n",
    "        length: length of rectangle\n",
    "        width: width of rectangle\n",
    "\n",
    "    Return:\n",
    "        area of rectangle\n",
    "    \"\"\"\n",
    "    return length * width\n",
    "\n",
    "\n",
    "SQUARE_AREA = rectangle_area(15, 5)\n",
    "print(SQUARE_AREA)"
   ]
  }
 ],
 "metadata": {
  "kernelspec": {
   "display_name": "venv",
   "language": "python",
   "name": "python3"
  },
  "language_info": {
   "codemirror_mode": {
    "name": "ipython",
    "version": 3
   },
   "file_extension": ".py",
   "mimetype": "text/x-python",
   "name": "python",
   "nbconvert_exporter": "python",
   "pygments_lexer": "ipython3",
   "version": "3.10.12"
  },
  "orig_nbformat": 4
 },
 "nbformat": 4,
 "nbformat_minor": 2
}
