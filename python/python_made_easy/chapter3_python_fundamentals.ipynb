{
 "cells": [
  {
   "cell_type": "code",
   "execution_count": 65,
   "metadata": {},
   "outputs": [
    {
     "data": {
      "text/plain": [
       "' Module for 3d chapter.'"
      ]
     },
     "execution_count": 65,
     "metadata": {},
     "output_type": "execute_result"
    }
   ],
   "source": [
    "\"\"\"Module for 3d chapter.\"\"\""
   ]
  },
  {
   "cell_type": "markdown",
   "metadata": {},
   "source": [
    "<center>\n",
    "\n",
    "# Python  Основы\n",
    "\n",
    "</center>\n",
    "\n",
    "Интерпретатор Python можно использовать как простой калькулятор: мы вводим\n",
    "в него выражение, а он возвращает значение. Синтаксис выражений прост: арифме­\n",
    "тические операторы +, -, * и / работают так же, как в любой компьютерной про­\n",
    "грамме, которую вы могли использовать, например, в цифровом калькуляторе или\n",
    "электронной таблице Excel; круглые скобки (), как обычно, могут использоваться\n",
    "для группировки. Например:"
   ]
  },
  {
   "cell_type": "markdown",
   "metadata": {},
   "source": [
    "print(2 + 2)\n",
    "print(50 - 5 * 6)"
   ]
  },
  {
   "cell_type": "markdown",
   "metadata": {},
   "source": [
    "* Целые числа (например, 2, 4, 20) имеют тип int, а числа с дробной частью (напри­\n",
    "мер, 5.0, 1.6) имеют тип float.\n",
    "Оператор деления / всегда возвращает float. Чтобы выполнить деление нацело и\n",
    "получить целочисленный результат (отбрасив дробную часть), вы можете исполь­зовать оператор //, а для вычисления остатка — оператор %."
   ]
  },
  {
   "cell_type": "markdown",
   "metadata": {},
   "source": [
    "17 / 3  # обычное деление с плавающей точкой"
   ]
  },
  {
   "cell_type": "markdown",
   "metadata": {},
   "source": [
    "17 // 3  # целочисельное деление"
   ]
  },
  {
   "cell_type": "markdown",
   "metadata": {},
   "source": [
    "5 * 3 + 2  # проверка: результат * делитель + остаток"
   ]
  },
  {
   "cell_type": "markdown",
   "metadata": {},
   "source": [
    "5**2  # 5 в квадрате"
   ]
  },
  {
   "cell_type": "markdown",
   "metadata": {},
   "source": [
    "2**7  # 2 в степени 7"
   ]
  },
  {
   "cell_type": "markdown",
   "metadata": {},
   "source": [
    "* Знак равенства = используется для присвоения значения переменной. После при­своения результат не отображается:"
   ]
  },
  {
   "cell_type": "markdown",
   "metadata": {},
   "source": [
    "width = 20\n",
    "height = 5 * 9\n",
    "# обратите внимание, что этот код ничего не возвращает"
   ]
  },
  {
   "cell_type": "markdown",
   "metadata": {},
   "source": [
    "<center>\n",
    "\n",
    "# Строки\n",
    "\n",
    "</center>\n",
    "\n",
    "* Помимо чисел Python может также работать со строками, которые можно задавать\n",
    "несколькими способами. Они могут быть заключены в одинарные '...' или двой­\n",
    "ные кавычки \"...\". Для экранирования кавычек используется символ \\:"
   ]
  },
  {
   "cell_type": "markdown",
   "metadata": {},
   "source": [
    "\"python strings\"  # одиночные кавычки"
   ]
  },
  {
   "cell_type": "markdown",
   "metadata": {},
   "source": [
    "\"doesn't\"  # используйте \\ для экранирования кавычки..."
   ]
  },
  {
   "cell_type": "markdown",
   "metadata": {},
   "source": [
    "\"doesn't\"  # ...или используйте двойные кавычки"
   ]
  },
  {
   "cell_type": "markdown",
   "metadata": {},
   "source": [
    "* Функция print()_позволяет получить более читаемый вывод, опустить кавычки\n",
    "и вывести экранированные и специальные символы:"
   ]
  },
  {
   "cell_type": "markdown",
   "metadata": {},
   "source": [
    "print('\"Isn\\'t,\" they said.')"
   ]
  },
  {
   "cell_type": "markdown",
   "metadata": {},
   "source": [
    "* Если вы не хотите, чтобы управляющие символы (такие как \\n, \\t) интерпретирова­лись как специальные, вы можете использовать необработанные строки, добавив\n",
    "букву r перед первой кавычкой"
   ]
  },
  {
   "cell_type": "markdown",
   "metadata": {},
   "source": [
    "print(\"C:\\\\some\\name\")  # здесь \\п - переход на новую строку!"
   ]
  },
  {
   "cell_type": "markdown",
   "metadata": {},
   "source": [
    "print(r\"C:\\some\\name\")  # r перед открывающей кавычкой"
   ]
  },
  {
   "cell_type": "markdown",
   "metadata": {},
   "source": [
    "<center>\n",
    "\n",
    "# Конкатенация и повторение\n",
    "\n",
    "</center>\n",
    "\n",
    "* Строки можно объединять (склеивать) с помощью оператора + и повторять с по­\n",
    "мощью оператора *. Запомнить это просто. Оператор + складывает, а оператор *\n",
    "умножает."
   ]
  },
  {
   "cell_type": "markdown",
   "metadata": {},
   "source": [
    "\"а\" + \"Ь\""
   ]
  },
  {
   "cell_type": "markdown",
   "metadata": {},
   "source": [
    "\"t\" * 5"
   ]
  },
  {
   "cell_type": "markdown",
   "metadata": {
    "vscode": {
     "languageId": "bat"
    }
   },
   "source": [
    "\"no\" * 3 + \"dip\""
   ]
  },
  {
   "cell_type": "markdown",
   "metadata": {},
   "source": [
    "* Два или более строковых литерала (заключенных в кавычки строки), расположен­\n",
    "ных рядом друг с другом, автоматически объединяются."
   ]
  },
  {
   "cell_type": "markdown",
   "metadata": {},
   "source": [
    "\"nil\" \"abh\""
   ]
  },
  {
   "cell_type": "markdown",
   "metadata": {},
   "source": [
    "# Это особенно удобно, если требуется разделить длинные строки.\n",
    "\n",
    "text = \"Put several strings within parentheses -\" \"- to have them joined together.\"\n",
    "\n",
    "text"
   ]
  },
  {
   "cell_type": "markdown",
   "metadata": {},
   "source": [
    "<center>\n",
    "\n",
    "# Индексирование \n",
    "\n",
    "</center>\n",
    "\n",
    "* Строки можно индексировать (обращаться к элементам строки по индексу), при\n",
    "этом первый символ имеет индекс 0. Отдельного типа для данных символов не\n",
    "существует, т. к. символ — это просто строка длиной в один символ."
   ]
  },
  {
   "cell_type": "markdown",
   "metadata": {},
   "source": [
    "word = \"Python\"\n",
    "word[0]"
   ]
  },
  {
   "cell_type": "markdown",
   "metadata": {},
   "source": [
    "word[5]"
   ]
  },
  {
   "cell_type": "markdown",
   "metadata": {},
   "source": [
    "word[-4]  # Для отрицательных индексов отсчет ведется справа:\n",
    "\n",
    "# Обратите внимание: поскольку -0 равняется 0, то отрицательные индексы начина­\n",
    "# ются с -1."
   ]
  },
  {
   "cell_type": "markdown",
   "metadata": {},
   "source": [
    "<center>\n",
    "\n",
    "# Срезы\n",
    "\n",
    "</center>\n",
    "\n",
    "* Срезы позволяют получить подстроку из исходной строки. Они определяются с помощью\n",
    "двух двоеточий в качестве разделителей: word[start:stop]. Срез начинается со стартового индекса и заканчивается на stop индексе, не включая его. Если start равен 0,\n",
    "то можно опустить его, а если stop равен длине слова, то можно его не указывать."
   ]
  },
  {
   "cell_type": "markdown",
   "metadata": {},
   "source": [
    "word[0:2]  # с позиции 0 (включительно) ло 2 (не включая его)"
   ]
  },
  {
   "cell_type": "markdown",
   "metadata": {},
   "source": [
    "word[2:5]  # с позиции 2 (включительно) до 5 (не включая его)"
   ]
  },
  {
   "cell_type": "markdown",
   "metadata": {},
   "source": [
    "* Обратите внимание, что начальный индекс всегда включается, а конечный всегда\n",
    "исключается. Это гарантирует, что s [: i] + s [i: ] всегда равно s."
   ]
  },
  {
   "cell_type": "markdown",
   "metadata": {},
   "source": [
    "word[:2] + word[2:]"
   ]
  },
  {
   "cell_type": "markdown",
   "metadata": {},
   "source": [
    "word[:4] + word[4:]"
   ]
  },
  {
   "cell_type": "markdown",
   "metadata": {},
   "source": [
    "* У срезов есть полезные значения по умолчанию для индексов. Опущенный первый\n",
    "индекс по умолчанию равен нулю, опущенный второй индекс по умолчанию равен\n",
    "длине строки."
   ]
  },
  {
   "cell_type": "markdown",
   "metadata": {},
   "source": [
    "<div class=\"alert alert-danger\">\n",
    "   <strong>Важно</strong>  Строки Python нельзя изменить— они неизменяемы. Следовательно, присвоить\n",
    "новое значение символу по определенному индексу нельзя. Если вы попытаетесь\n",
    "это сделать, получите ошибку:\n",
    "</div>"
   ]
  },
  {
   "cell_type": "markdown",
   "metadata": {},
   "source": [
    "word[2] = \"1\""
   ]
  },
  {
   "cell_type": "markdown",
   "metadata": {},
   "source": [
    "# встроенная функция 1еп() возвращает длину строки\n",
    "\n",
    "len(word)"
   ]
  },
  {
   "cell_type": "markdown",
   "metadata": {},
   "source": [
    "s = \"supercalifragilisticexpialidocious\"\n",
    "len(s)"
   ]
  },
  {
   "cell_type": "markdown",
   "metadata": {},
   "source": [
    "<center>\n",
    "\n",
    "#  Синтаксис кода Python\n",
    "\n",
    "</center>"
   ]
  },
  {
   "cell_type": "markdown",
   "metadata": {},
   "source": [
    "* Строки, написанные в исходном коде для выполнения, называются <span style=\"color: #007bff;\">выражениями</span> , которые могут состоять из операторов разных типов, таких как <span style=\"color: #007bff;\">оператор присваивания</span>, <span style=\"color: #007bff;\">условный оператор</span>, <span style=\"color: #007bff;\">оператор цикла</span> и т. д. Все они нужны для того, чтобы пользователь мог получить нужный результат. Например, <code>п = 20</code> — это выражение с <span style=\"color: #007bff;\">оператором присваивания</span>.\n",
    "\n",
    "\n",
    "\n"
   ]
  },
  {
   "cell_type": "markdown",
   "metadata": {},
   "source": [
    "Выражения могут быть <span style=\"color: #007bff;\">однострочными</span> или <span style=\"color: #007bff;\">многострочными</span>. Многострочные выражения можно переносить на другие строки с помощью следующих символов:\n",
    "\n",
    "- <span style=\"color: #007bff;\">круглых скобок</span> `()`\n",
    "- <span style=\"color: #007bff;\">фигурных скобок</span> `{}`\n",
    "- <span style=\"color: #007bff;\">квадратных скобок</span> `[]`\n",
    "- <span style=\"color: #007bff;\">обратной косой черты</span> `\\`"
   ]
  },
  {
   "cell_type": "markdown",
   "metadata": {},
   "source": [
    "<!-- connect python expressions  -->\n",
    "<center>\n",
    "    <img src=\"../../Images/python_made_easy/python_expressions.png\" style=\"width: 100%; max-width: 100%;\" alt=\"Python expressions\">\n",
    "</center>\n"
   ]
  },
  {
   "cell_type": "markdown",
   "metadata": {},
   "source": [
    "# перенос выражения на новую строку с использованием \\\n",
    "s = 1 + 2 + 3 + 4 + 5 + 6 + 7 + 8 + 9\n",
    "\n",
    "s"
   ]
  },
  {
   "cell_type": "markdown",
   "metadata": {},
   "source": [
    "# перенос выражения на новую строку с использованием ()\n",
    "n = 1 * 2 * 3 + 7 + 8 + 9\n",
    "\n",
    "n"
   ]
  },
  {
   "cell_type": "markdown",
   "metadata": {},
   "source": [
    "# перенос выражения на новую строку с использованием []\n",
    "footballer = [\"MESSI\", \"NEYMAR\", \"SUAREZ\"]\n",
    "\n",
    "footballer"
   ]
  },
  {
   "cell_type": "markdown",
   "metadata": {},
   "source": [
    "# перенос выражения на новую строку с использованием (}\n",
    "x = {1 + 2 + 3 + 4 + 5 + 6 + 7 + 8 + 9}\n",
    "\n",
    "x"
   ]
  },
  {
   "cell_type": "markdown",
   "metadata": {},
   "source": [
    "<!-- Add alert notice -->\n",
    "\n",
    "\n",
    "<div class=\"alert alert-warning\">\n",
    "\n",
    "<strong>Выражения</strong> — это строительные блоки любой программы. Это те самые действия,\n",
    "которые ваша программа должна выполнить. Нет выражений — нет и программы.\n",
    "\n",
    "</div>\n"
   ]
  },
  {
   "cell_type": "markdown",
   "metadata": {},
   "source": [
    "<center>\n",
    "\n",
    "# Окончание выражений\n",
    "</center>"
   ]
  },
  {
   "cell_type": "markdown",
   "metadata": {},
   "source": [
    "В Python конец строки означает конец выражения. Но мы также рассмотрели, как\n",
    "написать выражение в нескольких строках.\n",
    "\n",
    "Можно также завершить выражение с помощью точки с запятой (;). Иногда за счет\n",
    "этого можно размещать нескольких выражений в одной строке, например:\n"
   ]
  },
  {
   "cell_type": "markdown",
   "metadata": {},
   "source": [
    "flag = 2\n",
    "ropes = 3\n",
    "pole = 4"
   ]
  },
  {
   "cell_type": "markdown",
   "metadata": {},
   "source": [
    "<center>\n",
    "\n",
    "# Переменные и присваивание значений\n",
    "</center>"
   ]
  },
  {
   "cell_type": "markdown",
   "metadata": {},
   "source": [
    "<strong style=\"color: orange;\">Переменная</strong> — это некоторое имя, связанное со значением.\n",
    "\n",
    "<!-- alert warning -->\n",
    "<div class=\"alert alert-warning\">\n",
    "\n",
    "<strong>Обратите внимание</strong> , что переменная лишь ссылается на зна­чение, которое ей присвоено, но не тождественна ему. Когда переменной присваи­\n",
    "вается другое значение, старое присвоение сразу становится недействительным.\n",
    "\n",
    "</div>"
   ]
  },
  {
   "cell_type": "markdown",
   "metadata": {},
   "source": [
    "# переменной а присваиваем значение 45\n",
    "a = 45\n",
    "# и выводим значение переменной на экран\n",
    "a"
   ]
  },
  {
   "cell_type": "markdown",
   "metadata": {},
   "source": [
    "# присваиваем той же переменной другое значение\n",
    "a = 3 + 2\n",
    "# и снова выводим\n",
    "a"
   ]
  },
  {
   "cell_type": "markdown",
   "metadata": {},
   "source": [
    "<div class=\"alert alert-warning\">\n",
    "\n",
    "<strong>Переменная a</strong> принимает новое значение, как только мы его\n",
    "присвоили.\n",
    "</div>"
   ]
  },
  {
   "cell_type": "markdown",
   "metadata": {},
   "source": [
    "<center>\n",
    "\n",
    "# Имена переменных и ключевые слова\n",
    "</center>\n",
    "\n",
    "### Правила выбора имен переменных\n",
    "\n",
    "- **Имена переменных** должны быть осмысленными и отражать содержание данных. Например, для данных о продажах в выходные дни лучше использовать имя `Sales_weekend`.\n",
    "- Выбирайте имена, которые облегчают понимание кода.\n",
    "- Переменные могут содержать буквы и цифры, но не могут начинаться с цифры.\n",
    "- Python чувствителен к регистру: `variable` и `Variable` будут разными переменными.\n",
    "\n",
    "### Правила именования переменных\n",
    "\n",
    "1. Имя должно начинаться с буквы (не с цифры).\n",
    "2. Можно использовать символ подчеркивания (`_`) для разделения слов.\n",
    "3. Нельзя использовать ключевые слова Python.\n",
    "\n",
    "#### Ключевые слова Python\n",
    "\n",
    "**Нельзя использовать в качестве имен переменных:**\n",
    "\n",
    "- `and`\n",
    "- `assert`\n",
    "- `break`\n",
    "- `class`\n",
    "- `continue`\n",
    "- `def`\n",
    "- `del`\n",
    "- `elif`\n",
    "- `else`\n",
    "- `except`\n",
    "- `exec`\n",
    "- `finally`\n",
    "- `for`\n",
    "- `from`\n",
    "- `global`\n",
    "- `if`\n",
    "- `import`\n",
    "- `in`\n",
    "- `is`\n",
    "- `lambda`\n",
    "- `not`\n",
    "- `or`\n",
    "- `pass`\n",
    "- `print`\n",
    "- `raise`\n",
    "- `return`\n",
    "- `try`\n",
    "- `while`\n",
    "- `yield`\n",
    "\n",
    "### Проверьте допустимость имен переменных\n",
    "\n",
    "<center>\n",
    "\n",
    "<center>\n",
    "\n",
    "<table style=\"width:100%; border-collapse: collapse;\">\n",
    "  <tr>\n",
    "    <th style=\"border: 1px solid black; padding: 8px;\">Имя переменной</th>\n",
    "    <th style=\"border: 1px solid black; padding: 8px;\">Допустимость</th>\n",
    "  </tr>\n",
    "  <tr>\n",
    "    <td style=\"border: 1px solid black; padding: 8px;\">2nd_wife</td>\n",
    "    <td style=\"border: 1px solid black; padding: 8px;\">❌ Неправильно</td>\n",
    "  </tr>\n",
    "  <tr>\n",
    "    <td style=\"border: 1px solid black; padding: 8px;\">man_vs_wild</td>\n",
    "    <td style=\"border: 1px solid black; padding: 8px;\">✅ Правильно</td>\n",
    "  </tr>\n",
    "  <tr>\n",
    "    <td style=\"border: 1px solid black; padding: 8px;\">\"national geographic\"</td>\n",
    "    <td style=\"border: 1px solid black; padding: 8px;\">❌ Неправильно</td>\n",
    "  </tr>\n",
    "  <tr>\n",
    "    <td style=\"border: 1px solid black; padding: 8px;\">data_science</td>\n",
    "    <td style=\"border: 1px solid black; padding: 8px;\">✅ Правильно</td>\n",
    "  </tr>\n",
    "  <tr>\n",
    "    <td style=\"border: 1px solid black; padding: 8px;\">sudhir22</td>\n",
    "    <td style=\"border: 1px solid black; padding: 8px;\">✅ Правильно</td>\n",
    "  </tr>\n",
    "  <tr>\n",
    "    <td style=\"border: 1px solid black; padding: 8px;\">pythonl23</td>\n",
    "    <td style=\"border: 1px solid black; padding: 8px;\">✅ Правильно</td>\n",
    "  </tr>\n",
    "  <tr>\n",
    "    <td style=\"border: 1px solid black; padding: 8px;\">class</td>\n",
    "    <td style=\"border: 1px solid black; padding: 8px;\">❌ Неправильно</td>\n",
    "  </tr>\n",
    "  <tr>\n",
    "    <td style=\"border: 1px solid black; padding: 8px;\">global</td>\n",
    "    <td style=\"border: 1px solid black; padding: 8px;\">❌ Неправильно</td>\n",
    "  </tr>\n",
    "  <tr>\n",
    "    <td style=\"border: 1px solid black; padding: 8px;\">tomorrow</td>\n",
    "    <td style=\"border: 1px solid black; padding: 8px;\">✅ Правильно</td>\n",
    "  </tr>\n",
    "  <tr>\n",
    "    <td style=\"border: 1px solid black; padding: 8px;\">Sundar_ban</td>\n",
    "    <td style=\"border: 1px solid black; padding: 8px;\">✅ Правильно</td>\n",
    "  </tr>\n",
    "</table>\n",
    "\n",
    "</center>\n",
    "\n",
    "</center>\n"
   ]
  },
  {
   "cell_type": "markdown",
   "metadata": {},
   "source": [
    "<center>\n",
    "\n",
    "#  Выполнение выражений\n",
    "</center>\n",
    "\n",
    "* Выражение — это совокупность значений, переменных и операторов. Когда вы\n",
    "вводите в командной строке выражение, интерпретатор вычисляет его и выводит\n",
    "результат."
   ]
  },
  {
   "cell_type": "markdown",
   "metadata": {},
   "source": [
    "2 + 3"
   ]
  },
  {
   "cell_type": "markdown",
   "metadata": {},
   "source": [
    "* Выражения могут содержать значения, переменные и операторы, но не обязательно\n",
    "все их сразу. Само по себе значение тоже считается выражением, как и отдельно\n",
    "взятая переменная."
   ]
  },
  {
   "cell_type": "markdown",
   "metadata": {},
   "source": [
    "15"
   ]
  },
  {
   "cell_type": "markdown",
   "metadata": {},
   "source": [
    "* Вычислить выражение — это не то же самое, что вывести его значение на экран.\n",
    "Покажем это на примере строки."
   ]
  },
  {
   "cell_type": "markdown",
   "metadata": {},
   "source": [
    "\"Hello World!\""
   ]
  },
  {
   "cell_type": "markdown",
   "metadata": {},
   "source": [
    "print(\"Hello World!\")"
   ]
  },
  {
   "cell_type": "markdown",
   "metadata": {},
   "source": [
    "<!-- add alert info -->\n",
    "<div class=\"alert alert-info\">\n",
    "\n",
    "Когда интерпретатор Python выводит значение выражения, он использует тот же\n",
    "формат, который вы использовали бы для ввода значения. Для строк это означает,\n",
    "что будут выведены кавычки. Но если вы используете функцию <span style=\"color:purple\">print()</span>, Python\n",
    "отображает содержимое строки без кавычек.\n",
    "</div>"
   ]
  }
 ],
 "metadata": {
  "kernelspec": {
   "display_name": "Python 3",
   "language": "python",
   "name": "python3"
  },
  "language_info": {
   "codemirror_mode": {
    "name": "ipython",
    "version": 3
   },
   "file_extension": ".py",
   "mimetype": "text/x-python",
   "name": "python",
   "nbconvert_exporter": "python",
   "pygments_lexer": "ipython3",
   "version": "3.10.12"
  }
 },
 "nbformat": 4,
 "nbformat_minor": 2
}
