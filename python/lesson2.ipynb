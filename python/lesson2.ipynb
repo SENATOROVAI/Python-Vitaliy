{
 "cells": [
  {
   "cell_type": "code",
   "execution_count": 1,
   "metadata": {},
   "outputs": [
    {
     "name": "stdout",
     "output_type": "stream",
     "text": [
      "233168\n"
     ]
    }
   ],
   "source": [
    "\"\"\"Lesson 2 module.\"\"\"\n",
    "\n",
    "# Find the summ of numbers which divide by 3 and 5 in range(1,1000)\n",
    "\n",
    "RESULT = 0\n",
    "\n",
    "for num in range(1, 1000):\n",
    "    if num % 3 == 0 or num % 5 == 0:\n",
    "        RESULT += num\n",
    "print(RESULT)"
   ]
  }
 ],
 "metadata": {
  "kernelspec": {
   "display_name": "venv",
   "language": "python",
   "name": "python3"
  },
  "language_info": {
   "codemirror_mode": {
    "name": "ipython",
    "version": 3
   },
   "file_extension": ".py",
   "mimetype": "text/x-python",
   "name": "python",
   "nbconvert_exporter": "python",
   "pygments_lexer": "ipython3",
   "version": "3.10.12"
  },
  "orig_nbformat": 4
 },
 "nbformat": 4,
 "nbformat_minor": 2
}
