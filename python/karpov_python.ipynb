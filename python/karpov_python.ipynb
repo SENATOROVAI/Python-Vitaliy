{
 "cells": [
  {
   "cell_type": "code",
   "execution_count": 13,
   "metadata": {},
   "outputs": [
    {
     "name": "stdout",
     "output_type": "stream",
     "text": [
      "{1, 2, 3}\n"
     ]
    }
   ],
   "source": [
    "\"\"\"Module for Karpov course.\"\"\"\n",
    "from typing import Dict\n",
    "\n",
    "# difference() — возвращает разность между двумя множествами.\n",
    "\n",
    "set1 = {1, 2, 3, 4, 5}\n",
    "set2 = {4, 5, 6, 7, 8}\n",
    "diff_set1_set2 = set1.difference(set2)\n",
    "print(diff_set1_set2)  # выведет {1, 2, 3}"
   ]
  },
  {
   "cell_type": "code",
   "execution_count": null,
   "metadata": {},
   "outputs": [],
   "source": [
    "fruits = {\"apple\", \"banana\", \"cherry\"}\n",
    "fruits.discard(\"banana\")\n",
    "print(fruits)  # выведет {'cherry', 'apple'}\n",
    "\n",
    "fruits = {\"apple\", \"banana\", \"cherry\"}\n",
    "fruits.discard(\"aaaaaaaa\")\n",
    "print(fruits)  # выведет {'cherry', 'banana', 'apple'}"
   ]
  },
  {
   "cell_type": "code",
   "execution_count": null,
   "metadata": {},
   "outputs": [],
   "source": [
    "set1 = {1, 2, 3, 4, 5}\n",
    "set2 = {4, 5, 6, 7, 8}\n",
    "intersection_set = set1.intersection(set2)\n",
    "print(intersection_set)  # выведет {4, 5}"
   ]
  },
  {
   "cell_type": "code",
   "execution_count": null,
   "metadata": {},
   "outputs": [],
   "source": [
    "# isdisjoint() — возвращает True, если два множества не имеют общих элементов.\n",
    "\n",
    "set1 = {1, 2, 3}\n",
    "set2 = {4, 5, 6}\n",
    "disjoint_sets = set1.isdisjoint(set2)\n",
    "print(disjoint_sets)  # выведет True"
   ]
  },
  {
   "cell_type": "code",
   "execution_count": 3,
   "metadata": {},
   "outputs": [
    {
     "name": "stdout",
     "output_type": "stream",
     "text": [
      "True\n"
     ]
    }
   ],
   "source": [
    "# issubset() — возвращает True,\n",
    "# если одно множество является подмножеством другого.\n",
    "\n",
    "set1 = {1, 2, 3, 4, 5}\n",
    "set2 = {1, 2, 3}\n",
    "\n",
    "result = set2.issubset(set1)\n",
    "print(result)  # выведет True"
   ]
  },
  {
   "cell_type": "code",
   "execution_count": null,
   "metadata": {},
   "outputs": [],
   "source": [
    "my_list = [5, 2, 8, 1, 9]\n",
    "sorted_list = sorted(my_list)\n",
    "print(sorted_list)  # выведет [1, 2, 5, 8, 9]\n",
    "sorted_list_descending = sorted(my_list, reverse=True)\n",
    "print(sorted_list_descending)  # выведет [9, 8, 5, 2, 1]\n",
    "\n",
    "# А вот если отсортировать множество, то получится список!\n",
    "\n",
    "# my_set = {1, 1, 2, 2}\n",
    "# print(sorted(my_set))  # выведет [1, 2]"
   ]
  },
  {
   "cell_type": "code",
   "execution_count": 4,
   "metadata": {},
   "outputs": [
    {
     "name": "stdout",
     "output_type": "stream",
     "text": [
      "[-2, 1, 2, 3]\n",
      "[1, 2, 3, -2]\n",
      "None\n",
      "[-2, 1, 2, 3]\n"
     ]
    }
   ],
   "source": [
    "my_list = [1, 2, 3, -2]\n",
    "\n",
    "# так правильно\n",
    "my_list_ordered = sorted(\n",
    "    my_list\n",
    ")  # функция sorted возвращает новый список, не изменяет список my_list\n",
    "print(my_list_ordered)  # получим [-2, 1, 2, 3]\n",
    "print(my_list)  # получим [1, 2, 3, -2]\n",
    "\n",
    "# так неправильно\n",
    "# my_list_ordered = (\n",
    "#     my_list.sort()\n",
    "# )  # метод sort ничего не возвращает, а только изменяет список my_list\n",
    "# print(my_list_ordered)  # получим None\n",
    "# print(my_list)  # получим [-2, 1, 2, 3]"
   ]
  },
  {
   "cell_type": "markdown",
   "metadata": {},
   "source": [
    "Создание словарей в Python может быть выполнено несколькими способами:\n",
    "\n",
    "1. **Литералы словаря:**\n",
    "   ```python\n",
    "   my_dict = {'name': 'John', 'age': 30, 'city': 'New York'}\n",
    "   ```\n",
    "\n",
    "2. **Функция `dict()`:**\n",
    "   ```python\n",
    "   empty_dict = dict()\n",
    "   fruit_dict = dict([('apple', 5), ('banana', 3), ('orange', 2)])\n",
    "   ```\n",
    "\n",
    "3. **Метод `fromkeys()`:**\n",
    "   ```python\n",
    "   keys = ['x', 'y', 'z']\n",
    "   default_value = 0\n",
    "   my_dict = dict.fromkeys(keys, default_value)\n",
    "   ```\n",
    "\n",
    "Каждый из этих методов предоставляет гибкость при создании словарей в зависимости от требований задачи."
   ]
  },
  {
   "cell_type": "markdown",
   "metadata": {},
   "source": [
    "```markdown\n",
    "### get()\n",
    "```python\n",
    "my_dict = {\"one\": 1, \"two\": 2, \"three\": 3}\n",
    "print(my_dict.get(\"two\"))  # Вывод: 2 (получение значения по ключу, без возвращения ошибки)\n",
    "\n",
    "### keys()\n",
    "```python\n",
    "my_dict = {\"one\": 1, \"two\": 2, \"three\": 3}\n",
    "print(my_dict.keys())  # Вывод: ['one', 'two', 'three'] (возвращает список всех ключей)\n",
    "\n",
    "### values()\n",
    "```python\n",
    "my_dict = {\"one\": 1, \"two\": 2, \"three\": 3}\n",
    "print(my_dict.values())  # Вывод: [1, 2, 3] (возвращает список всех значений)\n",
    "\n",
    "### items()\n",
    "```python\n",
    "my_dict = {\"one\": 1, \"two\": 2, \"three\": 3}\n",
    "print(my_dict.items())  # Вывод: [('one', 1), ('two', 2), ('three', 3)] (возвращает список кортежей ключ-значение)\n",
    "\n",
    "### pop()\n",
    "```python\n",
    "my_dict = {\"one\": 1, \"two\": 2, \"three\": 3}\n",
    "print(my_dict.pop(\"two\"))  # Вывод: 2 (удаляет элемент по ключу и возвращает его значение)\n",
    "\n",
    "### clear()\n",
    "```python\n",
    "my_dict = {\"one\": 1, \"two\": 2, \"three\": 3}\n",
    "my_dict.clear()\n",
    "print(my_dict)  # Вывод: {} (удаляет все элементы словаря)\n",
    "\n",
    "### update()\n",
    "```python\n",
    "my_dict = {\"one\": 1, \"two\": 2, \"three\": 3}\n",
    "new_dict = {\"two\": 22, \"four\": 4}\n",
    "my_dict.update(new_dict)\n",
    "print(my_dict)  # Вывод: {'one': 1, 'two': 22, 'three': 3, 'four': 4} (объединяет словарь с другими словарями или ключ-значение парами)\n",
    "\n",
    "### copy()\n",
    "```python\n",
    "my_dict = {\"one\": 1, \"two\": 2, \"three\": 3}\n",
    "new_dict = my_dict.copy()\n",
    "print(new_dict)  # Вывод: {'one': 1, 'two': 2, 'three': 3} (создает копию словаря)\n",
    "\n",
    "### setdefault()\n",
    "```python\n",
    "my_dict = {\"one\": 1, \"two\": 2, \"three\": 3}\n",
    "value = my_dict.setdefault(\"four\", 4)\n",
    "print(value)  # Вывод: 4 (возвращает значение по ключу, вставляет ключ со значением, если ключ отсутствует)\n",
    "print(my_dict)  # Вывод: {'one': 1, 'two': 2, 'three': 3, 'four': 4}\n",
    "```"
   ]
  },
  {
   "cell_type": "markdown",
   "metadata": {},
   "source": [
    "```markdown\n",
    "### Использование frozenset в качестве ключа словаря\n",
    "\n",
    "При использовании frozenset в качестве ключа словаря можно хранить пару значений, например, имя пользователя и его возраст. Это полезно, если нужно создать словарь с составным ключом.\n",
    "\n",
    "```python\n",
    "students_courses = {}\n",
    "name_age = frozenset(['Anatoly', 32])\n",
    "students_courses.update({name_age: ['Python', 'C++']})\n",
    "print(students_courses)  # => {frozenset({32, 'Anatoly'}): ['Python', 'C++']}\n",
    "```\n",
    "\n",
    "Этот пример демонстрирует практическое применение frozenset, когда нужно использовать массив из нескольких элементов в качестве ключа словаря. Обычные списки или set не могут быть использованы в качестве ключей для словаря.\n",
    "```"
   ]
  },
  {
   "cell_type": "code",
   "execution_count": 2,
   "metadata": {},
   "outputs": [
    {
     "name": "stdout",
     "output_type": "stream",
     "text": [
      "************5833\n"
     ]
    }
   ],
   "source": [
    "CARD = \"5468350018455833\"\n",
    "RESULT_CARD = \"*\" * (len(CARD) - 4) + CARD[-4:]\n",
    "print(RESULT_CARD)"
   ]
  },
  {
   "cell_type": "code",
   "execution_count": 12,
   "metadata": {},
   "outputs": [
    {
     "name": "stdout",
     "output_type": "stream",
     "text": [
      "Key with target grade: Bob\n"
     ]
    }
   ],
   "source": [
    "students = {\"Alice\": \"A\", \"Bob\": \"B\", \"Charlie\": \"C\", \"Dave\": \"B\", \"Eve\": \"A\"}\n",
    "\n",
    "TARGET_GRADE = \"B\"\n",
    "\n",
    "keys = list(students.keys())\n",
    "index = list(students.values()).index(TARGET_GRADE)\n",
    "key = keys[index]\n",
    "\n",
    "print(\"Key with target grade:\", key)"
   ]
  },
  {
   "cell_type": "code",
   "execution_count": 14,
   "metadata": {},
   "outputs": [
    {
     "ename": "ValueError",
     "evalue": "'' is not in list",
     "output_type": "error",
     "traceback": [
      "\u001b[0;31m---------------------------------------------------------------------------\u001b[0m",
      "\u001b[0;31mValueError\u001b[0m                                Traceback (most recent call last)",
      "Cell \u001b[0;32mIn[14], line 20\u001b[0m\n\u001b[1;32m     16\u001b[0m \u001b[38;5;28;01mif\u001b[39;00m \u001b[38;5;28mlen\u001b[39m(num_values) \u001b[38;5;241m==\u001b[39m \u001b[38;5;241m3\u001b[39m:\n\u001b[1;32m     17\u001b[0m     mid \u001b[38;5;241m=\u001b[39m num_values[\u001b[38;5;241m1\u001b[39m]\n\u001b[0;32m---> 20\u001b[0m index \u001b[38;5;241m=\u001b[39m \u001b[38;5;28;43mlist\u001b[39;49m\u001b[43m(\u001b[49m\u001b[43mstudents\u001b[49m\u001b[38;5;241;43m.\u001b[39;49m\u001b[43mvalues\u001b[49m\u001b[43m(\u001b[49m\u001b[43m)\u001b[49m\u001b[43m)\u001b[49m\u001b[38;5;241;43m.\u001b[39;49m\u001b[43mindex\u001b[49m\u001b[43m(\u001b[49m\u001b[43mmid\u001b[49m\u001b[43m)\u001b[49m\n\u001b[1;32m     24\u001b[0m \u001b[38;5;28;01mif\u001b[39;00m num_values\u001b[38;5;241m==\u001b[39m\u001b[38;5;241m2\u001b[39m:\n\u001b[1;32m     25\u001b[0m     \u001b[38;5;28mprint\u001b[39m(result)\n",
      "\u001b[0;31mValueError\u001b[0m: '' is not in list"
     ]
    }
   ],
   "source": [
    "dict_age = {\"Антон\": 5, \"Денис\": 14, \"Борис\": 9}\n",
    "\n",
    "num_values = sorted(list(set(dict_age.values())))\n",
    "RESULT_DICT_AGE = \"\"\n",
    "\n",
    "mid = num_values[1]\n",
    "\n",
    "index = list(dict_age.values()).index(mid)\n",
    "\n",
    "if num_values == 2:\n",
    "    print(RESULT_DICT_AGE)\n",
    "else:\n",
    "    RESULT_DICT_AGE = keys[mid]"
   ]
  },
  {
   "cell_type": "code",
   "execution_count": 10,
   "metadata": {},
   "outputs": [
    {
     "name": "stdout",
     "output_type": "stream",
     "text": [
      "False\n"
     ]
    }
   ],
   "source": [
    "side_a = int(input())\n",
    "side_b = int(input())\n",
    "side_c = int(input())\n",
    "\n",
    "triangle_list = [side_a, side_b, side_c]\n",
    "\n",
    "max_n = max(triangle_list)\n",
    "\n",
    "triangle_list.remove(max_n)\n",
    "\n",
    "side_1 = triangle_list[0]\n",
    "side_2 = triangle_list[1]\n",
    "\n",
    "RESULT_TRIANGLE = max_n**2 == side_1**2 + side_2**2\n",
    "print(RESULT_TRIANGLE)"
   ]
  },
  {
   "cell_type": "code",
   "execution_count": 2,
   "metadata": {},
   "outputs": [
    {
     "name": "stdout",
     "output_type": "stream",
     "text": [
      "<class 'int'>\n",
      "5\n",
      "Это простое число\n"
     ]
    }
   ],
   "source": [
    "NUM = 5\n",
    "ORIGINAL_NUM = NUM\n",
    "\n",
    "COUNT = 0\n",
    "\n",
    "while NUM >= 1 and COUNT <= 2:\n",
    "    if NUM % 2 == 0:\n",
    "        COUNT += 1\n",
    "        NUM //= 2\n",
    "    elif NUM % 3 == 0:\n",
    "        COUNT += 1\n",
    "        NUM //= 3\n",
    "    elif NUM % 5 == 0:\n",
    "        COUNT += 1\n",
    "        NUM //= 5\n",
    "    else:\n",
    "        break\n",
    "\n",
    "print(ORIGINAL_NUM)\n",
    "\n",
    "if ORIGINAL_NUM <= 3 or ORIGINAL_NUM == 5:\n",
    "    RESULT_SIMP_N = \"Это простое число\"\n",
    "elif COUNT >= 1:\n",
    "    RESULT_SIMP_N = \"Это не простое число\"\n",
    "else:\n",
    "    RESULT_SIMP_N = \"Это простое число\"\n",
    "\n",
    "print(RESULT_SIMP_N)"
   ]
  },
  {
   "cell_type": "code",
   "execution_count": 6,
   "metadata": {},
   "outputs": [
    {
     "ename": "KeyboardInterrupt",
     "evalue": "",
     "output_type": "error",
     "traceback": [
      "\u001b[0;31m---------------------------------------------------------------------------\u001b[0m",
      "\u001b[0;31mKeyboardInterrupt\u001b[0m                         Traceback (most recent call last)",
      "Cell \u001b[0;32mIn[6], line 3\u001b[0m\n\u001b[1;32m      1\u001b[0m n \u001b[38;5;241m=\u001b[39m \u001b[38;5;28mint\u001b[39m(\u001b[38;5;28minput\u001b[39m())\n\u001b[0;32m----> 3\u001b[0m \u001b[38;5;28;01mwhile\u001b[39;00m n \u001b[38;5;241m>\u001b[39m \u001b[38;5;241m1\u001b[39m:\n\u001b[1;32m      4\u001b[0m     n_float \u001b[38;5;241m=\u001b[39m n \u001b[38;5;241m/\u001b[39m \u001b[38;5;241m2\u001b[39m\n\u001b[1;32m      6\u001b[0m \u001b[38;5;28;01mif\u001b[39;00m n_float \u001b[38;5;241m==\u001b[39m \u001b[38;5;241m1.0\u001b[39m:\n",
      "\u001b[0;31mKeyboardInterrupt\u001b[0m: "
     ]
    }
   ],
   "source": [
    "float_n = float(input())\n",
    "\n",
    "while float_n > 1:\n",
    "    float_n /= 2\n",
    "\n",
    "if float_n == 1.0:\n",
    "    print(\"Степень двойки\")\n",
    "else:\n",
    "    print(\"Не степень двойки\")"
   ]
  },
  {
   "cell_type": "code",
   "execution_count": 97,
   "metadata": {},
   "outputs": [
    {
     "name": "stdout",
     "output_type": "stream",
     "text": [
      "['Математика', 'География']\n"
     ]
    }
   ],
   "source": [
    "grades = {\"Математика\": 4, \"История\": 3, \"Биология\": 3, \"География\": 4}\n",
    "\n",
    "good_subject = []\n",
    "\n",
    "for key, value in grades.items():\n",
    "    if value >= 4:\n",
    "        good_subject.append(key)\n",
    "\n",
    "print(good_subject)"
   ]
  },
  {
   "cell_type": "code",
   "execution_count": 98,
   "metadata": {},
   "outputs": [
    {
     "name": "stdout",
     "output_type": "stream",
     "text": [
      "inf\n"
     ]
    }
   ],
   "source": [
    "float_x = float(\"inf\")\n",
    "\n",
    "print(float_x)"
   ]
  },
  {
   "cell_type": "code",
   "execution_count": 103,
   "metadata": {},
   "outputs": [
    {
     "name": "stdout",
     "output_type": "stream",
     "text": [
      "7\n",
      "7\n"
     ]
    }
   ],
   "source": [
    "list_ = [[1, 23, 4], [3, 2, 1], [1, 3, 4]]\n",
    "\n",
    "DIAGONAL_1 = 0\n",
    "DIAGONAL_2 = 0\n",
    "\n",
    "# Using enumerate to iterate over the list and its indices\n",
    "for index, row in enumerate(list_):\n",
    "    # Adding elements from the main diagonal\n",
    "    DIAGONAL_1 += row[index]\n",
    "    # Adding elements from the secondary diagonal\n",
    "    DIAGONAL_2 += row[-index - 1]\n",
    "\n",
    "print(DIAGONAL_1)\n",
    "print(DIAGONAL_2)"
   ]
  },
  {
   "cell_type": "code",
   "execution_count": 11,
   "metadata": {
    "tags": [
     "17 cell"
    ]
   },
   "outputs": [
    {
     "name": "stdout",
     "output_type": "stream",
     "text": [
      "имя=Иван&возраст=20&курс=Python&оценки=[85, 90, 78, 92]\n"
     ]
    }
   ],
   "source": [
    "student_info = {\n",
    "    \"имя\": \"Иван\",\n",
    "    \"возраст\": 20,\n",
    "    \"курс\": \"Python\",\n",
    "    \"оценки\": [85, 90, 78, 92],\n",
    "}\n",
    "\n",
    "QUERY_STR = \"&\".join([f\"{key}={value}\" for key, value in student_info.items()])\n",
    "\n",
    "print(QUERY_STR)"
   ]
  },
  {
   "cell_type": "code",
   "execution_count": null,
   "metadata": {},
   "outputs": [],
   "source": [
    "def calculate_order_cost_1(\n",
    "    products: Dict[str, float], *orders_1: str\n",
    ") -> tuple[float, Dict[str, int]]:\n",
    "    \"\"\"\n",
    "    Calculate the total cost of orders based on the products' prices.\n",
    "\n",
    "    Args:\n",
    "        products (Dict[str, float]): Dictionary of products and their prices.\n",
    "        *orders (str): Variable-length argument list of orders.\n",
    "\n",
    "    Returns:\n",
    "        tuple[float, Dict[str, int]]: Total cost and order information.\n",
    "    \"\"\"\n",
    "    total_cost_1: float = 0\n",
    "    order_info_1: Dict[str, int] = {}\n",
    "\n",
    "    for key_1 in orders_1:\n",
    "        if key_1 in products:\n",
    "            total_cost_1 += products[key]\n",
    "            quantity = orders_1.count(key)\n",
    "            order_info_1[key] = quantity\n",
    "\n",
    "    return total_cost_1, order_info_1"
   ]
  },
  {
   "cell_type": "code",
   "execution_count": 15,
   "metadata": {},
   "outputs": [
    {
     "name": "stdout",
     "output_type": "stream",
     "text": [
      "[False, True, False, True]\n"
     ]
    }
   ],
   "source": [
    "NUM = 2048\n",
    "\n",
    "STR_N = str(NUM)\n",
    "list_n = [int(digit) for digit in STR_N]\n",
    "\n",
    "result_dgt_b = [False]\n",
    "\n",
    "for i in range(1, len(list_n)):\n",
    "    result_dgt_b.append(list_n[i - 1] != 0 and list_n[i] % list_n[i - 1] == 0)\n",
    "\n",
    "print(result_dgt_b)"
   ]
  },
  {
   "cell_type": "code",
   "execution_count": 140,
   "metadata": {},
   "outputs": [
    {
     "data": {
      "text/plain": [
       "'the old lady looked and tom ran away'"
      ]
     },
     "execution_count": 140,
     "metadata": {},
     "output_type": "execute_result"
    }
   ],
   "source": [
    "MY_STRING = \"zis jqd qbdx qjjgsd bcd zjm fbc bvbx\"\n",
    "secret_dict = {\n",
    "    \"v\": \"w\",\n",
    "    \"x\": \"y\",\n",
    "    \"i\": \"h\",\n",
    "    \"q\": \"l\",\n",
    "    \"c\": \"n\",\n",
    "    \"b\": \"a\",\n",
    "    \"f\": \"r\",\n",
    "    \"j\": \"o\",\n",
    "    \"s\": \"e\",\n",
    "    \"z\": \"t\",\n",
    "    \"g\": \"k\",\n",
    "}\n",
    "\n",
    "DECRYPTED_STRING = \"\"\n",
    "\n",
    "for char in MY_STRING:\n",
    "    if char in secret_dict:\n",
    "        DECRYPTED_STRING += secret_dict[char]\n",
    "    else:\n",
    "        DECRYPTED_STRING += char\n",
    "\n",
    "print(DECRYPTED_STRING)"
   ]
  },
  {
   "cell_type": "markdown",
   "metadata": {},
   "source": [
    "В Python глобальные переменные объявляются вне всех функций, они доступны из любого места в программе. Глобальные переменные могут быть инициализированы и изменены внутри функций с помощью ключевого слова global.\n",
    "\n",
    "Пример использования глобальных переменных в Python:"
   ]
  },
  {
   "cell_type": "code",
   "execution_count": null,
   "metadata": {},
   "outputs": [],
   "source": [
    "# x = 10  # глобальная переменная\n",
    "\n",
    "# def some_function():\n",
    "\n",
    "#     global x\n",
    "#     x += 5  # изменение глобальной переменной\n",
    "#     print(x)\n",
    "\n",
    "# some_function()  # Вывод: 15\n",
    "# print(x)  # Вывод: 15"
   ]
  },
  {
   "cell_type": "markdown",
   "metadata": {},
   "source": [
    "Вот пример реальной задачи, где потребуется использовать глобальную переменную.\n",
    "\n",
    "Предположим, что мы создаем программу для отслеживания заказов в интернет-магазине. У нас есть функция make_order(), которая принимает на вход количество товаров и обрабатывает заказ. Нам нужно отслеживать общее количество заказов, сделанных в магазине.\n",
    "\n"
   ]
  },
  {
   "cell_type": "code",
   "execution_count": 9,
   "metadata": {},
   "outputs": [
    {
     "name": "stdout",
     "output_type": "stream",
     "text": [
      "Всего заказов: 2\n"
     ]
    }
   ],
   "source": [
    "# total_orders = 0\n",
    "# глобальная переменная для хранения общего количества заказов\n",
    "\n",
    "# def make_order(num_items: int) -> int:\n",
    "#     \"\"\"\n",
    "#     Allow make order.\n",
    "\n",
    "#     Params:\n",
    "#         int: num_items\n",
    "\n",
    "#     Return:\n",
    "#         int\n",
    "#     \"\"\"\n",
    "#     global total_orders\n",
    "#     total_orders += 1\n",
    "#     return (\n",
    "#         f\"Заказ сделан! Всего заказов:\n",
    "#         {total_orders}. Товаров в заказе: {num_items}\"\n",
    "#     )\n",
    "\n",
    "# make_order(5)  # Заказ сделан! Всего заказов: 1. Товаров в заказе: 5\n",
    "# make_order(3)  # Заказ сделан! Всего заказов: 2. Товаров в заказе: 3\n",
    "# print(f\"Всего заказов: {total_orders}\")  # Вывод: Всего заказов: 2"
   ]
  },
  {
   "cell_type": "markdown",
   "metadata": {},
   "source": [
    "# Стоит быть осторожным при использовании глобальных переменных, поскольку они могут усложнить понимание и поддержку кода. Если возможно, следует предпочитать передачу значений через аргументы функций или использование локальных переменных."
   ]
  },
  {
   "cell_type": "markdown",
   "metadata": {},
   "source": [
    "Давайте еще познакомимся с более компактной формой создания и использования функций. Лямбда-функция — это анонимная функция, которая может быть определена без использования стандартного оператора def. Она обычно используется в тех случаях, когда необходимо определить простую функцию, которая будет использоваться только в одном месте программы. Вот примеры, которые иллюстрируют использование лямбда-функций:"
   ]
  },
  {
   "cell_type": "code",
   "execution_count": 141,
   "metadata": {},
   "outputs": [
    {
     "name": "stdout",
     "output_type": "stream",
     "text": [
      "8\n"
     ]
    }
   ],
   "source": [
    "def add(x_num: int, y_num: int) -> int:\n",
    "    \"\"\"\n",
    "    Add two numbers.\n",
    "\n",
    "    Params:\n",
    "        int: x\n",
    "        int: y\n",
    "\n",
    "    Return:\n",
    "        int\n",
    "    \"\"\"\n",
    "    return x_num + y_num\n",
    "\n",
    "\n",
    "print(add(5, 3))  # Вывод: 8"
   ]
  },
  {
   "cell_type": "code",
   "execution_count": 142,
   "metadata": {},
   "outputs": [
    {
     "name": "stdout",
     "output_type": "stream",
     "text": [
      "[9, 3, 1, 7, 2, 5]\n"
     ]
    }
   ],
   "source": [
    "# 2. Сортировка списка:\n",
    "\n",
    "numbers = [2, 5, 1, 9, 3, 7]\n",
    "sorted_numbers = sorted(numbers, key=lambda x: x % 3)\n",
    "print(sorted_numbers)  # Вывод: [9, 3, 1, 7, 2, 5]"
   ]
  },
  {
   "cell_type": "markdown",
   "metadata": {},
   "source": [
    "# Лямбда-функции имеют несколько преимуществ по сравнению с обычными функциями. Вот некоторые из них:\n",
    "\n",
    "* 1. Краткость и компактность: Лямбда-функции позволяют определить функцию в одной строке кода без использования оператора def. Они полезны, когда вам нужна простая функция, которая будет использоваться только в одном месте программы. Использование лямбда-функций делает код более компактным и сосредоточенным на самой функции.\n",
    "\n",
    "* 2. Анонимность: Лямбда-функции — это анонимные функции, то есть они не имеют имени. Это полезно, когда вам нужно передать функцию как аргумент в другую функцию или использовать ее вместе с другими конструкциями, такими как filter() или map(). Вы можете определить функцию прямо внутри вызова другой функции, без необходимости создавать отдельное имя для функции.\n",
    "\n",
    "* 3. Удобство в использовании: Лямбда-функции удобно использовать для выполнения простых операций, таких как математические вычисления, фильтрация или преобразование элементов в списке и т.д. Они предоставляют способ определения функций более лаконичным образом и позволяют сократить количество кода.\n",
    "\n",
    "Cтоит отметить, что лямбда-функции также имеют свои ограничения. Они не могут содержать многострочные выражения или иметь сложные логические конструкции. Если вам нужно определить более сложную функцию с множеством операций, условий и циклов, обычная функция может быть более предпочтительной.\n",
    "\n",
    "Использование лямбда-функций или обычных функций зависит от контекста и требований вашей задачи. Вам стоит выбирать наиболее удобное и читаемое решение в каждой конкретной ситуации."
   ]
  },
  {
   "cell_type": "code",
   "execution_count": 144,
   "metadata": {},
   "outputs": [
    {
     "name": "stdout",
     "output_type": "stream",
     "text": [
      "6\n",
      "22\n"
     ]
    }
   ],
   "source": [
    "# 1. Функция с произвольным количеством позиционных аргументов:\n",
    "\n",
    "# args (Positional Arguments) — это специальный параметр в функциях Python,\n",
    "# который позволяет передавать аргументы в виде кортежа.\n",
    "\n",
    "\n",
    "def sum_numbers(*args: int) -> int:\n",
    "    \"\"\"\n",
    "    Calculate the sum of all numbers passed as arguments.\n",
    "\n",
    "    Args:\n",
    "        *args: tuple[int]\n",
    "            Any number of integers.\n",
    "\n",
    "    Returns:\n",
    "        int\n",
    "            The total sum of the numbers.\n",
    "    \"\"\"\n",
    "    total = 0\n",
    "    for num in args:\n",
    "        total += num\n",
    "    return total\n",
    "\n",
    "\n",
    "print(sum_numbers(1, 2, 3))  # Output: 6\n",
    "print(sum_numbers(4, 5, 6, 7))  # Output: 22"
   ]
  },
  {
   "cell_type": "code",
   "execution_count": 8,
   "metadata": {},
   "outputs": [
    {
     "name": "stdout",
     "output_type": "stream",
     "text": [
      "info: {'name': 'John', 'age': 25}\n",
      "info: {'country': 'USA', 'occupation': 'Engineer'}\n"
     ]
    }
   ],
   "source": [
    "# 2. Функция с произвольным количеством именованных аргументов:\n",
    "\n",
    "# kwargs (Keyword Arguments) — это специальный параметр в функциях Python,\n",
    "# который позволяет передавать аргументы в виде словаря.\n",
    "\n",
    "\n",
    "def print_info(**kwargs: dict):\n",
    "    \"\"\"\n",
    "    Print key-value pairs from keyword arguments.\n",
    "\n",
    "    Args:\n",
    "        **kwargs (dict): Key-value pairs to be printed.\n",
    "    \"\"\"\n",
    "    for key_pinfo, value_pinfo in kwargs.items():\n",
    "        print(f\"{key_pinfo}: {value_pinfo}\")\n",
    "\n",
    "\n",
    "print_info(info={\"name\": \"John\", \"age\": 25})\n",
    "# Output: name: John, age: 25\n",
    "print_info(info={\"country\": \"USA\", \"occupation\": \"Engineer\"})\n",
    "\n",
    "# Output: COUNTry: USA, occupation: Engineer"
   ]
  },
  {
   "cell_type": "code",
   "execution_count": 157,
   "metadata": {},
   "outputs": [
    {
     "name": "stdout",
     "output_type": "stream",
     "text": [
      "Total cost: 10.25\n",
      "Order information: {'banana': 1, 'orange': 3, 'grapes': 1}\n"
     ]
    }
   ],
   "source": [
    "def calculate_order_cost(products: dict, *orders: str) -> tuple[int, dict]:\n",
    "    \"\"\"\n",
    "    Calculate the total cost of orders based on product prices.\n",
    "\n",
    "    Args:\n",
    "        products (dict): Dictionary of products and their prices.\n",
    "        *orders (str): Variable number of orders.\n",
    "\n",
    "    Returns:\n",
    "        tuple[int, dict]: Total cost of orders and order information.\n",
    "    \"\"\"\n",
    "    total_cost = 0\n",
    "    order_info = {}\n",
    "\n",
    "    for key_cos in orders:\n",
    "        if key_cos in products:\n",
    "            total_cost += products[key_cos]\n",
    "            quantity = orders.count(key_cos)\n",
    "            order_info[key] = quantity\n",
    "    return total_cost, order_info\n",
    "\n",
    "\n",
    "products_list = {\n",
    "    \"apple\": 1.5,\n",
    "    \"banana\": 0.75,\n",
    "    \"orange\": 2.0,\n",
    "    \"grapes\": 3.5,\n",
    "    \"kiwi\": 1.8,\n",
    "}\n",
    "\n",
    "calculate_total, order_information = calculate_order_cost(\n",
    "    products_list, \"banana\", \"orange\", \"orange\", \"orange\", \"grapes\"\n",
    ")\n",
    "\n",
    "print(\"Total cost:\", calculate_total)\n",
    "print(\"Order information:\", order_information)"
   ]
  },
  {
   "cell_type": "code",
   "execution_count": 14,
   "metadata": {},
   "outputs": [
    {
     "name": "stdout",
     "output_type": "stream",
     "text": [
      "[('Ivan', 30), ('Olga', 25), ('Ivan', 20)]\n"
     ]
    }
   ],
   "source": [
    "input_list = [\n",
    "    (\"Anna\", 13),\n",
    "    (\"Ivan\", 20),\n",
    "    (\"Irina\", 23),\n",
    "    (\"Olga\", 25),\n",
    "    (\"Ivan\", 30),\n",
    "    (\"Oleg\", 24),\n",
    "    (\"Olga\", 26),\n",
    "]\n",
    "# result = [('Ivan', 30), ('Olga', 25), ('Ivan', 20)]\n",
    "\n",
    "result_input_lst = []\n",
    "\n",
    "for elem, (name, age) in enumerate(input_list):\n",
    "    if age % 5 == 0:\n",
    "        result_input_lst.append((name, age))\n",
    "\n",
    "result_input_lst.sort(key=lambda x: (x[1], x[0]), reverse=True)\n",
    "print(result_input_lst)"
   ]
  },
  {
   "cell_type": "code",
   "execution_count": 28,
   "metadata": {
    "tags": [
     "29 cell"
    ]
   },
   "outputs": [
    {
     "name": "stdout",
     "output_type": "stream",
     "text": [
      "{'Сириус Блэк': 'Гриффиндор', 'Аманда Коршун': 'Когтевран', 'Пенелопа Вулпинголд': 'Слизерин', 'Артур Поттер': 'Гриффиндор', 'Тесая Блэк': 'Когтевран'}\n",
      "{'Гриффиндор': 2, 'Пуффендуй': 0, 'Когтевран': 2, 'Слизерин': 1}\n"
     ]
    }
   ],
   "source": [
    "new_students = {\n",
    "    \"Сириус Блэк\": \"храбрость\",\n",
    "    \"Аманда Коршун\": \"любознательность\",\n",
    "    \"Пенелопа Вулпинголд\": \"находчивость\",\n",
    "    \"Артур Поттер\": \"храбрость\",\n",
    "    \"Тесая Блэк\": \"ум\",\n",
    "}\n",
    "\n",
    "\n",
    "def sorting_hat(new_studs: dict) -> tuple[dict, dict]:\n",
    "    \"\"\"\n",
    "    Sort new students into Hogwarts houses based on their qualities.\n",
    "\n",
    "    Args:\n",
    "        new_studs (dict): Dictionary of new students and their qualities.\n",
    "\n",
    "    Returns:\n",
    "        tuple[dict, dict]: Sorted students with assigned houses and department.\n",
    "    \"\"\"\n",
    "    faculty_dict = {\n",
    "        \"Гриффиндор\": [\"храбрость\", \"благородство\", \"честь\"],\n",
    "        \"Пуффендуй\": [\"трудолюбие\", \"верность\", \"честность\"],\n",
    "        \"Когтевран\": [\"ум\", \"любознательность\", \"творчество\"],\n",
    "        \"Слизерин\": [\"хитрость\", \"амбициозность\", \"находчивость\"],\n",
    "    }\n",
    "\n",
    "    sorted_students = {}\n",
    "    department = {fac: 0 for fac in faculty_dict}\n",
    "\n",
    "    for name_sort_h, quality in new_studs.items():\n",
    "        for fac, qual in faculty_dict.items():\n",
    "            if quality in qual:\n",
    "                sorted_students[name_sort_h] = fac\n",
    "                department[fac] += 1\n",
    "\n",
    "    return sorted_students, department"
   ]
  },
  {
   "cell_type": "code",
   "execution_count": 36,
   "metadata": {},
   "outputs": [
    {
     "data": {
      "text/plain": [
       "(3, 1, 6, 5, 4)"
      ]
     },
     "execution_count": 36,
     "metadata": {},
     "output_type": "execute_result"
    }
   ],
   "source": [
    "def reverse_tuple(lst: list) -> tuple:\n",
    "    \"\"\"\n",
    "    Reverse a list of tuples.\n",
    "\n",
    "    Args:\n",
    "        lst (list): List of tuples to be reversed.\n",
    "\n",
    "    Returns:\n",
    "        tuple: Reversed list of tuples.\n",
    "    \"\"\"\n",
    "    reversed_lst = lst[::-1]\n",
    "\n",
    "    new_lst_rev_tpl = []\n",
    "\n",
    "    for elem_revt in reversed_lst:\n",
    "        if elem_revt not in new_lst_rev_tpl:\n",
    "            new_lst_rev_tpl.append(elem_revt)\n",
    "\n",
    "    return tuple(new_lst_rev_tpl)\n",
    "\n",
    "    # return list(set(lst))[::-1]\n",
    "\n",
    "\n",
    "# reverse_tuple([1, 3, 4]) # -> (4, 3, 1)\n",
    "# reverse_tuple([1, 3, 4, 4, 5, 2]) # -> (2, 5, 4, 3, 1)\n",
    "reverse_tuple([4, 5, 3, 5, 5, 6, 1, 3])  # (3, 1, 6, 5, 4)"
   ]
  },
  {
   "cell_type": "code",
   "execution_count": 7,
   "metadata": {},
   "outputs": [
    {
     "name": "stdout",
     "output_type": "stream",
     "text": [
      "(2, 3)\n",
      "(1, 2, 3, 9, 5)\n",
      "(1, 2, 3)\n"
     ]
    }
   ],
   "source": [
    "def update_tuple(input_tuple: tuple, el_del: int) -> tuple:\n",
    "    \"\"\"\n",
    "    Update a tuple by removing a specified element.\n",
    "\n",
    "    Args:\n",
    "        input_tuple (tuple): Tuple to be updated.\n",
    "        el_del (int): Element to be removed from the tuple.\n",
    "\n",
    "    Returns:\n",
    "        tuple: Updated tuple with the specified element removed.\n",
    "    \"\"\"\n",
    "    tuple_to_lst = list(input_tuple)\n",
    "\n",
    "    if el_del in tuple_to_lst:\n",
    "        tuple_to_lst.remove(el_del)\n",
    "        return tuple(tuple_to_lst)\n",
    "    return input_tuple\n",
    "\n",
    "\n",
    "print(update_tuple((1, 2, 3), 1))  # -> (2, 3)\n",
    "print(update_tuple((1, 2, 3, 3, 9, 5), 3))  # -> (1, 2, 3, 9, 5)\n",
    "print(update_tuple((1, 2, 3), 9))  # -> (1, 2, 3)"
   ]
  }
 ],
 "metadata": {
  "kernelspec": {
   "display_name": ".venv",
   "language": "python",
   "name": "python3"
  },
  "language_info": {
   "codemirror_mode": {
    "name": "ipython",
    "version": 3
   },
   "file_extension": ".py",
   "mimetype": "text/x-python",
   "name": "python",
   "nbconvert_exporter": "python",
   "pygments_lexer": "ipython3",
   "version": "3.10.12"
  }
 },
 "nbformat": 4,
 "nbformat_minor": 2
}
