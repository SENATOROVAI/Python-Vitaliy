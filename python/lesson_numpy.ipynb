{
 "cells": [
  {
   "cell_type": "code",
   "execution_count": 1,
   "metadata": {},
   "outputs": [],
   "source": [
    "\"\"\"\n",
    "Matplotlib and Numpy is a powerful library for scientific computing in Python.\n",
    "\n",
    "Matplotlib is used for data visualization and plotting.\n",
    "Numpy is used for scientific computing.\n",
    "\"\"\"\n",
    "\n",
    "import matplotlib.pyplot as plt\n",
    "import numpy as np\n",
    "\n",
    "# Greek lowercase letters such as λ, α, or γ"
   ]
  },
  {
   "cell_type": "markdown",
   "metadata": {},
   "source": [
    "a scalar  is just a single number\n",
    "\n",
    "for example number 4 is scalar in linear algebra \n",
    "\n",
    "scalar represents as greek letter Greek lowercase letters such as λ, α, or γ"
   ]
  },
  {
   "cell_type": "code",
   "execution_count": 4,
   "metadata": {},
   "outputs": [],
   "source": [
    "SCALAR = 5"
   ]
  },
  {
   "cell_type": "code",
   "execution_count": 15,
   "metadata": {},
   "outputs": [
    {
     "data": {
      "text/plain": [
       "4.5"
      ]
     },
     "execution_count": 15,
     "metadata": {},
     "output_type": "execute_result"
    }
   ],
   "source": [
    "print(9 / 2)"
   ]
  },
  {
   "cell_type": "markdown",
   "metadata": {},
   "source": [
    "Vector origin position starts with[0,0]\n",
    "\n",
    "R^N - space, for ex. R^2 = 2D\n",
    "\n"
   ]
  },
  {
   "cell_type": "code",
   "execution_count": 2,
   "metadata": {},
   "outputs": [
    {
     "name": "stdout",
     "output_type": "stream",
     "text": [
      "[[4]\n",
      " [2]]\n"
     ]
    },
    {
     "data": {
      "image/png": "[encoded data removed]",
      "text/plain": [
       "<Figure size 640x480 with 1 Axes>"
      ]
     },
     "metadata": {},
     "output_type": "display_data"
    }
   ],
   "source": [
    "v1 = np.array([4, 2], dtype=\"int8\")  # not oriented vector, 1D array\n",
    "# v.ndim  # 1D\n",
    "v2 = np.array([[4, 2]])  # row-vector, oriented vector is row\n",
    "# v2.ndim\n",
    "v3 = np.array([[4], [2]])\n",
    "print(v2.T)  # T  # transposition => row on column m*n => n*m\n",
    "plt.plot([0, v1[0]], [0, v1[1]])  # drew a graph of vector\n",
    "plt.axis([-6, 6, -6, 6])\n",
    "plt.grid()  # creates\n",
    "\n",
    "# v = np.array([4,2], dtype = \"int8\") # not oriented vector, 1D array\n",
    "# v.nbytes # 16 bytes\n",
    "# dir(v)\n",
    "# type(pe())\n",
    "\n",
    "# help(np.ndarray)\n",
    "# dir(np.ndarray)\n",
    "\n",
    "# v.dtype int64 => default\n",
    "\n",
    "# help(np.array([4,2])),"
   ]
  },
  {
   "cell_type": "code",
   "execution_count": 3,
   "metadata": {},
   "outputs": [
    {
     "data": {
      "image/png": "[encoded data removed]",
      "text/plain": [
       "<Figure size 640x480 with 1 Axes>"
      ]
     },
     "metadata": {},
     "output_type": "display_data"
    }
   ],
   "source": [
    "# broadcast растягиваются в матрицу(дублируются row/column) вектора\n",
    "sum_v = v2 + v3\n",
    "print(sum_v.ndim)  # 2D => плоскость\n",
    "\n",
    "print(v2 * 3)\n",
    "fig, ax = plt.subplots()\n",
    "ax.quiver(0, 0, 3, 3, angles=\"xy\", scale_units=\"xy\", scale=1)\n",
    "ax.set_xlim([-5, 5])\n",
    "ax.set_ylim([-5, 5])\n",
    "plt.grid()  # grid это сетка"
   ]
  },
  {
   "cell_type": "code",
   "execution_count": 18,
   "metadata": {},
   "outputs": [
    {
     "name": "stdout",
     "output_type": "stream",
     "text": [
      "[[4]\n",
      " [2]] (2, 1) (row,column)\n"
     ]
    }
   ],
   "source": [
    "print(v2.T, v2.T.shape, \"(row,column)\")"
   ]
  },
  {
   "cell_type": "code",
   "execution_count": 6,
   "metadata": {},
   "outputs": [
    {
     "data": {
      "text/plain": [
       "14"
      ]
     },
     "execution_count": 6,
     "metadata": {},
     "output_type": "execute_result"
    }
   ],
   "source": [
    "scalar_multy = np.dot(\n",
    "    [1, 2, 3], [1, 2, 3]\n",
    ")  # транспонирование не работает с одномерными массивами\n",
    "print(scalar_multy)\n",
    "# dot product(скалярное произведение вектор) 1*1+2*2+3*3 = 14"
   ]
  },
  {
   "cell_type": "code",
   "execution_count": 20,
   "metadata": {},
   "outputs": [
    {
     "data": {
      "text/plain": [
       "array([[ 6, 12, 18],\n",
       "       [ 6, 12, 18],\n",
       "       [ 6, 12, 18]])"
      ]
     },
     "execution_count": 20,
     "metadata": {},
     "output_type": "execute_result"
    }
   ],
   "source": [
    "v_1 = np.array([[1, 2, 3], [1, 2, 3], [1, 2, 3]])\n",
    "v_2 = np.array([[1, 2, 3], [1, 2, 3], [1, 2, 3]])\n",
    "\n",
    "matrix_multy = np.dot(v_1, v_2)\n",
    "print(matrix_multy)\n",
    "# v_2.ndim\n",
    "# help(np.dot)"
   ]
  },
  {
   "cell_type": "code",
   "execution_count": 21,
   "metadata": {},
   "outputs": [
    {
     "data": {
      "text/plain": [
       "array([[0, 0, 0],\n",
       "       [0, 0, 0],\n",
       "       [0, 0, 0]])"
      ]
     },
     "execution_count": 21,
     "metadata": {},
     "output_type": "execute_result"
    }
   ],
   "source": [
    "np.cross(v_1, v_2)"
   ]
  },
  {
   "cell_type": "code",
   "execution_count": 22,
   "metadata": {},
   "outputs": [
    {
     "data": {
      "text/plain": [
       "1.0"
      ]
     },
     "execution_count": 22,
     "metadata": {},
     "output_type": "execute_result"
    }
   ],
   "source": [
    "np.cos(np.pi * 2)"
   ]
  },
  {
   "cell_type": "code",
   "execution_count": 23,
   "metadata": {},
   "outputs": [
    {
     "data": {
      "text/plain": [
       "6.48074069840786"
      ]
     },
     "execution_count": 23,
     "metadata": {},
     "output_type": "execute_result"
    }
   ],
   "source": [
    "v_mag = np.linalg.norm(v_2)  # magnitude or length of vector\n",
    "print(v_mag)"
   ]
  },
  {
   "cell_type": "code",
   "execution_count": 24,
   "metadata": {},
   "outputs": [
    {
     "data": {
      "text/plain": [
       "3"
      ]
     },
     "execution_count": 24,
     "metadata": {},
     "output_type": "execute_result"
    }
   ],
   "source": [
    "len(v_2)"
   ]
  }
 ],
 "metadata": {
  "kernelspec": {
   "display_name": ".venv",
   "language": "python",
   "name": "python3"
  },
  "language_info": {
   "codemirror_mode": {
    "name": "ipython",
    "version": 3
   },
   "file_extension": ".py",
   "mimetype": "text/x-python",
   "name": "python",
   "nbconvert_exporter": "python",
   "pygments_lexer": "ipython3",
   "version": "3.10.12"
  },
  "orig_nbformat": 4
 },
 "nbformat": 4,
 "nbformat_minor": 2
}
