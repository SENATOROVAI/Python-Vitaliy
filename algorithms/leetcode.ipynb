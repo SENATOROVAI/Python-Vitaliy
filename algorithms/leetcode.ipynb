{
 "cells": [
  {
   "cell_type": "markdown",
   "metadata": {},
   "source": [
    "Given an array of integers nums and an integer target, return indices of the two numbers such that they add up to target.\n",
    "\n",
    "You may assume that each input would have exactly one solution, and you may not use the same element twice.\n",
    "\n",
    "You can return the answer in any order."
   ]
  },
  {
   "cell_type": "code",
   "execution_count": null,
   "metadata": {},
   "outputs": [],
   "source": [
    "\"\"\"Module for leetcode.\"\"\""
   ]
  },
  {
   "cell_type": "code",
   "execution_count": 4,
   "metadata": {},
   "outputs": [
    {
     "name": "stdout",
     "output_type": "stream",
     "text": [
      "[0, 1]\n"
     ]
    }
   ],
   "source": [
    "from typing import Dict, List\n",
    "\n",
    "\n",
    "def two_sum(nums: List[int], target: int) -> List[int]:\n",
    "    \"\"\"\n",
    "    Return the indices of the two numbers that add up to the target number.\n",
    "\n",
    "    Parameters:\n",
    "        nums (List[int]): List of integers.\n",
    "        target (int): Target sum.\n",
    "\n",
    "    Return:\n",
    "        List[int]: List of indices.\n",
    "    \"\"\"\n",
    "    num_dict: Dict[int, int] = {}\n",
    "\n",
    "    for index, num in enumerate(nums):\n",
    "        complement = target - num\n",
    "        if complement in num_dict:\n",
    "            return [num_dict[complement], index]\n",
    "        num_dict[num] = index\n",
    "    return []\n",
    "\n",
    "\n",
    "solution_two_sum = two_sum(nums=[2, 7, 11, 15], target=9)\n",
    "\n",
    "print(solution_two_sum)"
   ]
  },
  {
   "cell_type": "markdown",
   "metadata": {},
   "source": [
    "Palindrome number \n",
    "\n",
    "Given an integer x, return true if x is a \n",
    "palindrome\n",
    ", and false otherwise."
   ]
  },
  {
   "cell_type": "code",
   "execution_count": 6,
   "metadata": {},
   "outputs": [
    {
     "data": {
      "text/plain": [
       "False"
      ]
     },
     "execution_count": 6,
     "metadata": {},
     "output_type": "execute_result"
    }
   ],
   "source": [
    "def is_palindrome(int_x: int) -> bool:\n",
    "    \"\"\"\n",
    "    Determine if a number is a palindrome.\n",
    "\n",
    "    params:\n",
    "        x: int\n",
    "\n",
    "    Return:\n",
    "        bool\n",
    "    \"\"\"\n",
    "    return str(int_x)[::-1] == str(int_x)\n",
    "\n",
    "\n",
    "is_palindrome(-121)"
   ]
  },
  {
   "cell_type": "markdown",
   "metadata": {},
   "source": [
    "Roman numerals are represented by seven different symbols: I, V, X, L, C, D and M.\n",
    "\n",
    "Symbol       Value\n",
    "I             1\n",
    "V             5\n",
    "X             10\n",
    "L             50\n",
    "C             100\n",
    "D             500\n",
    "M             1000\n",
    "For example, 2 is written as II in Roman numeral, just two ones added together. 12 is written as XII, which is simply X + II. The number 27 is written as XXVII, which is XX + V + II.\n",
    "\n",
    "Roman numerals are usually written largest to smallest from left to right. However, the numeral for four is not IIII. Instead, the number four is written as IV. Because the one is before the five we subtract it making four. The same principle applies to the number nine, which is written as IX. There are six instances where subtraction is used:\n",
    "\n",
    "I can be placed before V (5) and X (10) to make 4 and 9. \n",
    "X can be placed before L (50) and C (100) to make 40 and 90. \n",
    "C can be placed before D (500) and M (1000) to make 400 and 900.\n",
    "Given a roman numeral, convert it to an integer.\n",
    "\n",
    "Constraints:\n",
    "\n",
    "1 <= s.length <= 15\n",
    "s contains only the characters ('I', 'V', 'X', 'L', 'C', 'D', 'M').\n",
    "It is guaranteed that s is a valid roman numeral in the range [1, 3999]."
   ]
  },
  {
   "cell_type": "code",
   "execution_count": 8,
   "metadata": {},
   "outputs": [
    {
     "name": "stdout",
     "output_type": "stream",
     "text": [
      "24\n"
     ]
    }
   ],
   "source": [
    "def roman_to_int(string_to_roman: str) -> int:\n",
    "    \"\"\"\n",
    "    Convert a roman numeral to an integer.\n",
    "\n",
    "    params:\n",
    "        string_to_roman: str\n",
    "\n",
    "    Return:\n",
    "        int\n",
    "    \"\"\"\n",
    "    roman_numerals = {\n",
    "        \"I\": 1,\n",
    "        \"V\": 5,\n",
    "        \"X\": 10,\n",
    "        \"L\": 50,\n",
    "        \"C\": 100,\n",
    "        \"D\": 500,\n",
    "        \"M\": 1000,\n",
    "    }\n",
    "\n",
    "    total = 0\n",
    "    prev_value = 0\n",
    "\n",
    "    for numeral in reversed(string_to_roman):\n",
    "        value = roman_numerals[numeral]\n",
    "        if value < prev_value:\n",
    "            total -= value\n",
    "        else:\n",
    "            total += value\n",
    "        prev_value = value\n",
    "    return total\n",
    "\n",
    "\n",
    "calculate_roman = roman_to_int(\"XXIV\")\n",
    "print(calculate_roman)"
   ]
  },
  {
   "cell_type": "markdown",
   "metadata": {},
   "source": [
    "2469. Convert the Temperature\n",
    "      \n",
    "You are given a non-negative floating point number rounded to two decimal places celsius, that denotes the temperature in Celsius.\n",
    "\n",
    "You should convert Celsius into Kelvin and Fahrenheit and return it as an array answer = [kelvin, fahrenheit].\n",
    "\n",
    "Return the array answer. Answers within 10-5 of the actual answer will be accepted.\n",
    "\n",
    "Note that:\n",
    "\n",
    "Kelvin = Celsius + 273.15\n",
    "Fahrenheit = Celsius * 1.80 + 32.00\n"
   ]
  },
  {
   "cell_type": "code",
   "execution_count": 11,
   "metadata": {},
   "outputs": [
    {
     "name": "stdout",
     "output_type": "stream",
     "text": [
      "[304.15, 87.8]\n"
     ]
    }
   ],
   "source": [
    "def convert_temperature(celsius: float) -> List[float]:\n",
    "    \"\"\"\n",
    "    Convert Celsius to Fahrenheit and Kelvin.\n",
    "\n",
    "    params:\n",
    "        celsius: float\n",
    "\n",
    "    Return:\n",
    "        List[float]\n",
    "    \"\"\"\n",
    "    answer: list[float] = [0.0, 0.0]\n",
    "    answer[0] = round(celsius + 273.15, 5)\n",
    "    answer[1] = round(9 / 5 * celsius + 32, 5)\n",
    "    return answer\n",
    "\n",
    "\n",
    "result_sol_convt = convert_temperature(31)\n",
    "print(result_sol_convt)"
   ]
  },
  {
   "cell_type": "code",
   "execution_count": 7,
   "metadata": {},
   "outputs": [
    {
     "name": "stdout",
     "output_type": "stream",
     "text": [
      "4613732\n"
     ]
    }
   ],
   "source": [
    "def fibonacci_sequence(limit: int) -> List[int]:\n",
    "    \"\"\"\n",
    "    Return the Fibonacci sequence up to a given limit.\n",
    "\n",
    "    params:\n",
    "        limit: int\n",
    "\n",
    "    Return:\n",
    "        List[int]\n",
    "    \"\"\"\n",
    "    sequence = [1, 2]\n",
    "    while sequence[-1] + sequence[-2] <= limit:\n",
    "        sequence.append(sequence[-1] + sequence[-2])\n",
    "    return sequence\n",
    "\n",
    "\n",
    "def sum_even_fibonacci(sequence: List[int]) -> int:\n",
    "    \"\"\"\n",
    "    Return the sum of the even numbers in the Fib sequence.\n",
    "\n",
    "    params:\n",
    "        sequence: List[int]\n",
    "\n",
    "    Return:\n",
    "        int\n",
    "    \"\"\"\n",
    "    even_sum = sum(num for num in sequence if num % 2 == 0)\n",
    "    return even_sum\n",
    "\n",
    "\n",
    "fib_sequence = fibonacci_sequence(4000000)\n",
    "result_fib_seq = sum_even_fibonacci(fib_sequence)\n",
    "print(result_fib_seq)"
   ]
  },
  {
   "cell_type": "markdown",
   "metadata": {},
   "source": [
    "1588. Sum of All Odd Length Subarrays\n",
    "\n",
    "Given an array of positive integers arr, return the sum of all possible odd-length subarrays of arr.\n",
    "\n",
    "A subarray is a contiguous subsequence of the arr"
   ]
  },
  {
   "cell_type": "code",
   "execution_count": 2,
   "metadata": {},
   "outputs": [
    {
     "name": "stdout",
     "output_type": "stream",
     "text": [
      "[[4, 5, 1], [5, 1, 3], [1, 3, 2], [4, 5, 1, 3, 2]]\n",
      "[4, 5, 1, 5, 1, 3, 1, 3, 2, 4, 5, 1, 3, 2]\n",
      "[[4, 5, 1], [5, 1, 3], [1, 3, 2], [3, 2, 6], [4, 5, 1, 3, 2], [5, 1, 3, 2, 6]]\n",
      "[4, 5, 1, 5, 1, 3, 1, 3, 2, 3, 2, 6, 4, 5, 1, 3, 2, 5, 1, 3, 2, 6]\n",
      "[]\n",
      "[]\n",
      "55\n",
      "89\n",
      "9\n"
     ]
    }
   ],
   "source": [
    "def sum_odd_length_subarrays(arr: list[int]) -> int:\n",
    "    \"\"\"\n",
    "    Return the sum of the odd length subarrays of an array.\n",
    "\n",
    "    params:\n",
    "        arr: list[int]\n",
    "\n",
    "    Return:\n",
    "        int\n",
    "    \"\"\"\n",
    "    nested_list = []\n",
    "\n",
    "    max_odd = min(99, len(arr))\n",
    "\n",
    "    for odd in range(3, max_odd + 1, 2):\n",
    "        for index in range(len(arr) - odd + 1):\n",
    "            nested_list.append(arr[index : index + odd])\n",
    "    print(nested_list)\n",
    "\n",
    "    flat_list = [item for sublist in nested_list for item in sublist]\n",
    "\n",
    "    print(flat_list)\n",
    "\n",
    "    return sum(flat_list + arr)\n",
    "\n",
    "\n",
    "test_case_1 = sum_odd_length_subarrays([4, 5, 1, 3, 2])\n",
    "test_case_2 = sum_odd_length_subarrays([4, 5, 1, 3, 2, 6])\n",
    "test_case_3 = sum_odd_length_subarrays([4, 5])\n",
    "\n",
    "print(test_case_1)\n",
    "print(test_case_2)\n",
    "print(test_case_3)"
   ]
  },
  {
   "cell_type": "code",
   "execution_count": 23,
   "metadata": {},
   "outputs": [
    {
     "name": "stdout",
     "output_type": "stream",
     "text": [
      "5,5,55,5\n"
     ]
    }
   ],
   "source": [
    "def num_identical_pairs(nums: List[int]) -> int:\n",
    "    \"\"\"\n",
    "    Return the number of good pairs.\n",
    "\n",
    "    params:\n",
    "        nums: List[int]\n",
    "\n",
    "    Return:\n",
    "        int\n",
    "    \"\"\"\n",
    "    dict_nums: Dict[int, int] = {}\n",
    "\n",
    "    for index in nums:\n",
    "        if index in dict_nums:\n",
    "            dict_nums[index] += 1\n",
    "        else:\n",
    "            dict_nums[index] = 1\n",
    "\n",
    "    dict_nums_pairs = [value for key, value in dict_nums.items() if value != 1]\n",
    "    count_pairs = 0\n",
    "\n",
    "    for num in dict_nums_pairs:\n",
    "        count_pairs += num * (num - 1) // 2\n",
    "    return count_pairs\n",
    "\n",
    "\n",
    "ans_num_ip = num_identical_pairs(\n",
    "    [0, 1, 2, 3, 4, 5, 6, 7, 8, 9, 0, 1, 2, 3, 4, 5, 6, 7, 8, 9]\n",
    ")\n",
    "ans_num_ip = num_identical_pairs([1, 2, 3, 4, 5, 1, 2, 3, 4, 5])\n",
    "ans_num_ip = num_identical_pairs([3, 7, 3, 7, 3, 7, 3, 7])\n",
    "ans_num_ip = num_identical_pairs([0, 1, 2, 3, 4, 5, 0, 1, 2, 3, 4, 5])\n",
    "ans_num_ip = num_identical_pairs([2, 3, 4, 5, 6, 7, 8, 2, 3, 4, 5, 8])\n",
    "print(f\"{ans_num_ip},{ans_num_ip},{ans_num_ip}{ans_num_ip},{ans_num_ip}\")"
   ]
  },
  {
   "cell_type": "markdown",
   "metadata": {},
   "source": [
    "# 2769. Find the Maximum Achievable Number\n",
    "\n",
    "You are given two integers, num and t.\n",
    "\n",
    "An integer x is called achievable if it can become equal to num after applying the following operation no more than t times:\n",
    "\n",
    "Increase or decrease x by 1, and simultaneously increase or decrease num by 1.\n",
    "Return the maximum possible achievable number. It can be proven that there exists at least one achievable number.\n",
    "\n",
    " \n",
    "\n",
    "Example 1:\n",
    "\n",
    "Input: num = 4, t = 1\n",
    "\n",
    "Output: 6\n",
    "\n",
    "Explanation: The maximum achievable number is x = 6; it can become equal to num after performing this operation:\n",
    "\n",
    "1- Decrease x by 1, and increase num by 1. Now, x = 5 and num = 5. \n",
    "\n",
    "It can be proven that there is no achievable number larger than 6.\n",
    "\n",
    "Example 2:\n",
    "\n",
    "Input: num = 3, t = 2\n",
    "\n",
    "Output: 7\n",
    "\n",
    "Explanation: The maximum achievable number is x = 7; after performing these operations, x will equal num: \n",
    "\n",
    "1- Decrease x by 1, and increase num by 1. Now, x = 6 and num = 4.\n",
    "\n",
    "2- Decrease x by 1, and increase num by 1. Now, x = 5 and num = 5.\n",
    "\n",
    "It can be proven that there is no achievable number larger than 7.\n",
    " \n",
    "\n",
    "Constraints:\n",
    "\n",
    "1 <= num, t <= 50"
   ]
  },
  {
   "cell_type": "code",
   "execution_count": 16,
   "metadata": {},
   "outputs": [
    {
     "name": "stdout",
     "output_type": "stream",
     "text": [
      "4\n",
      "11\n",
      "6\n",
      "7\n",
      "7\n",
      "4\n"
     ]
    }
   ],
   "source": [
    "def the_maximum_achievable_x(num: int, int_t: int) -> int:\n",
    "    \"\"\"\n",
    "    Return the maximum achievable X.\n",
    "\n",
    "    params:\n",
    "        num: int\n",
    "        int_t: int\n",
    "\n",
    "    Return:\n",
    "        int\n",
    "    \"\"\"\n",
    "    if num % 2 == 0:\n",
    "        return num\n",
    "    return num + int_t * 2\n",
    "\n",
    "\n",
    "print(the_maximum_achievable_x(4, 3))\n",
    "print(the_maximum_achievable_x(7, 2))\n",
    "print(the_maximum_achievable_x(6, 2))\n",
    "print(the_maximum_achievable_x(5, 1))\n",
    "print(the_maximum_achievable_x(3, 2))\n",
    "print(the_maximum_achievable_x(4, 1))"
   ]
  },
  {
   "cell_type": "markdown",
   "metadata": {},
   "source": [
    "# 2894. Divisible and Non-divisible Sums Difference\n",
    "\n",
    "Easy\n",
    "\n",
    "You are given positive integers n and m.\n",
    "\n",
    "Define two integers, num1 and num2, as follows:\n",
    "\n",
    "* num1: The sum of all integers in the range [1, n] that are not divisible by m.\n",
    "* num2: The sum of all integers in the range [1, n] that are divisible by m.\n",
    "  \n",
    "Return the integer num1 - num2."
   ]
  },
  {
   "cell_type": "code",
   "execution_count": 40,
   "metadata": {},
   "outputs": [
    {
     "name": "stdout",
     "output_type": "stream",
     "text": [
      "19\n",
      "46\n",
      "210\n",
      "118\n"
     ]
    }
   ],
   "source": [
    "def difference_of_sums(int_n: int, int_m: int) -> int:\n",
    "    \"\"\"\n",
    "    Return the difference of sums.\n",
    "\n",
    "    params:\n",
    "        int_n: int\n",
    "        int_m: int\n",
    "\n",
    "    Return:\n",
    "        int\n",
    "    \"\"\"\n",
    "    num1 = [i for i in range(1, int_n + 1) if i % int_m != 0]\n",
    "    num2 = [i for i in range(1, int_n + 1) if i % int_m == 0]\n",
    "    return sum(num1) - sum(num2)\n",
    "\n",
    "\n",
    "print(difference_of_sums(10, 3))\n",
    "print(difference_of_sums(16, 3))\n",
    "print(difference_of_sums(27, 4))\n",
    "print(difference_of_sums(19, 6))"
   ]
  },
  {
   "cell_type": "markdown",
   "metadata": {},
   "source": [
    "# 1688. Count of Matches in Tournament\n",
    "\n",
    "You are given an integer n, the number of teams in a tournament that has strange rules:\n",
    "\n",
    "* If the current number of teams is even, each team gets paired with another team. A total of n / 2 matches are played, and n / 2 teams advance to the next round.\n",
    "* If the current number of teams is odd, one team randomly advances in the tournament, and the rest gets paired. A total of (n - 1) / 2 matches are played, and (n - 1) / 2 + 1 teams advance to the next round.\n",
    "\n",
    "Return the number of matches played in the tournament until a winner is decided."
   ]
  },
  {
   "cell_type": "code",
   "execution_count": 18,
   "metadata": {},
   "outputs": [
    {
     "name": "stdout",
     "output_type": "stream",
     "text": [
      "8\n",
      "7\n",
      "5\n",
      "0\n"
     ]
    }
   ],
   "source": [
    "def number_of_matches(count_num: int) -> int:\n",
    "    \"\"\"\n",
    "    Return the number of matches.\n",
    "\n",
    "    params:\n",
    "        count_num: int\n",
    "\n",
    "    Return:\n",
    "        int\n",
    "    \"\"\"\n",
    "    matches_count = 0\n",
    "\n",
    "    while count_num > 1:\n",
    "        matches_count += count_num // 2\n",
    "        count_num = count_num - count_num // 2\n",
    "\n",
    "    return matches_count\n",
    "\n",
    "\n",
    "print(number_of_matches(9))\n",
    "print(number_of_matches(8))\n",
    "print(number_of_matches(6))\n",
    "print(number_of_matches(1))"
   ]
  },
  {
   "cell_type": "markdown",
   "metadata": {},
   "source": [
    "# 66. Plus One\n",
    "\n",
    "You are given a large integer represented as an integer array digits, where each digits[i] is the ith digit of the integer. The digits are ordered from most significant to least significant in left-to-right order. The large integer does not contain any leading 0's.\n",
    "\n",
    "Increment the large integer by one and return the resulting array of digits.    "
   ]
  },
  {
   "cell_type": "code",
   "execution_count": 9,
   "metadata": {},
   "outputs": [
    {
     "name": "stdout",
     "output_type": "stream",
     "text": [
      "[1, 2, 3, 5]\n",
      "[1, 7, 0, 4]\n",
      "[1, 5, 5, 4]\n",
      "[1, 1, 0, 3]\n",
      "[1, 4, 0, 4]\n"
     ]
    }
   ],
   "source": [
    "def plus_one(digits: List[int]) -> List[int]:\n",
    "    \"\"\"\n",
    "    Return the plus one to last element in list.\n",
    "\n",
    "    params:\n",
    "        digits: List[int]\n",
    "\n",
    "    Return:\n",
    "        List[int]\n",
    "    \"\"\"\n",
    "    digits_to_number = int(\"\".join(map(str, digits)))\n",
    "    digits_to_number += 1\n",
    "\n",
    "    result = [int(digit) for digit in str(digits_to_number)]\n",
    "\n",
    "    return result\n",
    "\n",
    "\n",
    "print(plus_one([1, 2, 3, 4]))\n",
    "print(plus_one([1, 7, 0, 3]))\n",
    "print(plus_one([1, 5, 5, 3]))\n",
    "print(plus_one([1, 1, 0, 2]))\n",
    "print(plus_one([1, 4, 0, 3]))"
   ]
  },
  {
   "cell_type": "markdown",
   "metadata": {},
   "source": [
    "# 67. Add Binary\n",
    "\n",
    "Given two binary strings a and b, return their sum as a binary string.\n",
    "\n"
   ]
  },
  {
   "cell_type": "code",
   "execution_count": 10,
   "metadata": {},
   "outputs": [
    {
     "name": "stdout",
     "output_type": "stream",
     "text": [
      "10001\n",
      "10010\n",
      "0\n",
      "10000\n"
     ]
    }
   ],
   "source": [
    "def add_binary(binary_str_a: str, binary_str_b: str) -> str:\n",
    "    \"\"\"\n",
    "    Return the sum of two binary strings.\n",
    "\n",
    "    params:\n",
    "        binary_str_a: str\n",
    "        binary_str_b: str\n",
    "\n",
    "    Return:\n",
    "        str\n",
    "    \"\"\"\n",
    "    result = \"\"\n",
    "    carry = 0\n",
    "\n",
    "    binary_str_a, binary_str_b = binary_str_a[::-1], binary_str_b[::-1]\n",
    "\n",
    "    for i in range(max(len(binary_str_a), len(binary_str_b))):\n",
    "        digit_a = int(binary_str_a[i]) if i < len(binary_str_a) else 0\n",
    "        digit_b = int(binary_str_b[i]) if i < len(binary_str_b) else 0\n",
    "\n",
    "        total = digit_a + digit_b + carry\n",
    "        char = str(total % 2)\n",
    "        result = char + result\n",
    "        carry = total // 2\n",
    "\n",
    "    if carry:\n",
    "        result = \"1\" + result\n",
    "\n",
    "    return result\n",
    "\n",
    "\n",
    "print(add_binary(\"101\", \"1100\"))\n",
    "print(add_binary(\"1101\", \"101\"))\n",
    "print(add_binary(\"0\", \"0\"))\n",
    "print(add_binary(\"1111\", \"1\"))"
   ]
  },
  {
   "cell_type": "markdown",
   "metadata": {},
   "source": [
    "# 69 sqrt(x)\n",
    "\n",
    "Given a non-negative integer x, return the square root of x rounded down to the nearest integer. The returned integer should be non-negative as well.\n",
    "\n",
    "You must not use any built-in exponent function or operator.\n",
    "\n",
    "For example, do not use pow(x, 0.5) in c++ or x ** 0.5 in python."
   ]
  },
  {
   "cell_type": "code",
   "execution_count": 22,
   "metadata": {},
   "outputs": [],
   "source": [
    "def my_sqrt(num_for_sqrt: int) -> int:\n",
    "    \"\"\"\n",
    "    Return the square root of a number.\n",
    "\n",
    "    params:\n",
    "        num_for_sqrt: int\n",
    "\n",
    "    Return:\n",
    "        int\n",
    "    \"\"\"\n",
    "    if num_for_sqrt in (0, 1):\n",
    "        return num_for_sqrt\n",
    "\n",
    "    guess = num_for_sqrt // 2\n",
    "\n",
    "    while guess * guess > num_for_sqrt:\n",
    "        guess = (guess + num_for_sqrt // guess) // 2\n",
    "    return guess"
   ]
  },
  {
   "cell_type": "markdown",
   "metadata": {},
   "source": [
    "# 70. Climbing Stairs\n",
    "\n",
    "You are climbing a staircase. It takes n steps to reach the top.\n",
    "\n",
    "Each time you can either climb 1 or 2 steps. In how many distinct ways can you climb to the top?"
   ]
  },
  {
   "cell_type": "code",
   "execution_count": 21,
   "metadata": {},
   "outputs": [
    {
     "name": "stdout",
     "output_type": "stream",
     "text": [
      "5\n",
      "1\n",
      "2\n",
      "34\n"
     ]
    }
   ],
   "source": [
    "def climb_stairs(target_position: int) -> int:\n",
    "    \"\"\"\n",
    "    Return the number of ways to climb the stairs.\n",
    "\n",
    "    params:\n",
    "        target_position: int\n",
    "\n",
    "    Return:\n",
    "        int\n",
    "    \"\"\"\n",
    "    one, two = 1, 1\n",
    "\n",
    "    for _ in range(target_position - 1):\n",
    "        temp_one = one\n",
    "        one = one + two\n",
    "        two = temp_one\n",
    "    return one\n",
    "\n",
    "\n",
    "print(climb_stairs(4))\n",
    "print(climb_stairs(1))\n",
    "print(climb_stairs(2))\n",
    "print(climb_stairs(8))"
   ]
  },
  {
   "cell_type": "markdown",
   "metadata": {},
   "source": [
    "# 202. Happy Number\n",
    "\n",
    "Write an algorithm to determine if a number n is happy.\n",
    "\n",
    "A happy number is a number defined by the following process:\n",
    "\n",
    "* Starting with any positive integer, replace the number by the sum of the squares of its digits.\n",
    "Repeat the process until the number equals 1 (where it will stay), or it loops endlessly in a cycle which does not include 1.\n",
    "\n",
    "* Those numbers for which this process ends in 1 are happy.\n",
    "Return true if n is a happy number, and false if not."
   ]
  },
  {
   "cell_type": "code",
   "execution_count": 16,
   "metadata": {},
   "outputs": [
    {
     "name": "stdout",
     "output_type": "stream",
     "text": [
      "True\n"
     ]
    }
   ],
   "source": [
    "def is_happy_number() -> bool:\n",
    "    \"\"\"\n",
    "    Check if a number is a happy number.\n",
    "\n",
    "    Happy number is a number that eventually reaches 1 when\n",
    "    replaced by the sum of the squares of its digits.\n",
    "    An example of happy number is 19.\n",
    "\n",
    "    params:\n",
    "\n",
    "    Return:\n",
    "        bool\n",
    "    \"\"\"\n",
    "    num = int(input())\n",
    "\n",
    "    save_n = set()\n",
    "    while num != 1 and num not in save_n:\n",
    "        save_n.add(num)\n",
    "        digits = [int(digit) for digit in str(num)]\n",
    "\n",
    "        squared_digits = [digit**2 for digit in digits]\n",
    "\n",
    "        sum_squarres = sum(squared_digits)\n",
    "\n",
    "        num = sum_squarres\n",
    "\n",
    "    return num == 1\n",
    "\n",
    "\n",
    "is_happy_number_sol = is_happy_number()\n",
    "\n",
    "print(is_happy_number_sol)"
   ]
  }
 ],
 "metadata": {
  "kernelspec": {
   "display_name": ".venv",
   "language": "python",
   "name": "python3"
  },
  "language_info": {
   "codemirror_mode": {
    "name": "ipython",
    "version": 3
   },
   "file_extension": ".py",
   "mimetype": "text/x-python",
   "name": "python",
   "nbconvert_exporter": "python",
   "pygments_lexer": "ipython3",
   "version": "3.10.12"
  },
  "orig_nbformat": 4
 },
 "nbformat": 4,
 "nbformat_minor": 2
}
