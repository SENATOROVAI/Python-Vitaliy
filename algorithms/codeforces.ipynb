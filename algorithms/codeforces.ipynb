{
 "cells": [
  {
   "cell_type": "markdown",
   "metadata": {},
   "source": [
    "<div style=\"text-align:center;\">\n",
    "    <span style=\"color: red; font-weight: bold; font-size: 24px;\">PROBLEM 4A</span>\n",
    "</div>"
   ]
  },
  {
   "cell_type": "markdown",
   "metadata": {},
   "source": [
    "# https://codeforces.com/problemset/problem/4/A\n",
    "\n",
    "One hot summer day Pete and his friend Billy decided to buy a watermelon. They chose the biggest and the ripest one, in their opinion. After that the watermelon was weighed, and the scales showed w kilos. They rushed home, dying of thirst, and decided to divide the berry, however they faced a hard problem.\n",
    "\n",
    "Pete and Billy are great fans of even numbers, that's why they want to divide the watermelon in such a way that each of the two parts weighs even number of kilos, at the same time it is not obligatory that the parts are equal. The boys are extremely tired and want to start their meal as soon as possible, that's why you should help them and find out, if they can divide the watermelon in the way they want. For sure, each of them should get a part of positive weight.\n",
    "\n",
    "# Input\n",
    "The first (and the only) input line contains integer number w (1 ≤ w ≤ 100) — the weight of the watermelon bought by the boys.\n",
    "\n",
    "# OUTPUT\n",
    "Print YES, if the boys can divide the watermelon into two parts, each of them weighing even number of kilos; and NO in the opposite case.\n",
    "\n"
   ]
  },
  {
   "cell_type": "code",
   "execution_count": null,
   "metadata": {},
   "outputs": [],
   "source": [
    "\"\"\"Module for codeforces problems.\"\"\""
   ]
  },
  {
   "cell_type": "markdown",
   "metadata": {},
   "source": [
    "<div style=\"text-align:center;\">\n",
    "    <span style=\"color: green; font-weight: bold; font-size: 24px;\">SOLUTION 4A</span>\n",
    "</div"
   ]
  },
  {
   "cell_type": "code",
   "execution_count": 1,
   "metadata": {},
   "outputs": [
    {
     "name": "stdout",
     "output_type": "stream",
     "text": [
      "No\n"
     ]
    }
   ],
   "source": [
    "# for codeforce submission clear tip for input\n",
    "import math\n",
    "\n",
    "watermelon_weight = int(input(\"Еnter the weight of the watermelon in kg\"))\n",
    "\n",
    "if watermelon_weight > 2 and watermelon_weight % 2 == 0:\n",
    "    print(\"Yes\")\n",
    "else:\n",
    "    print(\"No\")"
   ]
  },
  {
   "cell_type": "code",
   "execution_count": 9,
   "metadata": {},
   "outputs": [
    {
     "name": "stdout",
     "output_type": "stream",
     "text": [
      "No\n",
      "No\n",
      "No\n",
      "Yes\n",
      "No\n"
     ]
    }
   ],
   "source": [
    "# Another decision\n",
    "\n",
    "\n",
    "def watermelon_division(weight: int) -> str:\n",
    "    \"\"\"\n",
    "    Check if possible to diivide watermelon into 2 parts.\n",
    "\n",
    "    Params:\n",
    "    weight (int): weight of the watermelon in kg.\n",
    "\n",
    "    Returns:\n",
    "    str: \"Yes\" if possible to divide watermelon into 2 parts.\n",
    "    \"\"\"\n",
    "    return \"Yes\" if weight > 2 and weight % 2 == 0 else \"No\"\n",
    "\n",
    "\n",
    "print(watermelon_division(23))\n",
    "print(watermelon_division(27))\n",
    "print(watermelon_division(2))\n",
    "print(watermelon_division(34))\n",
    "print(watermelon_division(1))"
   ]
  },
  {
   "cell_type": "markdown",
   "metadata": {},
   "source": [
    "<div style=\"text-align:center;\">\n",
    "    <span style=\"color: red; font-weight: bold; font-size: 24px;\">PROBLEM 71A</span>\n",
    "</div>"
   ]
  },
  {
   "cell_type": "markdown",
   "metadata": {},
   "source": [
    "# https://codeforces.com/problemset/problem/71/A\n",
    "\n",
    "Sometimes some words like \"localization\" or \"internationalization\" are so long that writing them many times in one text is quite tiresome.\n",
    "\n",
    "Let's consider a word too long, if its length is strictly more than 10 characters. All too long words should be replaced with a special abbreviation.\n",
    "\n",
    "This abbreviation is made like this: we write down the first and the last letter of a word and between them we write the number of letters between the first and the last letters. That number is in decimal system and doesn't contain any leading zeroes.\n",
    "\n",
    "Thus, \"localization\" will be spelt as \"l10n\", and \"internationalization» will be spelt as \"i18n\".\n",
    "\n",
    "You are suggested to automate the process of changing the words with abbreviations. At that all too long words should be replaced by the abbreviation and the words that are not too long should not undergo any changes.\n",
    "\n",
    "# Input\n",
    "The first line contains an integer n (1 ≤ n ≤ 100). Each of the following n lines contains one word. All the words consist of lowercase Latin letters and possess the lengths of from 1 to 100 characters.\n",
    "\n",
    "# OUTPUT\n",
    "Print n lines. The i-th line should contain the result of replacing of the i-th word from the input data."
   ]
  },
  {
   "cell_type": "markdown",
   "metadata": {},
   "source": [
    "<div style=\"text-align:center;\">\n",
    "    <span style=\"color: green; font-weight: bold; font-size: 24px;\">SOLUTION 71A</span>\n",
    "</div"
   ]
  },
  {
   "cell_type": "code",
   "execution_count": 2,
   "metadata": {},
   "outputs": [
    {
     "name": "stdout",
     "output_type": "stream",
     "text": [
      "Home\n",
      "H6e\n",
      "I7y\n",
      "\n",
      "M6e\n",
      "Star\n"
     ]
    }
   ],
   "source": [
    "# Decision №1\n",
    "\n",
    "\n",
    "def too_long(word: str) -> str:\n",
    "    \"\"\"\n",
    "    Check if word:str not too long and modify it.\n",
    "\n",
    "    Params:\n",
    "        str\n",
    "\n",
    "    Return:\n",
    "        str\n",
    "    \"\"\"\n",
    "    if len(word) > 4:\n",
    "        return word[0] + str(len(word) - 2) + word[-1]\n",
    "    return word\n",
    "\n",
    "\n",
    "print(too_long(\"Home\"))\n",
    "print(too_long(\"Homemade\"))\n",
    "print(too_long(\"Inventory\"))\n",
    "print(too_long(\"\"))\n",
    "print(too_long(\"Magazine\"))\n",
    "print(too_long(\"Star\"))"
   ]
  },
  {
   "cell_type": "code",
   "execution_count": 4,
   "metadata": {},
   "outputs": [
    {
     "name": "stdout",
     "output_type": "stream",
     "text": [
      "Home\n",
      "H6e\n",
      "I7y\n",
      "\n",
      "M6e\n",
      "Star\n"
     ]
    }
   ],
   "source": [
    "# Decision №2\n",
    "\n",
    "\n",
    "def too_long_2(word: str) -> str:\n",
    "    \"\"\"\n",
    "    Check if word:str not too long and modify it.\n",
    "\n",
    "    Params:\n",
    "        str\n",
    "\n",
    "    Return:\n",
    "        str\n",
    "    \"\"\"\n",
    "    return word[0] + str(len(word) - 2) + word[-1] if len(word) > 4 else word\n",
    "\n",
    "\n",
    "print(too_long_2(\"Home\"))\n",
    "print(too_long_2(\"Homemade\"))\n",
    "print(too_long_2(\"Inventory\"))\n",
    "print(too_long_2(\"\"))\n",
    "print(too_long_2(\"Magazine\"))\n",
    "print(too_long_2(\"Star\"))"
   ]
  },
  {
   "cell_type": "markdown",
   "metadata": {},
   "source": [
    "<div style=\"text-align:center;\">\n",
    "    <span style=\"color: red; font-weight: bold; font-size: 24px;\">PROBLEM 231A</span>\n",
    "</div>"
   ]
  },
  {
   "cell_type": "markdown",
   "metadata": {},
   "source": [
    "# https://codeforces.com/problemset/problem/231/A\n",
    "\n",
    "One day three best friends Petya, Vasya and Tonya decided to form a team and take part in programming contests. Participants are usually offered several problems during programming contests. Long before the start the friends decided that they will implement a problem if at least two of them are sure about the solution. Otherwise, the friends won't write the problem's solution.\n",
    "\n",
    "This contest offers n problems to the participants. For each problem we know, which friend is sure about the solution. Help the friends find the number of problems for which they will write a solution.\n",
    "\n",
    "# Input\n",
    "The first input line contains a single integer n (1 ≤ n ≤ 1000) — the number of problems in the contest. Then n lines contain three integers each, each integer is either 0 or 1. If the first number in the line equals 1, then Petya is sure about the problem's solution, otherwise he isn't sure. The second number shows Vasya's view on the solution, the third number shows Tonya's view. The numbers on the lines are separated by spaces.\n",
    "\n",
    "# OUTPUT\n",
    "Print a single integer — the number of problems the friends will implement on the contest."
   ]
  },
  {
   "cell_type": "markdown",
   "metadata": {},
   "source": [
    "<div style=\"text-align:center;\">\n",
    "    <span style=\"color: green; font-weight: bold; font-size: 24px;\">SOLUTION 231A</span>\n",
    "</div"
   ]
  },
  {
   "cell_type": "code",
   "execution_count": null,
   "metadata": {},
   "outputs": [
    {
     "name": "stdout",
     "output_type": "stream",
     "text": [
      "2\n"
     ]
    }
   ],
   "source": [
    "first_input = int(input(\"Input a single integer n (1 ≤ n ≤ 1000): \"))\n",
    "\n",
    "SOLUTION_KNOWLEDGE = 0\n",
    "\n",
    "for _ in range(first_input):\n",
    "    Petya, Vasya, Tonya = map(int, input().split())\n",
    "    if Petya + Vasya + Tonya >= 2:\n",
    "        SOLUTION_KNOWLEDGE += 1\n",
    "\n",
    "print(SOLUTION_KNOWLEDGE)"
   ]
  },
  {
   "cell_type": "markdown",
   "metadata": {},
   "source": [
    "<div style=\"text-align:center;\">\n",
    "    <span style=\"color: red; font-weight: bold; font-size: 24px;\">PROBLEM 158A</span>\n",
    "</div>"
   ]
  },
  {
   "cell_type": "markdown",
   "metadata": {},
   "source": [
    "# https://codeforces.com/problemset/problem/158/A\n",
    "\n",
    "\"Contestant who earns a score equal to or greater than the k-th place finisher's score will advance to the next round, as long as the contestant earns a positive score...\" — an excerpt from contest rules.\n",
    "\n",
    "A total of n participants took part in the contest (n ≥ k), and you already know their scores. Calculate how many participants will advance to the next round.\n",
    "\n",
    "# Input\n",
    "The first line of the input contains two integers n and k (1 ≤ k ≤ n ≤ 50) separated by a single space.\n",
    "\n",
    "The second line contains n space-separated integers a1, a2, ..., an (0 ≤ ai ≤ 100), where ai is the score earned by the participant who got the i-th place. The given sequence is non-increasing (that is, for all i from 1 to n - 1 the following condition is fulfilled: ai ≥ ai + 1).\n",
    "\n",
    "# OUTPUT\n",
    "OUTPUT the number of participants who advance to the next round."
   ]
  },
  {
   "cell_type": "markdown",
   "metadata": {},
   "source": [
    "<div style=\"text-align:center;\">\n",
    "    <span style=\"color: green; font-weight: bold; font-size: 24px;\">SOLUTION 158A</span>\n",
    "</div"
   ]
  },
  {
   "cell_type": "code",
   "execution_count": 5,
   "metadata": {},
   "outputs": [
    {
     "name": "stdout",
     "output_type": "stream",
     "text": [
      "0\n"
     ]
    }
   ],
   "source": [
    "num_contesters, key_rank = map(int, input().split())\n",
    "\n",
    "if num_contesters >= key_rank:\n",
    "    scores = list(map(int, input().split()[:num_contesters]))\n",
    "\n",
    "    k_place_score = scores[key_rank - 1]\n",
    "\n",
    "    QUALIFIERS = 0\n",
    "\n",
    "    for score in scores:\n",
    "        if score >= k_place_score and score > 0:\n",
    "            QUALIFIERS += 1\n",
    "        else:\n",
    "            break\n",
    "\n",
    "    print(QUALIFIERS)\n",
    "else:\n",
    "    print(\"Number of contestants should be greater than or equal to key rank.\")"
   ]
  },
  {
   "cell_type": "markdown",
   "metadata": {},
   "source": [
    "<div style=\"text-align:center;\">\n",
    "    <span style=\"color: red; font-weight: bold; font-size: 24px;\">PROBLEM 50A</span>\n",
    "</div>"
   ]
  },
  {
   "cell_type": "markdown",
   "metadata": {},
   "source": [
    "# https://codeforces.com/problemset/problem/50/A\n",
    "\n",
    "You are given a rectangular board of M × N squares. Also you are given an unlimited number of standard domino pieces of 2 × 1 squares. You are allowed to rotate the pieces. You are asked to place as many dominoes as possible on the board so as to meet the following conditions:\n",
    "\n",
    "1. Each domino completely covers two squares.\n",
    "\n",
    "2. No two dominoes overlap.\n",
    "\n",
    "3. Each domino lies entirely inside the board. It is allowed to touch the edges of the board.\n",
    "\n",
    "Find the maximum number of dominoes, which can be placed under these restrictions.\n",
    "\n",
    "# Input\n",
    "In a single line you are given two integers M and N — board sizes in squares (1 ≤ M ≤ N ≤ 16).\n",
    "\n",
    "# OUTPUT\n",
    "OUTPUT one number — the maximal number of dominoes, which can be placed."
   ]
  },
  {
   "cell_type": "markdown",
   "metadata": {},
   "source": [
    "<div style=\"text-align:center;\">\n",
    "    <span style=\"color: green; font-weight: bold; font-size: 24px;\">SOLUTION 50A</span>\n",
    "</div>"
   ]
  },
  {
   "cell_type": "code",
   "execution_count": 4,
   "metadata": {},
   "outputs": [
    {
     "name": "stdout",
     "output_type": "stream",
     "text": [
      "5\n"
     ]
    }
   ],
   "source": [
    "M_ROWS, N_COLS = map(int, input().split())\n",
    "\n",
    "# Метод  map используется для применения определенной функции\n",
    "# к каждому итерируемому обьекту\n",
    "# Функция которую мы хотим применить передается первым параметром\n",
    "# итерируемый обьект вторым.\n",
    "# split  розбивает строку на подстроки , по умолчанию используя пробел ,\n",
    "# результат метода split  список  [\"1\", \"2\", \"3\"] ,\n",
    "# входящая же строка пользователя в таком случае  была:\n",
    "# 1 2 3.\n",
    "# * Итерируемые обьекты в python это\n",
    "# списки , словари, строки , кортежи, множества.\n",
    "\n",
    "max_dominoes = (M_ROWS * N_COLS) // 2\n",
    "\n",
    "print(max_dominoes)"
   ]
  },
  {
   "cell_type": "markdown",
   "metadata": {},
   "source": [
    "<div style=\"text-align:center;\">\n",
    "    <span style=\"color: red; font-weight: bold; font-size: 24px;\">PROBLEM 282A</span>\n",
    "</div>"
   ]
  },
  {
   "cell_type": "markdown",
   "metadata": {},
   "source": [
    "# https://codeforces.com/problemset/problem/282/A\n",
    "\n",
    "The classic programming language of Bitland is Bit++. This language is so peculiar and complicated.\n",
    "\n",
    "The language is that peculiar as it has exactly one variable, called x. Also, there are two operations:\n",
    "\n",
    "Operation ++ increases the value of variable x by 1.\n",
    "Operation -- decreases the value of variable x by 1.\n",
    "A statement in language Bit++ is a sequence, consisting of exactly one operation and one variable x. The statement is written without spaces, that is, it can only contain characters \"+\", \"-\", \"X\". Executing a statement means applying the operation it contains.\n",
    "\n",
    "A programme in Bit++ is a sequence of statements, each of them needs to be executed. Executing a programme means executing all the statements it contains.\n",
    "\n",
    "You're given a programme in language Bit++. The initial value of x is 0. Execute the programme and find its final value (the value of the variable when this programme is executed).\n",
    "\n",
    "# Input\n",
    "The first line contains a single integer n (1 ≤ n ≤ 150) — the number of statements in the programme.\n",
    "\n",
    "Next n lines contain a statement each. Each statement contains exactly one operation (++ or --) and exactly one variable x (denoted as letter «X»). Thus, there are no empty statements. The operation and the variable can be written in any order.\n",
    "\n",
    "# OUTPUT\n",
    "Print a single integer — the final value of x."
   ]
  },
  {
   "cell_type": "markdown",
   "metadata": {},
   "source": [
    "<div style=\"text-align:center;\">\n",
    "    <span style=\"color: green; font-weight: bold; font-size: 24px;\">SOLUTION 282A</span>\n",
    "</div>"
   ]
  },
  {
   "cell_type": "code",
   "execution_count": 10,
   "metadata": {},
   "outputs": [
    {
     "name": "stdout",
     "output_type": "stream",
     "text": [
      "-7\n"
     ]
    }
   ],
   "source": [
    "num = int(input(\"Input an integer\"))\n",
    "\n",
    "CONST_X = 0\n",
    "\n",
    "for _ in range(num):\n",
    "    operator = input(\"Input an one of following operators: '++' '--' \")\n",
    "\n",
    "    if \"++\" in operator:\n",
    "        CONST_X += 1\n",
    "    elif \"--\" in operator:\n",
    "        CONST_X -= 1\n",
    "    else:\n",
    "        print(\"Incorrect input\")\n",
    "\n",
    "print(CONST_X)"
   ]
  },
  {
   "cell_type": "markdown",
   "metadata": {},
   "source": [
    "<div style=\"text-align:center;\">\n",
    "    <span style=\"color: red; font-weight: bold; font-size: 24px;\">PROBLEM 263A</span>\n",
    "</div>"
   ]
  },
  {
   "cell_type": "markdown",
   "metadata": {},
   "source": [
    "# https://codeforces.com/problemset/problem/263/A\n",
    "\n",
    "You've got a 5 × 5 matrix, consisting of 24 zeroes and a single number one. Let's index the matrix rows by numbers from 1 to 5 from top to bottom, let's index the matrix columns by numbers from 1 to 5 from left to right. In one move, you are allowed to apply one of the two following transformations to the matrix:\n",
    "\n",
    "Swap two neighboring matrix rows, that is, rows with indexes i and i + 1 for some integer i (1 ≤ i < 5).\n",
    "Swap two neighboring matrix columns, that is, columns with indexes j and j + 1 for some integer j (1 ≤ j < 5).\n",
    "You think that a matrix looks beautiful, if the single number one of the matrix is located in its middle (in the cell that is on the intersection of the third row and the third column). Count the minimum number of moves needed to make the matrix beautiful.\n",
    "\n",
    "# Input\n",
    "The input consists of five lines, each line contains five integers: the j-th integer in the i-th line of the input represents the element of the matrix that is located on the intersection of the i-th row and the j-th column. It is guaranteed that the matrix consists of 24 zeroes and a single number one.\n",
    "\n",
    "# OUTPUT\n",
    "Print a single integer — the minimum number of moves needed to make the matrix beautiful."
   ]
  },
  {
   "cell_type": "markdown",
   "metadata": {},
   "source": [
    "<div style=\"text-align:center;\">\n",
    "    <span style=\"color: green; font-weight: bold; font-size: 24px;\">SOLUTION 263A</span>\n",
    "</div>"
   ]
  },
  {
   "cell_type": "code",
   "execution_count": 20,
   "metadata": {},
   "outputs": [
    {
     "name": "stdout",
     "output_type": "stream",
     "text": [
      "0\n"
     ]
    }
   ],
   "source": [
    "# solutin for codeforces\n",
    "matrix = []\n",
    "for _ in range(5):\n",
    "    matrix.append([*map(int, input().split())])\n",
    "\n",
    "for i_rows in range(5):\n",
    "    for j_cols in range(5):\n",
    "        if matrix[i_rows][j_cols] == 1:\n",
    "            minimum_moves = abs(i_rows - 2) + abs(j_cols - 2)\n",
    "            print(minimum_moves)\n",
    "            break"
   ]
  },
  {
   "cell_type": "code",
   "execution_count": 6,
   "metadata": {},
   "outputs": [
    {
     "name": "stdout",
     "output_type": "stream",
     "text": [
      "3\n"
     ]
    }
   ],
   "source": [
    "# test for solution\n",
    "matrix_2 = [\n",
    "    [1, 0, 0, 1, 0],\n",
    "    [0, 0, 0, 0, 0],\n",
    "    [1, 3, 1, 0, 0],\n",
    "    [0, 0, 0, 0, 0],\n",
    "    [0, 0, 0, 0, 1],\n",
    "]\n",
    "\n",
    "for i_rows in range(5):\n",
    "    for j_cols in range(5):\n",
    "        if matrix_2[i_rows][j_cols] == 1:\n",
    "            minimum_moves = abs(i_rows - 2) + abs(j_cols - 2)\n",
    "            print(minimum_moves)"
   ]
  },
  {
   "cell_type": "markdown",
   "metadata": {},
   "source": [
    "<div style=\"text-align:center;\">\n",
    "    <span style=\"color: red; font-weight: bold; font-size: 24px;\">PROBLEM 112A</span>\n",
    "</div>"
   ]
  },
  {
   "cell_type": "markdown",
   "metadata": {},
   "source": [
    "# https://codeforces.com/problemset/problem/112/A\n",
    "\n",
    "Little Petya loves presents. His mum bought him two strings of the same size for his birthday. The strings consist of uppercase and lowercase Latin letters. Now Petya wants to compare those two strings lexicographically. The letters' case does not matter, that is an uppercase letter is considered equivalent to the corresponding lowercase letter. Help Petya perform the comparison.\n",
    "\n",
    "# Input\n",
    "Each of the first two lines contains a bought string. The strings' lengths range from 1 to 100 inclusive. It is guaranteed that the strings are of the same length and also consist of uppercase and lowercase Latin letters.\n",
    "\n",
    "# OUTPUT\n",
    "If the first string is less than the second one, print \"-1\". If the second string is less than the first one, print \"1\". If the strings are equal, print \"0\". Note that the letters' case is not taken into consideration when the strings are compared."
   ]
  },
  {
   "cell_type": "markdown",
   "metadata": {},
   "source": [
    "<div style=\"text-align:center;\">\n",
    "    <span style=\"color: green; font-weight: bold; font-size: 24px;\">SOLUTION 112A</span>\n",
    "</div>"
   ]
  },
  {
   "cell_type": "code",
   "execution_count": 17,
   "metadata": {},
   "outputs": [
    {
     "name": "stdout",
     "output_type": "stream",
     "text": [
      "0\n"
     ]
    }
   ],
   "source": [
    "# solution for codeforces\n",
    "\n",
    "STRING_1 = input().lower()\n",
    "STRING_2 = input().lower()\n",
    "\n",
    "if STRING_1 > STRING_2:\n",
    "    print(\"1\")\n",
    "elif STRING_2 > STRING_1:\n",
    "    print(\"-1\")\n",
    "elif STRING_1 == STRING_2:\n",
    "    print(\"0\")"
   ]
  },
  {
   "cell_type": "code",
   "execution_count": 38,
   "metadata": {
    "tags": [
     "13 cell"
    ]
   },
   "outputs": [
    {
     "name": "stdout",
     "output_type": "stream",
     "text": [
      "1\n",
      "-1\n",
      "0\n"
     ]
    }
   ],
   "source": [
    "# test\n",
    "\n",
    "\n",
    "def string_comparison(string_1: str, string_2: str) -> str:\n",
    "    \"\"\"\n",
    "    Compare two strings.\n",
    "\n",
    "    Params:\n",
    "        str: STRING_1\n",
    "        str: STRING_2\n",
    "\n",
    "    Return:\n",
    "        str\n",
    "    \"\"\"\n",
    "    if string_1 > string_2:\n",
    "        return \"1\"\n",
    "    elif string_1 > string_2:\n",
    "        return \"-1\"\n",
    "    else \n",
    "        return \"0\"\n",
    "\n",
    "\n",
    "STRING_1 = \"aaa\"\n",
    "STRING_2 = \"aaA\"\n",
    "COMPARE_STRINGS_1 = string_comparison(STRING_1, STRING_2)\n",
    "\n",
    "STRING_1 = \"bOwl\"\n",
    "STRING_2 = \"bowl\"\n",
    "COMPARE_STRINGS_2 = string_comparison(STRING_1, STRING_2)\n",
    "\n",
    "STRING_1 = \"\"\n",
    "STRING_2 = \"\"\n",
    "COMPARE_STRINGS_3 = string_comparison(STRING_1, STRING_2)\n",
    "\n",
    "print(COMPARE_STRINGS_1 + \n",
    " + COMPARE_STRINGS_2 + \n",
    " + COMPARE_STRINGS_3)"
   ]
  },
  {
   "cell_type": "markdown",
   "metadata": {},
   "source": [
    "<div style=\"text-align:center;\">\n",
    "    <span style=\"color: red; font-weight: bold; font-size: 24px;\">PROBLEM 339A</span>\n",
    "</div>"
   ]
  },
  {
   "cell_type": "markdown",
   "metadata": {},
   "source": [
    "# https://codeforces.com/problemset/problem/339/A\n",
    "\n",
    "Xenia the beginner mathematician is a third year student at elementary school. She is now learning the addition operation.\n",
    "\n",
    "The teacher has written down the sum of multiple numbers. Pupils should calculate the sum. To make the calculation easier, the sum only contains numbers 1, 2 and 3. Still, that isn't enough for Xenia. She is only beginning to count, so she can calculate a sum only if the summands follow in non-decreasing order. For example, she can't calculate sum 1+3+2+1 but she can calculate sums 1+1+2 and 3+3.\n",
    "\n",
    "You've got the sum that was written on the board. Rearrange the summans and print the sum in such a way that Xenia can calculate the sum.\n",
    "\n",
    "# Input\n",
    "The first line contains a non-empty string s — the sum Xenia needs to count. String s contains no spaces. It only contains digits and characters \"+\". Besides, string s is a correct sum of numbers 1, 2 and 3. String s is at most 100 characters long.\n",
    "\n",
    "# OUTPUT\n",
    "Print the new sum that Xenia can count."
   ]
  },
  {
   "cell_type": "markdown",
   "metadata": {},
   "source": [
    "<div style=\"text-align:center;\">\n",
    "    <span style=\"color: green; font-weight: bold; font-size: 24px;\">SOLUTION 339A</span>\n",
    "</div>"
   ]
  },
  {
   "cell_type": "code",
   "execution_count": 55,
   "metadata": {},
   "outputs": [
    {
     "name": "stdout",
     "output_type": "stream",
     "text": [
      "Input: 2, Output: 2\n",
      "Input: 1+3+1+2, Output: 1+1+2+3\n",
      "Input: 2+2+1+4+1+3, Output: 1+1+2+2+3+4\n",
      "Input: 2+3+1, Output: 1+2+3\n"
     ]
    }
   ],
   "source": [
    "# test\n",
    "\n",
    "\n",
    "def process_input(input_string: str) -> str:\n",
    "    \"\"\"\n",
    "    Order numbers in string.\n",
    "\n",
    "    Params:\n",
    "        str: input_string\n",
    "\n",
    "    Return:\n",
    "        str: OUTPUT_string\n",
    "    \"\"\"\n",
    "    digits = []\n",
    "    non_digits = []\n",
    "    for char in input_string:\n",
    "        if char.isdigit():\n",
    "            digits.append(int(char))\n",
    "        elif char == \"+\":\n",
    "            non_digits.append(char)\n",
    "    sorted_digits = sorted(digits)\n",
    "    result_339 = str(sorted_digits[0]) + \"\".join(\n",
    "        \"+\" + str(digit) for digit in sorted_digits[1:]\n",
    "    )\n",
    "    return result_339\n",
    "\n",
    "\n",
    "# Test cases\n",
    "test_inputs = [\"2\", \"1+3+1+2\", \"2+2+1+4+1+3\", \"2+3+1\"]\n",
    "\n",
    "for input_string_outer in test_inputs:\n",
    "    OUTPUT = process_input(input_string_outer)\n",
    "    print(f\"Input: {input_string_outer}, OUTPUT: {OUTPUT}\")"
   ]
  },
  {
   "cell_type": "markdown",
   "metadata": {},
   "source": [
    "<div style=\"text-align:center;\">\n",
    "    <span style=\"color: red; font-weight: bold; font-size: 24px;\">PROBLEM 281A</span>\n",
    "</div>"
   ]
  },
  {
   "cell_type": "markdown",
   "metadata": {},
   "source": [
    "<div style=\"text-align:center;\">\n",
    "    <span style=\"color: green; font-weight: bold; font-size: 24px;\">SOLUTION 281A</span>\n",
    "</div>"
   ]
  },
  {
   "cell_type": "code",
   "execution_count": 64,
   "metadata": {},
   "outputs": [
    {
     "name": "stdout",
     "output_type": "stream",
     "text": [
      "ToeRlsW\n"
     ]
    }
   ],
   "source": [
    "# solution codeforces\n",
    "\n",
    "single_line = input()\n",
    "\n",
    "first_letter = single_line[0].capitalize()\n",
    "\n",
    "last_word = single_line[1:]\n",
    "\n",
    "final_word = first_letter + last_word"
   ]
  },
  {
   "cell_type": "markdown",
   "metadata": {},
   "source": [
    "<div style=\"text-align:center;\">\n",
    "    <span style=\"color: red; font-weight: bold; font-size: 24px;\">PROBLEM 617A</span>\n",
    "</div>"
   ]
  },
  {
   "cell_type": "markdown",
   "metadata": {},
   "source": [
    "# https://codeforces.com/problemset/problem/617/A\n",
    "\n",
    "An elephant decided to visit his friend. It turned out that the elephant's house is located at point 0 and his friend's house is located at point x(x > 0) of the coordinate line. In one step the elephant can move 1, 2, 3, 4 or 5 positions forward. Determine, what is the minimum number of steps he need to make in order to get to his friend's house.\n",
    "\n",
    "# Input\n",
    "The first line of the input contains an integer x (1 ≤ x ≤ 1 000 000) — The coordinate of the friend's house.\n",
    "\n",
    "# OUTPUT\n",
    "Print the minimum number of steps that elephant needs to make to get from point 0 to point x."
   ]
  },
  {
   "cell_type": "code",
   "execution_count": 2,
   "metadata": {},
   "outputs": [
    {
     "name": "stdout",
     "output_type": "stream",
     "text": [
      "49\n"
     ]
    }
   ],
   "source": [
    "# elephant can do 1,2,3,4,5 steps at a time\n",
    "# need to find minimum number of steps to get the friend`s house\n",
    "\n",
    "num = int(input())\n",
    "\n",
    "STEPS_Q = 0\n",
    "\n",
    "# if n less or equal\n",
    "if 1 <= num <= 5:\n",
    "    STEPS_Q += num // num\n",
    "elif num > 5:\n",
    "    STEPS_Q += num // 5 + (1 if num % 5 != 0 else 0)\n",
    "\n",
    "print(STEPS_Q)"
   ]
  },
  {
   "cell_type": "markdown",
   "metadata": {},
   "source": [
    "<div style=\"text-align:center;\">\n",
    "    <span style=\"color: red; font-weight: bold; font-size: 24px;\">PROBLEM 486A</span>\n",
    "</div>"
   ]
  },
  {
   "cell_type": "markdown",
   "metadata": {},
   "source": [
    "<div style=\"text-align:center;\">\n",
    "    <span style=\"color: green; font-weight: bold; font-size: 24px;\">SOLUTION 486A</span>\n",
    "</div>"
   ]
  },
  {
   "cell_type": "code",
   "execution_count": 10,
   "metadata": {},
   "outputs": [
    {
     "name": "stdout",
     "output_type": "stream",
     "text": [
      "-3\n"
     ]
    }
   ],
   "source": [
    "# to solve this problem we can use formula\n",
    "# for alternating arithmetic progression\n",
    "\n",
    "num = int(input())\n",
    "\n",
    "result = num // 2 if num % 2 == 0 else -((num + 1) // 2)\n",
    "\n",
    "# здесь я использовал то свойство данного вида прогрессии такое что:\n",
    "# cумма такого вида прогресси всегда имеет повторяющиеся числа начиная с\n",
    "# второй суммы, то есть сумма первых трех членов -2 ,\n",
    "# первых четырех же 2 и так далее , а значит сумма парного члена прогрессии\n",
    "# будет равна его половине , а сумма не парного будет равна половине следующего\n",
    "# после непарного числа но со знаком -\n",
    "\n",
    "print(result)"
   ]
  },
  {
   "cell_type": "markdown",
   "metadata": {},
   "source": [
    "# https://codeforces.com/problemset/problem/200/B\n",
    "\n",
    "Little Vasya loves orange juice very much. That's why any food and drink in his kitchen necessarily contains orange juice. There are n drinks in his fridge, the volume fraction of orange juice in the i-th drink equals pi percent.\n",
    "\n",
    "One day Vasya decided to make himself an orange cocktail. He took equal proportions of each of the n drinks and mixed them. Then he wondered, how much orange juice the cocktail has.\n",
    "\n",
    "Find the volume fraction of orange juice in the final drink.\n",
    "\n",
    "# Input\n",
    "\n",
    "* The first input line contains a single integer n (1 ≤ n ≤ 100) — the number of orange-containing drinks in Vasya's fridge. \n",
    "* The second line contains n integers pi (0 ≤ pi ≤ 100) — the volume fraction of orange juice in the i-th drink, in percent. \n",
    "* The numbers are separated by a space.\n",
    "\n",
    "# OUTPUT\n",
    "\n",
    "* Print the volume fraction in percent of orange juice in Vasya's cocktail. \n",
    "* The answer will be considered correct if the absolute or relative error does not exceed 10  - 4."
   ]
  },
  {
   "cell_type": "markdown",
   "metadata": {},
   "source": [
    "<div style=\"text-align:center;\">\n",
    "    <span style=\"color: green; font-weight: bold; font-size: 24px;\">SOLUTION 200B</span>\n",
    "</div>"
   ]
  },
  {
   "cell_type": "markdown",
   "metadata": {},
   "source": [
    "<div style=\"text-align:center;\">\n",
    "    <span style=\"color: red; font-weight: bold; font-size: 24px;\">PROBLEM 1328A</span>\n",
    "</div>"
   ]
  },
  {
   "cell_type": "markdown",
   "metadata": {},
   "source": [
    "# https://codeforces.com/problemset/problem/1328/A\n",
    "\n",
    "<p align=\"center\">\n",
    "  <img src=\"../Images/problemset_img/problem_1328A.png\" alt=\"Problem 1328A\">\n",
    "</p>\n"
   ]
  },
  {
   "cell_type": "code",
   "execution_count": 9,
   "metadata": {},
   "outputs": [
    {
     "name": "stdout",
     "output_type": "stream",
     "text": [
      "0\n",
      "2\n",
      "3\n"
     ]
    }
   ],
   "source": [
    "num_cases = int(input())\n",
    "\n",
    "COUNT_STEPS = 0\n",
    "\n",
    "for _ in range(num_cases):\n",
    "    steps_a, steps_b = map(int, input().split())\n",
    "    if steps_a % steps_b == 0:\n",
    "        print(0)\n",
    "    else:\n",
    "        COUNT_STEPS = steps_b - steps_a % steps_b\n",
    "        print(COUNT_STEPS)"
   ]
  },
  {
   "cell_type": "markdown",
   "metadata": {},
   "source": [
    "<div style=\"text-align:center;\">\n",
    "    <span style=\"color: red; font-weight: bold; font-size: 24px;\">PROBLEM 1335A</span>\n",
    "</div>"
   ]
  },
  {
   "cell_type": "markdown",
   "metadata": {},
   "source": [
    "<div style=\"text-align:center;\">\n",
    "    <span style=\"color: green; font-weight: bold; font-size: 24px;\">SOLUTION 1335A</span>\n",
    "</div>"
   ]
  },
  {
   "cell_type": "code",
   "execution_count": 25,
   "metadata": {},
   "outputs": [
    {
     "name": "stdout",
     "output_type": "stream",
     "text": [
      "0\n",
      "2\n"
     ]
    }
   ],
   "source": [
    "# solution\n",
    "\n",
    "test_cases = int(input())\n",
    "\n",
    "for _ in range(test_cases):\n",
    "    candies_q = int(input())\n",
    "    if candies_q < 3:\n",
    "        WAYS_N = 0\n",
    "    else:\n",
    "        if candies_q % 2 == 1:\n",
    "            WAYS_N = candies_q // 2\n",
    "        else:\n",
    "            WAYS_N = candies_q // 2 - 1\n",
    "\n",
    "    print(WAYS_N)"
   ]
  },
  {
   "cell_type": "markdown",
   "metadata": {},
   "source": [
    "# https://codeforces.com/problemset/problem/750/A\n",
    "\n",
    "<p align=\"center\">\n",
    "  <img src=\"../Images/problemset_img/problem_750A.png\" alt=\"Problem 750A\">\n",
    "</p>\n"
   ]
  },
  {
   "cell_type": "markdown",
   "metadata": {},
   "source": [
    "<div style=\"text-align:center;\">\n",
    "    <span style=\"color: green; font-weight: bold; font-size: 24px;\">SOLUTION 750A</span>\n",
    "</div>"
   ]
  },
  {
   "cell_type": "markdown",
   "metadata": {},
   "source": [
    "<div style=\"text-align:center;\">\n",
    "    <span style=\"color: green; font-weight: bold; font-size: 24px;\">SOLUTION 1352A</span>\n",
    "</div>"
   ]
  },
  {
   "cell_type": "markdown",
   "metadata": {},
   "source": [
    "<div style=\"text-align:center;\">\n",
    "    <span style=\"color: red; font-weight: bold; font-size: 24px;\">PROBLEM 723A</span>\n",
    "</div>"
   ]
  },
  {
   "cell_type": "markdown",
   "metadata": {},
   "source": [
    "# https://codeforces.com/problemset/problem/723/A\n",
    "\n",
    "<p align=\"center\">\n",
    "  <img src=\"../Images/problemset_img/problem_723A.png\" alt=\"Problem 723A\">\n",
    "</p>\n"
   ]
  },
  {
   "cell_type": "code",
   "execution_count": 9,
   "metadata": {},
   "outputs": [
    {
     "name": "stdout",
     "output_type": "stream",
     "text": [
      "6\n"
     ]
    }
   ],
   "source": [
    "points = list(map(int, input().split()))\n",
    "\n",
    "sorted_points = sorted(points)\n",
    "\n",
    "result = sorted_points[2] - sorted_points[0]\n",
    "\n",
    "print(result)"
   ]
  },
  {
   "cell_type": "markdown",
   "metadata": {},
   "source": [
    "<div style=\"text-align:center;\">\n",
    "    <span style=\"color: red; font-weight: bold; font-size: 24px;\">PROBLEM 581A</span>\n",
    "</div>"
   ]
  },
  {
   "cell_type": "markdown",
   "metadata": {},
   "source": [
    "<div style=\"text-align:center;\">\n",
    "    <span style=\"color: green; font-weight: bold; font-size: 24px;\">SOLUTION 581A</span>\n",
    "</div>"
   ]
  },
  {
   "cell_type": "markdown",
   "metadata": {},
   "source": [
    "<div style=\"text-align:center;\">\n",
    "    <span style=\"color: red; font-weight: bold; font-size: 24px;\">PROBLEM 732A</span>\n",
    "</div>"
   ]
  },
  {
   "cell_type": "markdown",
   "metadata": {},
   "source": [
    "# https://codeforces.com/problemset/problem/732A\n",
    "\n",
    "<p align=\"center\">\n",
    "  <img src=\"../Images/problemset_img/problem_732A.png\" alt=\"Problem 732/A\">\n",
    "</p>\n"
   ]
  },
  {
   "cell_type": "code",
   "execution_count": 15,
   "metadata": {},
   "outputs": [
    {
     "name": "stdout",
     "output_type": "stream",
     "text": [
      "9\n"
     ]
    }
   ],
   "source": [
    "k_price, r_denomination = map(int, input().split())\n",
    "\n",
    "for i in range(1, 11):\n",
    "    total_price = k_price * i\n",
    "    if total_price % 10 == 0 or total_price % 10 == r_denomination:\n",
    "        print(i)\n",
    "        break"
   ]
  },
  {
   "cell_type": "markdown",
   "metadata": {},
   "source": [
    "<div style=\"text-align:center;\">\n",
    "    <span style=\"color: red; font-weight: bold; font-size: 24px;\">PROBLEM 1154A</span>\n",
    "</div>"
   ]
  },
  {
   "cell_type": "markdown",
   "metadata": {},
   "source": [
    "<div style=\"text-align:center;\">\n",
    "    <span style=\"color: green; font-weight: bold; font-size: 24px;\">SOLUTION 1154A</span>\n",
    "</div>"
   ]
  },
  {
   "cell_type": "code",
   "execution_count": 3,
   "metadata": {},
   "outputs": [
    {
     "name": "stdout",
     "output_type": "stream",
     "text": [
      "[201, 101, 101, 200]\n",
      "100 100 1\n"
     ]
    }
   ],
   "source": [
    "# First that we should notice it's that sum of a + b + c are always bigger:\n",
    "# than sum of any pair a+b , a+c or b+c: If all of our numbers > 0.\n",
    "\n",
    "# Second thing that a+b+c has infornation of (a+b and a+c and b+c in it)\n",
    "\n",
    "input_numbers = list(map(int, input().split()))\n",
    "print(input_numbers)\n",
    "\n",
    "max_number = max(input_numbers)\n",
    "\n",
    "# delete max_number from list\n",
    "input_numbers.remove(max_number)\n",
    "\n",
    "find_a = max_number - input_numbers[0]\n",
    "\n",
    "find_b = max_number - input_numbers[1]\n",
    "\n",
    "find_c = max_number - input_numbers[2]\n",
    "\n",
    "print(find_a, find_b, find_c)"
   ]
  },
  {
   "cell_type": "markdown",
   "metadata": {},
   "source": [
    "# https://codeforces.com/problemset/problem/151/A\n",
    "\n",
    "<p align=\"center\">\n",
    "  <img src=\"../Images/problemset_img/problem_151A.png\" alt=\"Problem 151A\">\n",
    "</p>\n",
    "\n"
   ]
  },
  {
   "cell_type": "markdown",
   "metadata": {},
   "source": [
    "<div style=\"text-align:center;\">\n",
    "    <span style=\"color: green; font-weight: bold; font-size: 24px;\">SOLUTION 151A</span>\n",
    "</div>"
   ]
  },
  {
   "cell_type": "markdown",
   "metadata": {},
   "source": [
    "<div style=\"text-align:center;\">\n",
    "    <span style=\"color: red; font-weight: bold; font-size: 24px;\">PROBLEM 1409A</span>\n",
    "</div>"
   ]
  },
  {
   "cell_type": "markdown",
   "metadata": {},
   "source": [
    "# https://codeforces.com/problemset/problem/1409/A\n",
    "\n",
    "<p align=\"center\">\n",
    "  <img src=\"../Images/problemset_img/problem_1409A.png\" alt=\"Problem 1409A\">\n",
    "</p>\n",
    "\n"
   ]
  },
  {
   "cell_type": "code",
   "execution_count": 20,
   "metadata": {},
   "outputs": [
    {
     "name": "stdout",
     "output_type": "stream",
     "text": [
      "3\n",
      "92\n",
      "9150\n",
      "87654322\n"
     ]
    }
   ],
   "source": [
    "test_cases = int(input())\n",
    "\n",
    "for _ in range(test_cases):\n",
    "    a_int, b_int = map(int, input().split())\n",
    "    diff = abs(a_int - b_int)\n",
    "    result = math.ceil(diff / 10)\n",
    "    print(result)"
   ]
  },
  {
   "cell_type": "markdown",
   "metadata": {},
   "source": [
    "<div style=\"text-align:center;\">\n",
    "    <span style=\"color: red; font-weight: bold; font-size: 24px;\">PROBLEM 472A</span>\n",
    "</div>"
   ]
  },
  {
   "cell_type": "markdown",
   "metadata": {},
   "source": [
    "<div style=\"text-align:center;\">\n",
    "    <span style=\"color: green; font-weight: bold; font-size: 24px;\">SOLUTION 472A</span>\n",
    "</div>"
   ]
  },
  {
   "cell_type": "code",
   "execution_count": 13,
   "metadata": {},
   "outputs": [
    {
     "name": "stdout",
     "output_type": "stream",
     "text": [
      "8 9\n"
     ]
    }
   ],
   "source": [
    "num = int(input())\n",
    "\n",
    "temp = num - 8\n",
    "design_tutorial_a = temp if temp % 2 == 0 else temp - 1\n",
    "design_tutorial_b = num - design_tutorial_a\n",
    "\n",
    "print(design_tutorial_a, design_tutorial_b)"
   ]
  },
  {
   "cell_type": "markdown",
   "metadata": {},
   "source": [
    "# https://codeforces.com/problemset/problem/758/A\n",
    "\n",
    "<p align=\"center\">\n",
    "  <img src=\"../Images/problemset_img/problem_758A.png\" alt=\"Problem 758A\">\n",
    "</p>\n",
    "\n"
   ]
  },
  {
   "cell_type": "markdown",
   "metadata": {},
   "source": [
    "<div style=\"text-align:center;\">\n",
    "    <span style=\"color: green; font-weight: bold; font-size: 24px;\">SOLUTION 758A</span>\n",
    "</div>"
   ]
  },
  {
   "cell_type": "markdown",
   "metadata": {},
   "source": [
    "<div style=\"text-align:center;\">\n",
    "    <span style=\"color: red; font-weight: bold; font-size: 24px;\">PROBLEM 1343B</span>\n",
    "</div>"
   ]
  },
  {
   "cell_type": "markdown",
   "metadata": {},
   "source": [
    "# https://codeforces.com/problemset/problem/1343/B\n",
    "\n",
    "<p align=\"center\">\n",
    "  <img src=\"../Images/problemset_img/problem_1343B.png\" alt=\"Problem 1343B\">\n",
    "</p>\n",
    "\n"
   ]
  },
  {
   "cell_type": "code",
   "execution_count": 4,
   "metadata": {},
   "outputs": [
    {
     "name": "stdout",
     "output_type": "stream",
     "text": [
      "NO\n"
     ]
    }
   ],
   "source": [
    "for i in range(int(input())):\n",
    "    num_inner = int(input())\n",
    "\n",
    "    if num_inner % 4 != 0:\n",
    "        print(\"NO\")\n",
    "    else:\n",
    "        print(\"YES\")\n",
    "        print(\n",
    "            *range(2, num_inner + 1, 2),\n",
    "            *range(1, num_inner - 1, 2),\n",
    "            (3 * num_inner // 2 - 1),\n",
    "        )"
   ]
  },
  {
   "cell_type": "markdown",
   "metadata": {},
   "source": [
    "<div style=\"text-align:center;\">\n",
    "    <span style=\"color: red; font-weight: bold; font-size: 24px;\">PROBLEM 9A </span>\n",
    "</div>"
   ]
  },
  {
   "cell_type": "markdown",
   "metadata": {},
   "source": [
    "<div style=\"text-align:center;\">\n",
    "    <span style=\"color: green; font-weight: bold; font-size: 24px;\">SOLUTION 9A</span>\n",
    "</div>"
   ]
  },
  {
   "cell_type": "code",
   "execution_count": 10,
   "metadata": {},
   "outputs": [
    {
     "name": "stdout",
     "output_type": "stream",
     "text": [
      "2/3\n"
     ]
    }
   ],
   "source": [
    "var_x, var_y = map(int, input().split())\n",
    "\n",
    "max_result = var_x if var_x > var_y else var_y\n",
    "\n",
    "probability_win = 6 - (max_result - 1)\n",
    "\n",
    "max_n = 6\n",
    "\n",
    "9_a = (probability_win if max_n % probability_win != 0 else probability_win /\n",
    "     probability_win)\n",
    "\n",
    "9_b = max_n if a == probability_win else max_n / probability_win\n",
    "\n",
    "if 9_a % 2 == 0 and 9_b % 2 == 0:\n",
    "    9_a = 9_a / 2\n",
    "    9_b = 9_b / 2\n",
    "\n",
    "print(f\"{int(9_a)}/{int(9_b)}\")"
   ]
  },
  {
   "cell_type": "markdown",
   "metadata": {},
   "source": [
    "# https://codeforces.com/problemset/problem/1374/A\n",
    "\n",
    "<p align=\"center\">\n",
    "  <img src=\"../Images/problemset_img/problem_1374A.png\" alt=\"Problem 1374A\">\n",
    "</p>\n",
    "\n"
   ]
  },
  {
   "cell_type": "markdown",
   "metadata": {},
   "source": [
    "<div style=\"text-align:center;\">\n",
    "    <span style=\"color: green; font-weight: bold; font-size: 24px;\">SOLUTION 1374A</span>\n",
    "</div>"
   ]
  },
  {
   "cell_type": "markdown",
   "metadata": {},
   "source": [
    "<div style=\"text-align:center;\">\n",
    "    <span style=\"color: red; font-weight: bold; font-size: 24px;\">PROBLEM 1367B </span>\n",
    "</div>"
   ]
  },
  {
   "cell_type": "markdown",
   "metadata": {},
   "source": [
    "# https://codeforces.com/problemset/problem/1367/B\n",
    "\n",
    "<p align=\"center\">\n",
    "  <img src=\"../Images/problemset_img/problem_1367B.png\" alt=\"Problem 1367B\">\n",
    "</p>\n",
    "\n"
   ]
  },
  {
   "cell_type": "code",
   "execution_count": null,
   "metadata": {},
   "outputs": [
    {
     "name": "stdout",
     "output_type": "stream",
     "text": [
      "0\n"
     ]
    }
   ],
   "source": [
    "# Solution for Even Array task\n",
    "# \"\"\"\n",
    "# First line contains an integer t, the number of test cases.\n",
    "# Each test case starts with a line containing\n",
    "# an integer n  — the length of the array a.\n",
    "# The next line contains n integers the initial array\n",
    "\n",
    "# OUTPUT a single integer — the minimum number of moves to make\n",
    "# the given array a good, or -1 if this is not possible.\n",
    "# \"\"\"\n",
    "\n",
    "# for t in range(int(input())):\n",
    "#     n = int(input())\n",
    "#     arr = list(map(int, input.split()))"
   ]
  }
 ],
 "metadata": {
  "kernelspec": {
   "display_name": ".venv",
   "language": "python",
   "name": "python3"
  },
  "language_info": {
   "codemirror_mode": {
    "name": "ipython",
    "version": 3
   },
   "file_extension": ".py",
   "mimetype": "text/x-python",
   "name": "python",
   "nbconvert_exporter": "python",
   "pygments_lexer": "ipython3",
   "version": "3.10.12"
  },
  "orig_nbformat": 4
 },
 "nbformat": 4,
 "nbformat_minor": 2
}
