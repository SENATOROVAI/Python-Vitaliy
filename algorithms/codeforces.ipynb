{
 "cells": [
  {
   "cell_type": "markdown",
   "metadata": {},
   "source": [
    "<div style=\"text-align:center;\">\n",
    "    <span style=\"color: red; font-weight: bold; font-size: 24px;\">PROBLEM 4A</span>\n",
    "</div>"
   ]
  },
  {
   "cell_type": "markdown",
   "metadata": {},
   "source": [
    "# https://codeforces.com/problemset/problem/4/A\n",
    "\n",
    "One hot summer day Pete and his friend Billy decided to buy a watermelon. They chose the biggest and the ripest one, in their opinion. After that the watermelon was weighed, and the scales showed w kilos. They rushed home, dying of thirst, and decided to divide the berry, however they faced a hard problem.\n",
    "\n",
    "Pete and Billy are great fans of even numbers, that's why they want to divide the watermelon in such a way that each of the two parts weighs even number of kilos, at the same time it is not obligatory that the parts are equal. The boys are extremely tired and want to start their meal as soon as possible, that's why you should help them and find out, if they can divide the watermelon in the way they want. For sure, each of them should get a part of positive weight.\n",
    "\n",
    "# Input\n",
    "The first (and the only) input line contains integer number w (1 ≤ w ≤ 100) — the weight of the watermelon bought by the boys.\n",
    "\n",
    "# Output\n",
    "Print YES, if the boys can divide the watermelon into two parts, each of them weighing even number of kilos; and NO in the opposite case.\n",
    "\n"
   ]
  },
  {
   "cell_type": "markdown",
   "metadata": {},
   "source": [
    "<div style=\"text-align:center;\">\n",
    "    <span style=\"color: green; font-weight: bold; font-size: 24px;\">SOLUTION 4A</span>\n",
    "</div"
   ]
  },
  {
   "cell_type": "code",
   "execution_count": 1,
   "metadata": {},
   "outputs": [
    {
     "name": "stdout",
     "output_type": "stream",
     "text": [
      "No\n"
     ]
    }
   ],
   "source": [
    "watermelon_weight = int(input(\"Еnter the weight of the watermelon in kg\"))\n",
    "\n",
    "if watermelon_weight > 2 and watermelon_weight % 2 == 0:\n",
    "    print(\"Yes\")\n",
    "else:\n",
    "    print(\"No\")"
   ]
  },
  {
   "cell_type": "code",
   "execution_count": 9,
   "metadata": {},
   "outputs": [
    {
     "name": "stdout",
     "output_type": "stream",
     "text": [
      "No\n",
      "No\n",
      "No\n",
      "Yes\n",
      "No\n"
     ]
    }
   ],
   "source": [
    "# Another decision\n",
    "\n",
    "\n",
    "def watermelon_division(w):\n",
    "    return \"Yes\" if w > 2 and w % 2 == 0 else \"No\"\n",
    "\n",
    "\n",
    "print(watermelon_division(23))\n",
    "print(watermelon_division(27))\n",
    "print(watermelon_division(2))\n",
    "print(watermelon_division(34))\n",
    "print(watermelon_division(1))"
   ]
  },
  {
   "cell_type": "markdown",
   "metadata": {},
   "source": [
    "<div style=\"text-align:center;\">\n",
    "    <span style=\"color: red; font-weight: bold; font-size: 24px;\">PROBLEM 71A</span>\n",
    "</div>"
   ]
  },
  {
   "cell_type": "markdown",
   "metadata": {},
   "source": [
    "# https://codeforces.com/problemset/problem/71/A\n",
    "\n",
    "Sometimes some words like \"localization\" or \"internationalization\" are so long that writing them many times in one text is quite tiresome.\n",
    "\n",
    "Let's consider a word too long, if its length is strictly more than 10 characters. All too long words should be replaced with a special abbreviation.\n",
    "\n",
    "This abbreviation is made like this: we write down the first and the last letter of a word and between them we write the number of letters between the first and the last letters. That number is in decimal system and doesn't contain any leading zeroes.\n",
    "\n",
    "Thus, \"localization\" will be spelt as \"l10n\", and \"internationalization» will be spelt as \"i18n\".\n",
    "\n",
    "You are suggested to automatize the process of changing the words with abbreviations. At that all too long words should be replaced by the abbreviation and the words that are not too long should not undergo any changes.\n",
    "\n",
    "# Input\n",
    "The first line contains an integer n (1 ≤ n ≤ 100). Each of the following n lines contains one word. All the words consist of lowercase Latin letters and possess the lengths of from 1 to 100 characters.\n",
    "\n",
    "# Output\n",
    "Print n lines. The i-th line should contain the result of replacing of the i-th word from the input data."
   ]
  },
  {
   "cell_type": "markdown",
   "metadata": {},
   "source": [
    "<div style=\"text-align:center;\">\n",
    "    <span style=\"color: green; font-weight: bold; font-size: 24px;\">SOLUTION 71A</span>\n",
    "</div"
   ]
  },
  {
   "cell_type": "code",
   "execution_count": 2,
   "metadata": {},
   "outputs": [
    {
     "name": "stdout",
     "output_type": "stream",
     "text": [
      "Home\n",
      "H6e\n",
      "I7y\n",
      "\n",
      "M6e\n",
      "Star\n"
     ]
    }
   ],
   "source": [
    "# Decision №1\n",
    "\n",
    "\n",
    "def too_long(word):\n",
    "    if len(word) > 4:\n",
    "        return word[0] + str(len(word) - 2) + word[-1]\n",
    "    else:\n",
    "        return word\n",
    "\n",
    "\n",
    "print(too_long(\"Home\"))\n",
    "print(too_long(\"Homemade\"))\n",
    "print(too_long(\"Inventory\"))\n",
    "print(too_long(\"\"))\n",
    "print(too_long(\"Magazine\"))\n",
    "print(too_long(\"Star\"))"
   ]
  },
  {
   "cell_type": "code",
   "execution_count": 4,
   "metadata": {},
   "outputs": [
    {
     "name": "stdout",
     "output_type": "stream",
     "text": [
      "Home\n",
      "H6e\n",
      "I7y\n",
      "\n",
      "M6e\n",
      "Star\n"
     ]
    }
   ],
   "source": [
    "# Decision №2\n",
    "\n",
    "\n",
    "def too_long(word):\n",
    "    return word[0] + str(len(word) - 2) + word[-1] if len(word) > 4 else word\n",
    "\n",
    "\n",
    "print(too_long(\"Home\"))\n",
    "print(too_long(\"Homemade\"))\n",
    "print(too_long(\"Inventory\"))\n",
    "print(too_long(\"\"))\n",
    "print(too_long(\"Magazine\"))\n",
    "print(too_long(\"Star\"))"
   ]
  },
  {
   "cell_type": "markdown",
   "metadata": {},
   "source": [
    "<div style=\"text-align:center;\">\n",
    "    <span style=\"color: red; font-weight: bold; font-size: 24px;\">PROBLEM 231A</span>\n",
    "</div>"
   ]
  },
  {
   "cell_type": "markdown",
   "metadata": {},
   "source": [
    "# https://codeforces.com/problemset/problem/231/A\n",
    "\n",
    "One day three best friends Petya, Vasya and Tonya decided to form a team and take part in programming contests. Participants are usually offered several problems during programming contests. Long before the start the friends decided that they will implement a problem if at least two of them are sure about the solution. Otherwise, the friends won't write the problem's solution.\n",
    "\n",
    "This contest offers n problems to the participants. For each problem we know, which friend is sure about the solution. Help the friends find the number of problems for which they will write a solution.\n",
    "\n",
    "# Input\n",
    "The first input line contains a single integer n (1 ≤ n ≤ 1000) — the number of problems in the contest. Then n lines contain three integers each, each integer is either 0 or 1. If the first number in the line equals 1, then Petya is sure about the problem's solution, otherwise he isn't sure. The second number shows Vasya's view on the solution, the third number shows Tonya's view. The numbers on the lines are separated by spaces.\n",
    "\n",
    "# Output\n",
    "Print a single integer — the number of problems the friends will implement on the contest."
   ]
  },
  {
   "cell_type": "markdown",
   "metadata": {},
   "source": [
    "<div style=\"text-align:center;\">\n",
    "    <span style=\"color: green; font-weight: bold; font-size: 24px;\">SOLUTION 231A</span>\n",
    "</div"
   ]
  },
  {
   "cell_type": "code",
   "execution_count": null,
   "metadata": {},
   "outputs": [
    {
     "name": "stdout",
     "output_type": "stream",
     "text": [
      "2\n"
     ]
    }
   ],
   "source": [
    "first_input = int(input(\"Input a single integer n (1 ≤ n ≤ 1000): \"))\n",
    "\n",
    "solution_knowledge = 0\n",
    "\n",
    "for _ in range(first_input):\n",
    "    Petya, Vasya, Tonya = map(int, input().split())\n",
    "    if Petya + Vasya + Tonya >= 2:\n",
    "        solution_knowledge += 1\n",
    "\n",
    "print(solution_knowledge)"
   ]
  },
  {
   "cell_type": "markdown",
   "metadata": {},
   "source": [
    "<div style=\"text-align:center;\">\n",
    "    <span style=\"color: red; font-weight: bold; font-size: 24px;\">PROBLEM 158A</span>\n",
    "</div>"
   ]
  },
  {
   "cell_type": "markdown",
   "metadata": {},
   "source": [
    "# https://codeforces.com/problemset/problem/158/A\n",
    "\n",
    "\"Contestant who earns a score equal to or greater than the k-th place finisher's score will advance to the next round, as long as the contestant earns a positive score...\" — an excerpt from contest rules.\n",
    "\n",
    "A total of n participants took part in the contest (n ≥ k), and you already know their scores. Calculate how many participants will advance to the next round.\n",
    "\n",
    "# Input\n",
    "The first line of the input contains two integers n and k (1 ≤ k ≤ n ≤ 50) separated by a single space.\n",
    "\n",
    "The second line contains n space-separated integers a1, a2, ..., an (0 ≤ ai ≤ 100), where ai is the score earned by the participant who got the i-th place. The given sequence is non-increasing (that is, for all i from 1 to n - 1 the following condition is fulfilled: ai ≥ ai + 1).\n",
    "\n",
    "# Output\n",
    "Output the number of participants who advance to the next round."
   ]
  },
  {
   "cell_type": "markdown",
   "metadata": {},
   "source": [
    "<div style=\"text-align:center;\">\n",
    "    <span style=\"color: green; font-weight: bold; font-size: 24px;\">SOLUTION 158A</span>\n",
    "</div"
   ]
  },
  {
   "cell_type": "code",
   "execution_count": 5,
   "metadata": {},
   "outputs": [
    {
     "name": "stdout",
     "output_type": "stream",
     "text": [
      "4\n"
     ]
    }
   ],
   "source": [
    "n, k = map(int, input().split())\n",
    "scores = list(map(int, input().split()))\n",
    "\n",
    "k_place_score = scores[k - 1]\n",
    "\n",
    "qualifiers = 0\n",
    "\n",
    "for score in scores:\n",
    "    if score >= k_place_score and score > 0:\n",
    "        qualifiers += 1\n",
    "    else:\n",
    "        break\n",
    "\n",
    "print(qualifiers)"
   ]
  },
  {
   "cell_type": "markdown",
   "metadata": {},
   "source": [
    "<div style=\"text-align:center;\">\n",
    "    <span style=\"color: red; font-weight: bold; font-size: 24px;\">PROBLEM 50A</span>\n",
    "</div>"
   ]
  },
  {
   "cell_type": "markdown",
   "metadata": {},
   "source": [
    "# https://codeforces.com/problemset/problem/50/A\n",
    "\n",
    "You are given a rectangular board of M × N squares. Also you are given an unlimited number of standard domino pieces of 2 × 1 squares. You are allowed to rotate the pieces. You are asked to place as many dominoes as possible on the board so as to meet the following conditions:\n",
    "\n",
    "1. Each domino completely covers two squares.\n",
    "\n",
    "2. No two dominoes overlap.\n",
    "\n",
    "3. Each domino lies entirely inside the board. It is allowed to touch the edges of the board.\n",
    "\n",
    "Find the maximum number of dominoes, which can be placed under these restrictions.\n",
    "\n",
    "# Input\n",
    "In a single line you are given two integers M and N — board sizes in squares (1 ≤ M ≤ N ≤ 16).\n",
    "\n",
    "# Output\n",
    "Output one number — the maximal number of dominoes, which can be placed."
   ]
  },
  {
   "cell_type": "markdown",
   "metadata": {},
   "source": [
    "<div style=\"text-align:center;\">\n",
    "    <span style=\"color: green; font-weight: bold; font-size: 24px;\">SOLUTION 50A</span>\n",
    "</div>"
   ]
  },
  {
   "cell_type": "code",
   "execution_count": 4,
   "metadata": {},
   "outputs": [
    {
     "name": "stdout",
     "output_type": "stream",
     "text": [
      "5\n"
     ]
    }
   ],
   "source": [
    "M, N = map(int, input().split())\n",
    "\n",
    "# Метод  map используется для применения определенной функции к каждому итерируемому обьекту\n",
    "# Функция которую мы хотим применить передается первым параметром , а итерируемый обьект вторым.\n",
    "# split  розбивает строку на подстроки , по умолчанию используя пробел , результат метода\n",
    "# split  список  [\"1\", \"2\", \"3\"] , входящая же строка пользователя в таком случае  была:\n",
    "# 1 2 3.\n",
    "# * Итерируемые обьекты в python это списки , словари, строки , кортежи, множества.\n",
    "\n",
    "max_dominoes = (M * N) // 2\n",
    "\n",
    "print(max_dominoes)"
   ]
  },
  {
   "cell_type": "markdown",
   "metadata": {},
   "source": [
    "<div style=\"text-align:center;\">\n",
    "    <span style=\"color: red; font-weight: bold; font-size: 24px;\">PROBLEM 282A</span>\n",
    "</div>"
   ]
  },
  {
   "cell_type": "markdown",
   "metadata": {},
   "source": [
    "# https://codeforces.com/problemset/problem/282/A\n",
    "\n",
    "The classic programming language of Bitland is Bit++. This language is so peculiar and complicated.\n",
    "\n",
    "The language is that peculiar as it has exactly one variable, called x. Also, there are two operations:\n",
    "\n",
    "Operation ++ increases the value of variable x by 1.\n",
    "Operation -- decreases the value of variable x by 1.\n",
    "A statement in language Bit++ is a sequence, consisting of exactly one operation and one variable x. The statement is written without spaces, that is, it can only contain characters \"+\", \"-\", \"X\". Executing a statement means applying the operation it contains.\n",
    "\n",
    "A programme in Bit++ is a sequence of statements, each of them needs to be executed. Executing a programme means executing all the statements it contains.\n",
    "\n",
    "You're given a programme in language Bit++. The initial value of x is 0. Execute the programme and find its final value (the value of the variable when this programme is executed).\n",
    "\n",
    "# Input\n",
    "The first line contains a single integer n (1 ≤ n ≤ 150) — the number of statements in the programme.\n",
    "\n",
    "Next n lines contain a statement each. Each statement contains exactly one operation (++ or --) and exactly one variable x (denoted as letter «X»). Thus, there are no empty statements. The operation and the variable can be written in any order.\n",
    "\n",
    "# Output\n",
    "Print a single integer — the final value of x."
   ]
  },
  {
   "cell_type": "markdown",
   "metadata": {},
   "source": [
    "<div style=\"text-align:center;\">\n",
    "    <span style=\"color: green; font-weight: bold; font-size: 24px;\">SOLUTION 282A</span>\n",
    "</div>"
   ]
  },
  {
   "cell_type": "code",
   "execution_count": 10,
   "metadata": {},
   "outputs": [
    {
     "name": "stdout",
     "output_type": "stream",
     "text": [
      "-7\n"
     ]
    }
   ],
   "source": [
    "n = int(input(\"Input an integer\"))\n",
    "\n",
    "x = 0\n",
    "\n",
    "for _ in range(n):\n",
    "    operator = input(\"Input an one of following operators: '++' '--' \")\n",
    "\n",
    "    if \"++\" in operator:\n",
    "        x += 1\n",
    "    elif \"--\" in operator:\n",
    "        x -= 1\n",
    "    else:\n",
    "        print(\"Incorrect input\")\n",
    "\n",
    "print(x)"
   ]
  },
  {
   "cell_type": "markdown",
   "metadata": {},
   "source": [
    "<div style=\"text-align:center;\">\n",
    "    <span style=\"color: red; font-weight: bold; font-size: 24px;\">PROBLEM 263A</span>\n",
    "</div>"
   ]
  },
  {
   "cell_type": "markdown",
   "metadata": {},
   "source": [
    "# https://codeforces.com/problemset/problem/263/A\n",
    "\n",
    "You've got a 5 × 5 matrix, consisting of 24 zeroes and a single number one. Let's index the matrix rows by numbers from 1 to 5 from top to bottom, let's index the matrix columns by numbers from 1 to 5 from left to right. In one move, you are allowed to apply one of the two following transformations to the matrix:\n",
    "\n",
    "Swap two neighboring matrix rows, that is, rows with indexes i and i + 1 for some integer i (1 ≤ i < 5).\n",
    "Swap two neighboring matrix columns, that is, columns with indexes j and j + 1 for some integer j (1 ≤ j < 5).\n",
    "You think that a matrix looks beautiful, if the single number one of the matrix is located in its middle (in the cell that is on the intersection of the third row and the third column). Count the minimum number of moves needed to make the matrix beautiful.\n",
    "\n",
    "# Input\n",
    "The input consists of five lines, each line contains five integers: the j-th integer in the i-th line of the input represents the element of the matrix that is located on the intersection of the i-th row and the j-th column. It is guaranteed that the matrix consists of 24 zeroes and a single number one.\n",
    "\n",
    "# Output\n",
    "Print a single integer — the minimum number of moves needed to make the matrix beautiful."
   ]
  },
  {
   "cell_type": "markdown",
   "metadata": {},
   "source": [
    "<div style=\"text-align:center;\">\n",
    "    <span style=\"color: green; font-weight: bold; font-size: 24px;\">SOLUTION 263A</span>\n",
    "</div>"
   ]
  },
  {
   "cell_type": "code",
   "execution_count": 20,
   "metadata": {},
   "outputs": [
    {
     "name": "stdout",
     "output_type": "stream",
     "text": [
      "0\n"
     ]
    }
   ],
   "source": [
    "# solutin for codeforces\n",
    "matrix = []\n",
    "for i in range(5):\n",
    "    matrix.append([*map(int, input().split())])\n",
    "\n",
    "\n",
    "for i in range(5):\n",
    "    for j in range(5):\n",
    "        if matrix[i][j] == 1:\n",
    "            minimum_moves = abs(i - 2) + abs(j - 2)\n",
    "            print(minimum_moves)\n",
    "            break"
   ]
  },
  {
   "cell_type": "code",
   "execution_count": 27,
   "metadata": {},
   "outputs": [
    {
     "name": "stdout",
     "output_type": "stream",
     "text": [
      "4\n",
      "3\n",
      "2\n",
      "0\n",
      "4\n"
     ]
    }
   ],
   "source": [
    "# test for solution\n",
    "matrix = [\n",
    "    [1, 0, 0, 1, 0],\n",
    "    [0, 0, 0, 0, 0],\n",
    "    [1, 0, 1, 0, 0],\n",
    "    [0, 0, 0, 0, 0],\n",
    "    [0, 0, 0, 0, 1],\n",
    "]\n",
    "\n",
    "for i in range(5):\n",
    "    for j in range(5):\n",
    "        if matrix[i][j] == 1:\n",
    "            minimum_moves = abs(i - 2) + abs(j - 2)\n",
    "            print(minimum_moves)"
   ]
  },
  {
   "cell_type": "markdown",
   "metadata": {},
   "source": [
    "<div style=\"text-align:center;\">\n",
    "    <span style=\"color: red; font-weight: bold; font-size: 24px;\">PROBLEM 112A</span>\n",
    "</div>"
   ]
  },
  {
   "cell_type": "markdown",
   "metadata": {},
   "source": [
    "# https://codeforces.com/problemset/problem/112/A\n",
    "\n",
    "Little Petya loves presents. His mum bought him two strings of the same size for his birthday. The strings consist of uppercase and lowercase Latin letters. Now Petya wants to compare those two strings lexicographically. The letters' case does not matter, that is an uppercase letter is considered equivalent to the corresponding lowercase letter. Help Petya perform the comparison.\n",
    "\n",
    "# Input\n",
    "Each of the first two lines contains a bought string. The strings' lengths range from 1 to 100 inclusive. It is guaranteed that the strings are of the same length and also consist of uppercase and lowercase Latin letters.\n",
    "\n",
    "# Output\n",
    "If the first string is less than the second one, print \"-1\". If the second string is less than the first one, print \"1\". If the strings are equal, print \"0\". Note that the letters' case is not taken into consideration when the strings are compared."
   ]
  },
  {
   "cell_type": "markdown",
   "metadata": {},
   "source": [
    "<div style=\"text-align:center;\">\n",
    "    <span style=\"color: green; font-weight: bold; font-size: 24px;\">SOLUTION 112A</span>\n",
    "</div>"
   ]
  },
  {
   "cell_type": "code",
   "execution_count": null,
   "metadata": {},
   "outputs": [],
   "source": [
    "# solution for codeforces\n",
    "\n",
    "string_1 = input().lower\n",
    "string_2 = input().lower\n",
    "\n",
    "if string_1 > string_2:\n",
    "    print(\"1\")\n",
    "elif string_2 > string_1:\n",
    "    print(\"-1\")\n",
    "elif string_1 == string_2:\n",
    "    print(\"0\")"
   ]
  },
  {
   "cell_type": "code",
   "execution_count": 38,
   "metadata": {},
   "outputs": [
    {
     "name": "stdout",
     "output_type": "stream",
     "text": [
      "1\n",
      "-1\n",
      "0\n"
     ]
    }
   ],
   "source": [
    "# test\n",
    "\n",
    "\n",
    "def string_comparison(string_1, string_2):\n",
    "    if string_1 > string_2:\n",
    "        return \"1\"\n",
    "    elif string_2 > string_1:\n",
    "        return \"-1\"\n",
    "    elif string_1 == string_2:\n",
    "        return \"0\"\n",
    "\n",
    "\n",
    "string_1 = \"aaa\"\n",
    "string_2 = \"aaA\"\n",
    "compare_strings_1 = string_comparison(string_1, string_2)\n",
    "\n",
    "string_1 = \"bOwl\"\n",
    "string_2 = \"bowl\"\n",
    "compare_strings_2 = string_comparison(string_1, string_2)\n",
    "\n",
    "string_1 = \"\"\n",
    "string_2 = \"\"\n",
    "compare_strings_3 = string_comparison(string_1, string_2)\n",
    "\n",
    "print(compare_strings_1 + \"\\n\" + compare_strings_2 + \"\\n\" + compare_strings_3)"
   ]
  },
  {
   "cell_type": "markdown",
   "metadata": {},
   "source": [
    "<div style=\"text-align:center;\">\n",
    "    <span style=\"color: red; font-weight: bold; font-size: 24px;\">PROBLEM 339A</span>\n",
    "</div>"
   ]
  },
  {
   "cell_type": "markdown",
   "metadata": {},
   "source": [
    "# https://codeforces.com/problemset/problem/339/A\n",
    "\n",
    "Xenia the beginner mathematician is a third year student at elementary school. She is now learning the addition operation.\n",
    "\n",
    "The teacher has written down the sum of multiple numbers. Pupils should calculate the sum. To make the calculation easier, the sum only contains numbers 1, 2 and 3. Still, that isn't enough for Xenia. She is only beginning to count, so she can calculate a sum only if the summands follow in non-decreasing order. For example, she can't calculate sum 1+3+2+1 but she can calculate sums 1+1+2 and 3+3.\n",
    "\n",
    "You've got the sum that was written on the board. Rearrange the summans and print the sum in such a way that Xenia can calculate the sum.\n",
    "\n",
    "# Input\n",
    "The first line contains a non-empty string s — the sum Xenia needs to count. String s contains no spaces. It only contains digits and characters \"+\". Besides, string s is a correct sum of numbers 1, 2 and 3. String s is at most 100 characters long.\n",
    "\n",
    "# Output\n",
    "Print the new sum that Xenia can count."
   ]
  },
  {
   "cell_type": "markdown",
   "metadata": {},
   "source": [
    "<div style=\"text-align:center;\">\n",
    "    <span style=\"color: green; font-weight: bold; font-size: 24px;\">SOLUTION 339A</span>\n",
    "</div>"
   ]
  },
  {
   "cell_type": "code",
   "execution_count": 52,
   "metadata": {},
   "outputs": [
    {
     "name": "stdout",
     "output_type": "stream",
     "text": [
      "0+1+1+1+2+2+2+2+2+3+3+4+5\n"
     ]
    }
   ],
   "source": [
    "s = input()\n",
    "\n",
    "digits = []\n",
    "non_digits = []\n",
    "\n",
    "for char in s:\n",
    "    if char.isdigit():\n",
    "        digits.append(int(char))\n",
    "    elif char == \"+\":\n",
    "        non_digits.append(char)\n",
    "\n",
    "sorted_digits = sorted(digits)\n",
    "\n",
    "result = str(sorted_digits[0]) + \"\".join(\n",
    "    \"+\" + str(digit) for digit in sorted_digits[1:]\n",
    ")\n",
    "\n",
    "print(result)"
   ]
  },
  {
   "cell_type": "code",
   "execution_count": 55,
   "metadata": {},
   "outputs": [
    {
     "name": "stdout",
     "output_type": "stream",
     "text": [
      "Input: 2, Output: 2\n",
      "Input: 1+3+1+2, Output: 1+1+2+3\n",
      "Input: 2+2+1+4+1+3, Output: 1+1+2+2+3+4\n",
      "Input: 2+3+1, Output: 1+2+3\n"
     ]
    }
   ],
   "source": [
    "# test\n",
    "def process_input(input_string):\n",
    "    digits = []\n",
    "    non_digits = []\n",
    "    for char in input_string:\n",
    "        if char.isdigit():\n",
    "            digits.append(int(char))\n",
    "        elif char == \"+\":\n",
    "            non_digits.append(char)\n",
    "    sorted_digits = sorted(digits)\n",
    "    result = str(sorted_digits[0]) + \"\".join(\n",
    "        \"+\" + str(digit) for digit in sorted_digits[1:]\n",
    "    )\n",
    "    return result\n",
    "\n",
    "\n",
    "# Test cases\n",
    "test_inputs = [\"2\", \"1+3+1+2\", \"2+2+1+4+1+3\", \"2+3+1\"]\n",
    "\n",
    "for input_string in test_inputs:\n",
    "    output = process_input(input_string)\n",
    "    print(f\"Input: {input_string}, Output: {output}\")"
   ]
  },
  {
   "cell_type": "markdown",
   "metadata": {},
   "source": [
    "<div style=\"text-align:center;\">\n",
    "    <span style=\"color: red; font-weight: bold; font-size: 24px;\">PROBLEM 281A</span>\n",
    "</div>"
   ]
  },
  {
   "cell_type": "markdown",
   "metadata": {},
   "source": [
    "# https://codeforces.com/problemset/problem/281/A\n",
    "\n",
    "Capitalization is writing a word with its first letter as a capital letter. Your task is to capitalize the given word.\n",
    "\n",
    "Note, that during capitalization all the letters except the first one remains unchanged.\n",
    "\n",
    "# Input\n",
    "A single line contains a non-empty word. This word consists of lowercase and uppercase English letters. The length of the word will not exceed 103.\n",
    "\n",
    "# Output\n",
    "Output the given word after capitalization."
   ]
  },
  {
   "cell_type": "markdown",
   "metadata": {},
   "source": [
    "<div style=\"text-align:center;\">\n",
    "    <span style=\"color: green; font-weight: bold; font-size: 24px;\">SOLUTION 281A</span>\n",
    "</div>"
   ]
  },
  {
   "cell_type": "code",
   "execution_count": 64,
   "metadata": {},
   "outputs": [
    {
     "name": "stdout",
     "output_type": "stream",
     "text": [
      "ToeRlsW\n"
     ]
    }
   ],
   "source": [
    "# solution codeforces\n",
    "\n",
    "single_line = input()\n",
    "\n",
    "first_letter = single_line[0].capitalize()\n",
    "\n",
    "last_word = single_line[1:]\n",
    "\n",
    "final_word = first_letter + last_word"
   ]
  },
  {
   "cell_type": "code",
   "execution_count": 112,
   "metadata": {},
   "outputs": [
    {
     "name": "stdout",
     "output_type": "stream",
     "text": [
      "CAnTal\n"
     ]
    }
   ],
   "source": [
    "# another solution\n",
    "\n",
    "word = input().strip()\n",
    "\n",
    "# Capitalize the first letter and keep the rest unchanged\n",
    "capitalized_word = word[0].upper() + word[1:]\n",
    "\n",
    "# Output the capitalized word\n",
    "print(capitalized_word)"
   ]
  },
  {
   "cell_type": "code",
   "execution_count": 110,
   "metadata": {},
   "outputs": [
    {
     "name": "stdout",
     "output_type": "stream",
     "text": [
      "WRong\n",
      "PyTHon\n",
      "Class\n",
      "All tests are succesful!\n"
     ]
    }
   ],
   "source": [
    "# tests for first solution\n",
    "\n",
    "list_words = [\n",
    "    [\"wRong\", \"WRong\"],\n",
    "    [\"pyTHon\", \"PyTHon\"],\n",
    "    [\"class\", \"Class\"],\n",
    "]\n",
    "\n",
    "\n",
    "for (\n",
    "    test_data,\n",
    "    expected_output,\n",
    ") in list_words:  # use test_data and expected_output to split list for two words\n",
    "    first_letter = test_data[\n",
    "        0\n",
    "    ].capitalize()  # assign & capitalize first letter from first word in this iteration and assi\n",
    "    last_word = test_data[1:]  # assign last part of word\n",
    "    final_word = first_letter + last_word\n",
    "    print(final_word)\n",
    "    assert (\n",
    "        final_word == expected_output\n",
    "    ), f\"Failure: input{test_data} output{final_word}, expected{expected_output}\"\n",
    "\n",
    "print(\"All tests are succesful!\")"
   ]
  },
  {
   "cell_type": "markdown",
   "metadata": {},
   "source": [
    "<div style=\"text-align:center;\">\n",
    "    <span style=\"color: red; font-weight: bold; font-size: 24px;\">PROBLEM 617A</span>\n",
    "</div>"
   ]
  },
  {
   "cell_type": "markdown",
   "metadata": {},
   "source": [
    "# https://codeforces.com/problemset/problem/617/A\n",
    "\n",
    "An elephant decided to visit his friend. It turned out that the elephant's house is located at point 0 and his friend's house is located at point x(x > 0) of the coordinate line. In one step the elephant can move 1, 2, 3, 4 or 5 positions forward. Determine, what is the minimum number of steps he need to make in order to get to his friend's house.\n",
    "\n",
    "# Input\n",
    "The first line of the input contains an integer x (1 ≤ x ≤ 1 000 000) — The coordinate of the friend's house.\n",
    "\n",
    "# Output\n",
    "Print the minimum number of steps that elephant needs to make to get from point 0 to point x."
   ]
  },
  {
   "cell_type": "markdown",
   "metadata": {},
   "source": [
    "<div style=\"text-align:center;\">\n",
    "    <span style=\"color: green; font-weight: bold; font-size: 24px;\">SOLUTION 617A</span>\n",
    "</div>"
   ]
  },
  {
   "cell_type": "code",
   "execution_count": 30,
   "metadata": {},
   "outputs": [
    {
     "name": "stdout",
     "output_type": "stream",
     "text": [
      "2\n"
     ]
    }
   ],
   "source": [
    "# elephant can do 1,2,3,4,5 steps at a time\n",
    "# need to find minimum number of steps to get the friend`s house\n",
    "\n",
    "n = int(input())\n",
    "\n",
    "steps_q = 0\n",
    "\n",
    "# if n less or equal\n",
    "if 1 <= n <= 5:\n",
    "    steps_q += n // n\n",
    "elif n > 5:\n",
    "    steps_q += n // 5 + (1 if n % 5 != 0 else 0)\n",
    "\n",
    "print(steps_q)"
   ]
  },
  {
   "cell_type": "markdown",
   "metadata": {},
   "source": [
    "<div style=\"text-align:center;\">\n",
    "    <span style=\"color: red; font-weight: bold; font-size: 24px;\">PROBLEM 486A</span>\n",
    "</div>"
   ]
  },
  {
   "cell_type": "markdown",
   "metadata": {},
   "source": [
    "# https://codeforces.com/problemset/problem/486/A\n",
    "\n",
    "For a positive integer n let's define a function f:\n",
    "\n",
    "f(n) =  - 1 + 2 - 3 + .. + ( - 1)**n * n\n",
    "\n",
    "Your task is to calculate f(n) for a given integer n.\n",
    "\n",
    "# Input\n",
    "The single line contains the positive integer n (1 ≤ n ≤ 1015).\n",
    "\n",
    "# Output\n",
    "Print f(n) in a single line."
   ]
  },
  {
   "cell_type": "markdown",
   "metadata": {},
   "source": [
    "<div style=\"text-align:center;\">\n",
    "    <span style=\"color: green; font-weight: bold; font-size: 24px;\">SOLUTION 486A</span>\n",
    "</div>"
   ]
  },
  {
   "cell_type": "code",
   "execution_count": 10,
   "metadata": {},
   "outputs": [
    {
     "name": "stdout",
     "output_type": "stream",
     "text": [
      "-3\n"
     ]
    }
   ],
   "source": [
    "# to solve this problem we can use formula for alternating arithmetic progression\n",
    "\n",
    "n = int(input())\n",
    "\n",
    "result = n // 2 if n % 2 == 0 else -((n + 1) // 2)\n",
    "\n",
    "# здесь я использовал то свойство данного вида прогрессии такое что:\n",
    "# cумма такого вида прогресси всегда имеет повторяющиеся числа начиная с\n",
    "# второй суммы, то есть сумма первых трех членов -2 ,\n",
    "# первых четырех же 2 и так далее , а значит сумма парного члена прогрессии\n",
    "# будет равна его половине , а сумма не парного будет равна половине следующего\n",
    "# после непарного числа но со знаком -\n",
    "\n",
    "print(result)"
   ]
  },
  {
   "cell_type": "markdown",
   "metadata": {},
   "source": [
    "<div style=\"text-align:center;\">\n",
    "    <span style=\"color: red; font-weight: bold; font-size: 24px;\">PROBLEM 200B</span>\n",
    "</div>"
   ]
  },
  {
   "cell_type": "markdown",
   "metadata": {},
   "source": [
    "# https://codeforces.com/problemset/problem/200/B\n",
    "\n",
    "Little Vasya loves orange juice very much. That's why any food and drink in his kitchen necessarily contains orange juice. There are n drinks in his fridge, the volume fraction of orange juice in the i-th drink equals pi percent.\n",
    "\n",
    "One day Vasya decided to make himself an orange cocktail. He took equal proportions of each of the n drinks and mixed them. Then he wondered, how much orange juice the cocktail has.\n",
    "\n",
    "Find the volume fraction of orange juice in the final drink.\n",
    "\n",
    "# Input\n",
    "\n",
    "* The first input line contains a single integer n (1 ≤ n ≤ 100) — the number of orange-containing drinks in Vasya's fridge. \n",
    "* The second line contains n integers pi (0 ≤ pi ≤ 100) — the volume fraction of orange juice in the i-th drink, in percent. \n",
    "* The numbers are separated by a space.\n",
    "\n",
    "# Output\n",
    "\n",
    "* Print the volume fraction in percent of orange juice in Vasya's cocktail. \n",
    "* The answer will be considered correct if the absolute or relative error does not exceed 10  - 4."
   ]
  },
  {
   "cell_type": "markdown",
   "metadata": {},
   "source": [
    "<div style=\"text-align:center;\">\n",
    "    <span style=\"color: green; font-weight: bold; font-size: 24px;\">SOLUTION 200B</span>\n",
    "</div>"
   ]
  },
  {
   "cell_type": "code",
   "execution_count": 5,
   "metadata": {},
   "outputs": [
    {
     "name": "stdout",
     "output_type": "stream",
     "text": [
      "66.66666666666667\n"
     ]
    }
   ],
   "source": [
    "orange_drinks = int(input())\n",
    "\n",
    "volume = list(map(int, input().split()))\n",
    "\n",
    "volume_frac = sum(volume) / orange_drinks\n",
    "\n",
    "print(volume_frac)"
   ]
  },
  {
   "cell_type": "markdown",
   "metadata": {},
   "source": [
    "<div style=\"text-align:center;\">\n",
    "    <span style=\"color: red; font-weight: bold; font-size: 24px;\">PROBLEM 1328A</span>\n",
    "</div>"
   ]
  },
  {
   "cell_type": "markdown",
   "metadata": {},
   "source": [
    "# https://codeforces.com/problemset/problem/1328/A\n",
    "\n",
    "<p align=\"center\">\n",
    "  <img src=\"../Images/problemset_img/problem_1328A.png\" alt=\"Problem 1328A\">\n",
    "</p>\n"
   ]
  },
  {
   "cell_type": "markdown",
   "metadata": {},
   "source": [
    "<div style=\"text-align:center;\">\n",
    "    <span style=\"color: green; font-weight: bold; font-size: 24px;\">SOLUTION 1328A</span>\n",
    "</div>"
   ]
  },
  {
   "cell_type": "code",
   "execution_count": 9,
   "metadata": {},
   "outputs": [
    {
     "name": "stdout",
     "output_type": "stream",
     "text": [
      "0\n",
      "2\n",
      "3\n"
     ]
    }
   ],
   "source": [
    "num_cases = int(input())\n",
    "\n",
    "count_steps = 0\n",
    "\n",
    "for x in range(num_cases):\n",
    "    a, b = map(int, input().split())\n",
    "    if a % b == 0:\n",
    "        print(0)\n",
    "    else:\n",
    "        count_steps = b - a % b\n",
    "        print(count_steps)"
   ]
  },
  {
   "cell_type": "markdown",
   "metadata": {},
   "source": [
    "<div style=\"text-align:center;\">\n",
    "    <span style=\"color: red; font-weight: bold; font-size: 24px;\">PROBLEM 148A</span>\n",
    "</div>"
   ]
  },
  {
   "cell_type": "markdown",
   "metadata": {},
   "source": [
    "# https://codeforces.com/problemset/problem/148/A\n",
    "\n",
    "<p align=\"center\">\n",
    "  <img src=\"../Images/problemset_img/problem_148_A.png\" alt=\"Problem 1328A\">\n",
    "</p>\n"
   ]
  },
  {
   "cell_type": "markdown",
   "metadata": {},
   "source": [
    "<div style=\"text-align:center;\">\n",
    "    <span style=\"color: green; font-weight: bold; font-size: 24px;\">SOLUTION 148A</span>\n",
    "</div>"
   ]
  },
  {
   "cell_type": "code",
   "execution_count": 12,
   "metadata": {},
   "outputs": [
    {
     "name": "stdout",
     "output_type": "stream",
     "text": [
      "30\n"
     ]
    }
   ],
   "source": [
    "k = int(input())\n",
    "l = int(input())\n",
    "m = int(input())\n",
    "n = int(input())\n",
    "d = int(input())\n",
    "\n",
    "result = 0\n",
    "\n",
    "for i in range(1, d + 1):\n",
    "    if any(i % x == 0 for x in [k, l, m, n]):\n",
    "        # use this check as sometimes number of dragons for example can be divided  3 and 4\n",
    "        # it means 12 dragon was beaten twice but that`s still one dragon\n",
    "        # and we should care about that\n",
    "        result += 1\n",
    "\n",
    "print(result)"
   ]
  },
  {
   "cell_type": "markdown",
   "metadata": {},
   "source": [
    "<div style=\"text-align:center;\">\n",
    "    <span style=\"color: red; font-weight: bold; font-size: 24px;\">PROBLEM 1335A</span>\n",
    "</div>"
   ]
  },
  {
   "cell_type": "markdown",
   "metadata": {},
   "source": [
    "# https://codeforces.com/problemset/problem/1335/A\n",
    "\n",
    "<p align=\"center\">\n",
    "  <img src=\"../Images/problemset_img/problem_1335A.png\" alt=\"Problem 1335A\">\n",
    "</p>\n"
   ]
  },
  {
   "cell_type": "markdown",
   "metadata": {},
   "source": [
    "<div style=\"text-align:center;\">\n",
    "    <span style=\"color: green; font-weight: bold; font-size: 24px;\">SOLUTION 1335A</span>\n",
    "</div>"
   ]
  },
  {
   "cell_type": "code",
   "execution_count": 25,
   "metadata": {},
   "outputs": [
    {
     "name": "stdout",
     "output_type": "stream",
     "text": [
      "0\n",
      "2\n"
     ]
    }
   ],
   "source": [
    "# solution\n",
    "\n",
    "test_cases = int(input())\n",
    "\n",
    "for i in range(test_cases):\n",
    "    candies_q = int(input())\n",
    "    if candies_q < 3:\n",
    "        ways_n = 0\n",
    "    else:\n",
    "        if candies_q % 2 == 1:\n",
    "            ways_n = candies_q // 2\n",
    "        else:\n",
    "            ways_n = candies_q // 2 - 1\n",
    "\n",
    "    print(ways_n)\n"
   ]
  }
 ],
 "metadata": {
  "kernelspec": {
   "display_name": ".venv",
   "language": "python",
   "name": "python3"
  },
  "language_info": {
   "codemirror_mode": {
    "name": "ipython",
    "version": 3
   },
   "file_extension": ".py",
   "mimetype": "text/x-python",
   "name": "python",
   "nbconvert_exporter": "python",
   "pygments_lexer": "ipython3",
   "version": "3.10.12"
  },
  "orig_nbformat": 4
 },
 "nbformat": 4,
 "nbformat_minor": 2
}
